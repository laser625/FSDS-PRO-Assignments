{
  "cells": [
    {
      "cell_type": "markdown",
      "metadata": {
        "id": "view-in-github",
        "colab_type": "text"
      },
      "source": [
        "<a href=\"https://colab.research.google.com/github/laser625/FSDS-PRO-Assignments/blob/main/For_Loop_Assignment.ipynb\" target=\"_parent\"><img src=\"https://colab.research.google.com/assets/colab-badge.svg\" alt=\"Open In Colab\"/></a>"
      ]
    },
    {
      "cell_type": "code",
      "execution_count": null,
      "id": "2ac0fc77-b6ad-46e4-a8dd-5d824225b752",
      "metadata": {
        "id": "2ac0fc77-b6ad-46e4-a8dd-5d824225b752"
      },
      "outputs": [],
      "source": [
        "#Basic Level:\n"
      ]
    },
    {
      "cell_type": "code",
      "execution_count": null,
      "id": "9fcf67ae-4a71-4b9f-afd6-5091c9b831c9",
      "metadata": {
        "id": "9fcf67ae-4a71-4b9f-afd6-5091c9b831c9",
        "outputId": "0b3e38c9-c1e8-4418-f30a-8d6d17f7e075"
      },
      "outputs": [
        {
          "name": "stdout",
          "output_type": "stream",
          "text": [
            "1\n",
            "2\n",
            "3\n",
            "4\n",
            "5\n",
            "6\n",
            "7\n",
            "8\n",
            "9\n",
            "10\n"
          ]
        }
      ],
      "source": [
        "#1. Write a Python program to print the numbers from 1 to 10 using a `for` loop\n",
        "\n",
        "for num in range(1, 11):\n",
        "    print(num)"
      ]
    },
    {
      "cell_type": "code",
      "execution_count": null,
      "id": "d936906e-0485-49a3-88cc-aac123f644d8",
      "metadata": {
        "id": "d936906e-0485-49a3-88cc-aac123f644d8",
        "outputId": "4b459b2e-be86-4d29-a44a-f8c705c013ca"
      },
      "outputs": [
        {
          "name": "stdout",
          "output_type": "stream",
          "text": [
            "55\n"
          ]
        }
      ],
      "source": [
        "#2. Create a program that calculates the sum of all numbers in a list using a `for` loop.\n",
        "\n",
        "numbers = [1, 2, 3, 4, 5, 6, 7, 8, 9, 10]\n",
        "\n",
        "total_sum = 0\n",
        "\n",
        "for num in numbers:\n",
        "    total_sum += num\n",
        "\n",
        "print(total_sum)"
      ]
    },
    {
      "cell_type": "code",
      "execution_count": null,
      "id": "364698b5-3ec5-4f2e-8466-b500655c2ad6",
      "metadata": {
        "id": "364698b5-3ec5-4f2e-8466-b500655c2ad6",
        "outputId": "0ccebded-3821-4f90-f973-6f98ac3c7505"
      },
      "outputs": [
        {
          "name": "stdout",
          "output_type": "stream",
          "text": [
            "ahihcU aradaM\n"
          ]
        }
      ],
      "source": [
        "#3. Write a program to print the characters of a string in reverse order using a `for` loop\n",
        "\n",
        "string = (\"Madara Uchiha\")\n",
        "\n",
        "reversed_string = \"\"\n",
        "\n",
        "for char in reversed(string):\n",
        "    reversed_string += char\n",
        "\n",
        "print(reversed_string)"
      ]
    },
    {
      "cell_type": "code",
      "execution_count": null,
      "id": "f42a587d-a7b9-4471-b6cb-aedd920ec86c",
      "metadata": {
        "id": "f42a587d-a7b9-4471-b6cb-aedd920ec86c",
        "outputId": "bec064c0-b8db-4a3c-dbc7-181c34edaf04"
      },
      "outputs": [
        {
          "name": "stdin",
          "output_type": "stream",
          "text": [
            "enter the number 5\n"
          ]
        },
        {
          "name": "stdout",
          "output_type": "stream",
          "text": [
            "the factorial of 5 is:120\n"
          ]
        }
      ],
      "source": [
        "#4. Develop a program that finds the factorial of a given number using a `for` loop.\n",
        "\n",
        "number = int(input(\"enter the number\"))\n",
        "\n",
        "factorial = 1\n",
        "\n",
        "for i in range(1, number + 1):\n",
        "    factorial *= i\n",
        "\n",
        "print(f\"the factorial of {number} is:{factorial}\")"
      ]
    },
    {
      "cell_type": "code",
      "execution_count": null,
      "id": "ee1da5a5-9a49-4f68-ab27-64d14da25ada",
      "metadata": {
        "id": "ee1da5a5-9a49-4f68-ab27-64d14da25ada",
        "outputId": "dfcaf69f-131f-48bc-e6cc-13250720952e"
      },
      "outputs": [
        {
          "name": "stdin",
          "output_type": "stream",
          "text": [
            "enter the number: 7\n"
          ]
        },
        {
          "name": "stdout",
          "output_type": "stream",
          "text": [
            "7 x 1 = 7 \n",
            "7 x 2 = 14 \n",
            "7 x 3 = 21 \n",
            "7 x 4 = 28 \n",
            "7 x 5 = 35 \n",
            "7 x 6 = 42 \n",
            "7 x 7 = 49 \n",
            "7 x 8 = 56 \n",
            "7 x 9 = 63 \n",
            "7 x 10 = 70 \n"
          ]
        }
      ],
      "source": [
        "#5. Create a program to print the multiplication table of a given number using a `for` loop.\n",
        "\n",
        "num = int(input(\"enter the number:\"))\n",
        "\n",
        "for i in range(1, 11):\n",
        "    result = num * i\n",
        "    print(f\"{num} x {i} = {result} \")"
      ]
    },
    {
      "cell_type": "code",
      "execution_count": null,
      "id": "2966d942-5215-4e97-8b50-d5bda69a2956",
      "metadata": {
        "id": "2966d942-5215-4e97-8b50-d5bda69a2956",
        "outputId": "a51bec62-2110-4d44-eac4-623bce7b07e8"
      },
      "outputs": [
        {
          "name": "stdout",
          "output_type": "stream",
          "text": [
            "even count : 5\n",
            "odd count : 5\n"
          ]
        }
      ],
      "source": [
        "#6. Write a program that counts the number of even and odd numbers in a list using a `for` loop.\n",
        "\n",
        "number_list = [1,2,3,4,5,6,7,8,9,10]\n",
        "\n",
        "even_count = 0\n",
        "odd_count = 0\n",
        "\n",
        "for num in number_list:\n",
        "    if num % 2 == 0:\n",
        "        even_count += 1\n",
        "    else:\n",
        "        odd_count += 1\n",
        "\n",
        "print(\"even count :\",even_count)\n",
        "print(\"odd count :\" ,odd_count)"
      ]
    },
    {
      "cell_type": "code",
      "execution_count": null,
      "id": "d800010f-fd83-448f-a2ce-f259e084f16c",
      "metadata": {
        "id": "d800010f-fd83-448f-a2ce-f259e084f16c",
        "outputId": "bfbf8452-e284-4e81-c772-b90c4588f201"
      },
      "outputs": [
        {
          "name": "stdout",
          "output_type": "stream",
          "text": [
            "1\n",
            "4\n",
            "9\n",
            "16\n",
            "25\n"
          ]
        }
      ],
      "source": [
        "#7. Develop a program that prints the squares of numbers from 1 to 5 using a `for` loop.\n",
        "\n",
        "for num in range(1, 6):\n",
        "    squares_num = (num * num)\n",
        "    print(squares_num)"
      ]
    },
    {
      "cell_type": "code",
      "execution_count": null,
      "id": "c5620ad6-2a2b-4777-ae89-bcf73065c70c",
      "metadata": {
        "id": "c5620ad6-2a2b-4777-ae89-bcf73065c70c",
        "outputId": "682b7684-b3b2-4272-b6c7-262c5ea03f62"
      },
      "outputs": [
        {
          "name": "stdout",
          "output_type": "stream",
          "text": [
            "length: 8\n"
          ]
        }
      ],
      "source": [
        "#8. Create a program to find the length of a string without using the `len()` function.\n",
        "\n",
        "string = (\"faceless\")\n",
        "\n",
        "length = 0\n",
        "\n",
        "for char in string:\n",
        "    length += 1\n",
        "\n",
        "print(\"length:\" ,length)"
      ]
    },
    {
      "cell_type": "code",
      "execution_count": null,
      "id": "79bbabc8-b431-4c57-a41e-540f1f4f758b",
      "metadata": {
        "id": "79bbabc8-b431-4c57-a41e-540f1f4f758b",
        "outputId": "af20d2b9-b8b9-40bb-fa65-1ac3657f9477"
      },
      "outputs": [
        {
          "name": "stdout",
          "output_type": "stream",
          "text": [
            "3.5\n"
          ]
        }
      ],
      "source": [
        "#9. Write a program that calculates the average of a list of numbers using a `for` loop'\n",
        "\n",
        "numbers = [1,2,3,4,5,6]\n",
        "\n",
        "total = 0\n",
        "\n",
        "for num in numbers:\n",
        "    total += num\n",
        "\n",
        "average = total / len(numbers)\n",
        "\n",
        "print(average)"
      ]
    },
    {
      "cell_type": "code",
      "execution_count": null,
      "id": "1d945fb4-993b-4e4f-b51e-aa45fd6cc8f1",
      "metadata": {
        "id": "1d945fb4-993b-4e4f-b51e-aa45fd6cc8f1",
        "outputId": "c5ca119d-f624-4d6a-f901-2aa31f7f1311"
      },
      "outputs": [
        {
          "name": "stdin",
          "output_type": "stream",
          "text": [
            "Enter the first fibonacci number 8\n"
          ]
        },
        {
          "name": "stdout",
          "output_type": "stream",
          "text": [
            "0\n",
            "1\n",
            "1\n",
            "2\n",
            "3\n",
            "5\n",
            "8\n",
            "13\n"
          ]
        }
      ],
      "source": [
        "#10. Develop a program that prints the first `n` Fibonacci numbers using a `for` loop.\n",
        "\n",
        "n = int(input(\"Enter the first fibonacci number\"))\n",
        "\n",
        "a, b = 0, 1\n",
        "\n",
        "if n <= 0 :\n",
        "    print(\"no fibonacci numbers to print\")\n",
        "elif n== 1:\n",
        "    print(a)\n",
        "else:\n",
        "    print(a)\n",
        "    print(b)\n",
        "    for _ in range(2 , n):\n",
        "        next_fib = a+b\n",
        "        a,b = b, next_fib\n",
        "        print(next_fib)"
      ]
    },
    {
      "cell_type": "code",
      "execution_count": null,
      "id": "bd43f81b-8baa-448c-88ab-fb5220fbe2d5",
      "metadata": {
        "id": "bd43f81b-8baa-448c-88ab-fb5220fbe2d5"
      },
      "outputs": [],
      "source": []
    },
    {
      "cell_type": "code",
      "execution_count": null,
      "id": "fb152dcb-01a6-40db-976a-afb4d6d0d22e",
      "metadata": {
        "id": "fb152dcb-01a6-40db-976a-afb4d6d0d22e"
      },
      "outputs": [],
      "source": []
    },
    {
      "cell_type": "code",
      "execution_count": null,
      "id": "6a50c323-9d3a-433c-800d-9e0ffe75d2b7",
      "metadata": {
        "id": "6a50c323-9d3a-433c-800d-9e0ffe75d2b7"
      },
      "outputs": [],
      "source": [
        "#Intermediate Level:"
      ]
    },
    {
      "cell_type": "code",
      "execution_count": null,
      "id": "d8c1e444-23ba-4c71-a6e1-b372ecfb351f",
      "metadata": {
        "id": "d8c1e444-23ba-4c71-a6e1-b372ecfb351f"
      },
      "outputs": [],
      "source": []
    },
    {
      "cell_type": "code",
      "execution_count": null,
      "id": "41e68f69-0c17-4f6a-ba20-8390df56c09c",
      "metadata": {
        "id": "41e68f69-0c17-4f6a-ba20-8390df56c09c"
      },
      "outputs": [],
      "source": []
    },
    {
      "cell_type": "code",
      "execution_count": null,
      "id": "17ade812-0e32-4ed2-a202-87b9c9a19e51",
      "metadata": {
        "id": "17ade812-0e32-4ed2-a202-87b9c9a19e51",
        "outputId": "fe5fd3a8-05b6-4d8e-9182-ba54a58d871f"
      },
      "outputs": [
        {
          "name": "stdout",
          "output_type": "stream",
          "text": [
            "list contains duplicates\n"
          ]
        }
      ],
      "source": [
        "#11. Write a program to check if a given list contains any duplicates using a `for` loop.\n",
        "\n",
        "my_list = [1, 2, 3, 4, 5, 2, 6]\n",
        "\n",
        "has_duplicates = False\n",
        "\n",
        "for i in range(len(my_list)):\n",
        "    for j in range(i +1, len(my_list)):\n",
        "        if my_list[i] == my_list[j]:\n",
        "            has_duplicates = True\n",
        "            break\n",
        "\n",
        "if has_duplicates:\n",
        "    print(\"list contains duplicates\")\n",
        "else:\n",
        "    print(\"list does not contains duplicates\")"
      ]
    },
    {
      "cell_type": "code",
      "execution_count": null,
      "id": "4901617b-2a9f-4d01-90fd-59c8acb9fb96",
      "metadata": {
        "id": "4901617b-2a9f-4d01-90fd-59c8acb9fb96",
        "outputId": "3ec0ae45-1da4-4206-8184-d30bd5d68ec1"
      },
      "outputs": [
        {
          "name": "stdin",
          "output_type": "stream",
          "text": [
            "enter the start of the range: 1\n",
            "enter the end of the range: 10\n"
          ]
        },
        {
          "name": "stdout",
          "output_type": "stream",
          "text": [
            "2\n",
            "3\n",
            "5\n",
            "7\n"
          ]
        }
      ],
      "source": [
        "#12. Create a program that prints the prime numbers in a given range using a `for` loop.\n",
        "\n",
        "start = int(input(\"enter the start of the range:\"))\n",
        "end = int(input(\"enter the end of the range:\"))\n",
        "\n",
        "for num in range(start, end + 1):\n",
        "    if num > 1 :\n",
        "        is_prime = True\n",
        "        for i in range(2, int(num ** 0.5) + 1 ):\n",
        "            if num % i == 0:\n",
        "                is_prime = False\n",
        "                break\n",
        "        if is_prime:\n",
        "            print(num)"
      ]
    },
    {
      "cell_type": "code",
      "execution_count": null,
      "id": "c1870e57-150a-400b-a0ff-f2388374454b",
      "metadata": {
        "id": "c1870e57-150a-400b-a0ff-f2388374454b",
        "outputId": "8b9b1bad-87ae-469c-abd7-df60e8c5e258"
      },
      "outputs": [
        {
          "name": "stdout",
          "output_type": "stream",
          "text": [
            "5\n"
          ]
        }
      ],
      "source": [
        "#13. Develop a program that counts the number of vowels in a string using a `for` loop.\n",
        "\n",
        "string = (\"how are you\")\n",
        "vowels = \"aeiouAEIOU\"\n",
        "vowels_count = 0\n",
        "\n",
        "for char in string:\n",
        "    if char in vowels:\n",
        "        vowels_count +=1\n",
        "\n",
        "print(vowels_count)"
      ]
    },
    {
      "cell_type": "code",
      "execution_count": null,
      "id": "fd5f6f02-8ff1-4017-bfa1-86a2417b52c8",
      "metadata": {
        "id": "fd5f6f02-8ff1-4017-bfa1-86a2417b52c8",
        "outputId": "5e38860a-5029-4934-c00f-828de5a686cd"
      },
      "outputs": [
        {
          "name": "stdout",
          "output_type": "stream",
          "text": [
            "9\n"
          ]
        }
      ],
      "source": [
        "#14. Write a program to find the maximum element in a 2D list using a nested `for` loop.\n",
        "\n",
        "two_d_list = [\n",
        "    [1,2,3],\n",
        "    [3,4,5],\n",
        "    [7,8,9]\n",
        "]\n",
        "\n",
        "max_value = two_d_list[0][0]\n",
        "\n",
        "for row in two_d_list:\n",
        "    for element in row:\n",
        "        if element > max_value:\n",
        "            max_value = element\n",
        "print(max_value)"
      ]
    },
    {
      "cell_type": "code",
      "execution_count": null,
      "id": "c4f26207-b13c-4494-8465-6255dce0c21d",
      "metadata": {
        "id": "c4f26207-b13c-4494-8465-6255dce0c21d",
        "outputId": "9a5c9571-7bb5-48eb-de72-a28b9d3dd0d9"
      },
      "outputs": [
        {
          "name": "stdout",
          "output_type": "stream",
          "text": [
            "[1, 2, 3, 5, 6]\n"
          ]
        }
      ],
      "source": [
        "#15. Create a program that removes all occurrences of a specific element from a list using a `for` loop.\n",
        "\n",
        "my_list = [1,2,3,4,4,4,5,6]\n",
        "\n",
        "frequency = my_list.count(4)\n",
        "\n",
        "for i in range(frequency):\n",
        "    my_list.remove(4)\n",
        "\n",
        "print(my_list)"
      ]
    },
    {
      "cell_type": "code",
      "execution_count": null,
      "id": "4e496a74-5ca3-4e74-97cd-d56ea6686614",
      "metadata": {
        "id": "4e496a74-5ca3-4e74-97cd-d56ea6686614",
        "outputId": "609a4d62-6bfe-43fe-c42b-b54e3c434626"
      },
      "outputs": [
        {
          "name": "stdout",
          "output_type": "stream",
          "text": [
            "1 x 1 = 1\n",
            "1 x 2 = 2\n",
            "1 x 3 = 3\n",
            "1 x 4 = 4\n",
            "1 x 5 = 5\n",
            "1 x 6 = 6\n",
            "1 x 7 = 7\n",
            "1 x 8 = 8\n",
            "1 x 9 = 9\n",
            "1 x 10 = 10\n",
            "\n",
            "2 x 1 = 2\n",
            "2 x 2 = 4\n",
            "2 x 3 = 6\n",
            "2 x 4 = 8\n",
            "2 x 5 = 10\n",
            "2 x 6 = 12\n",
            "2 x 7 = 14\n",
            "2 x 8 = 16\n",
            "2 x 9 = 18\n",
            "2 x 10 = 20\n",
            "\n",
            "3 x 1 = 3\n",
            "3 x 2 = 6\n",
            "3 x 3 = 9\n",
            "3 x 4 = 12\n",
            "3 x 5 = 15\n",
            "3 x 6 = 18\n",
            "3 x 7 = 21\n",
            "3 x 8 = 24\n",
            "3 x 9 = 27\n",
            "3 x 10 = 30\n",
            "\n",
            "4 x 1 = 4\n",
            "4 x 2 = 8\n",
            "4 x 3 = 12\n",
            "4 x 4 = 16\n",
            "4 x 5 = 20\n",
            "4 x 6 = 24\n",
            "4 x 7 = 28\n",
            "4 x 8 = 32\n",
            "4 x 9 = 36\n",
            "4 x 10 = 40\n",
            "\n",
            "5 x 1 = 5\n",
            "5 x 2 = 10\n",
            "5 x 3 = 15\n",
            "5 x 4 = 20\n",
            "5 x 5 = 25\n",
            "5 x 6 = 30\n",
            "5 x 7 = 35\n",
            "5 x 8 = 40\n",
            "5 x 9 = 45\n",
            "5 x 10 = 50\n",
            "\n"
          ]
        }
      ],
      "source": [
        "#16. Develop a program that generates a multiplication table for numbers from 1 to 5 using a nested `for` loop.\n",
        "\n",
        "start_num = 1\n",
        "end_num = 5\n",
        "\n",
        "for i in range(start_num, end_num + 1):\n",
        "    for j in range(1,11):\n",
        "        table = i * j\n",
        "        print(f\"{i} x {j} = {table}\")\n",
        "    print()"
      ]
    },
    {
      "cell_type": "code",
      "execution_count": null,
      "id": "37912db4-4f44-4f9c-9bf2-7f056951260f",
      "metadata": {
        "id": "37912db4-4f44-4f9c-9bf2-7f056951260f",
        "outputId": "4b5c394c-733e-4ee5-ecdc-8e0f93719d16"
      },
      "outputs": [
        {
          "name": "stdout",
          "output_type": "stream",
          "text": [
            "[0.5555555555555556, 12.777777777777777, 18.333333333333332, 1.1111111111111112, 31.666666666666664]\n"
          ]
        }
      ],
      "source": [
        "#17. Write a program that converts a list of Fahrenheit temperatures to Celsius using a `for` loop.\n",
        "\n",
        "Fahrenheit = [33, 55, 65, 34, 89]\n",
        "\n",
        "celcius_temp = []\n",
        "\n",
        "for temp in Fahrenheit :\n",
        "    celcius = (temp - 32) / 1.8\n",
        "    celcius_temp.append(celcius)\n",
        "\n",
        "print(celcius_temp)"
      ]
    },
    {
      "cell_type": "code",
      "execution_count": null,
      "id": "6a0b407d-93f6-48ec-80f1-4eb648cd6362",
      "metadata": {
        "id": "6a0b407d-93f6-48ec-80f1-4eb648cd6362",
        "outputId": "04e68a21-6618-467a-85a1-7b421f203d67"
      },
      "outputs": [
        {
          "name": "stdout",
          "output_type": "stream",
          "text": [
            "3\n",
            "4\n",
            "5\n"
          ]
        }
      ],
      "source": [
        "#18. Create a program to print the common elements from two lists using a `for` loop.\n",
        "\n",
        "list1 = [1, 2, 3, 4, 5]\n",
        "list2 = [3, 4, 5, 6, 7]\n",
        "\n",
        "for item1 in list1:\n",
        "    for item2 in list2:\n",
        "        if item1 == item2:\n",
        "            print(item1)"
      ]
    },
    {
      "cell_type": "code",
      "execution_count": null,
      "id": "c2c9e18a-4882-4168-987a-a8562a1eb146",
      "metadata": {
        "id": "c2c9e18a-4882-4168-987a-a8562a1eb146",
        "outputId": "77e55b62-8010-4905-c3ca-65fe7cabbb3f"
      },
      "outputs": [
        {
          "name": "stdin",
          "output_type": "stream",
          "text": [
            "enter the number:  5\n"
          ]
        },
        {
          "name": "stdout",
          "output_type": "stream",
          "text": [
            "*\n",
            "**\n",
            "***\n",
            "****\n",
            "*****\n"
          ]
        }
      ],
      "source": [
        "#19. Develop a program that prints the pattern of right-angled triangles using a `for` loop. Use ‘*’ to draw the\n",
        "#pattern\n",
        "\n",
        "no_of_row = int(input(\"enter the number: \"))\n",
        "\n",
        "for i in range(1, no_of_row + 1):\n",
        "    print(\"*\" * i)\n",
        ""
      ]
    },
    {
      "cell_type": "code",
      "execution_count": null,
      "id": "91f4ed53-7dd7-47a4-9fd4-882a3ad9bc2e",
      "metadata": {
        "id": "91f4ed53-7dd7-47a4-9fd4-882a3ad9bc2e",
        "outputId": "4d049ae9-9134-4ddb-c27e-cfdeddabae11"
      },
      "outputs": [
        {
          "name": "stdin",
          "output_type": "stream",
          "text": [
            "Enter the first number:  900\n",
            "Enter the second number:  150\n"
          ]
        },
        {
          "name": "stdout",
          "output_type": "stream",
          "text": [
            "The gretest common divisor is: 150\n"
          ]
        }
      ],
      "source": [
        "#20. Write a program to find the greatest common divisor (GCD) of two numbers using a `for` loop\n",
        "\n",
        "num1 = int(input(\"Enter the first number: \"))\n",
        "num2 = int(input(\"Enter the second number: \"))\n",
        "\n",
        "if num1 > num2 :\n",
        "    smaller = num2\n",
        "else:\n",
        "    smaller = num1\n",
        "\n",
        "for i in range(1, smaller+1):\n",
        "    if num1%i == 0 and num2%i == 0:\n",
        "        GCD = i\n",
        "\n",
        "print(\"The gretest common divisor is:\", GCD)"
      ]
    },
    {
      "cell_type": "code",
      "execution_count": null,
      "id": "2be3ec1b-3487-40bc-94ee-bdd942703933",
      "metadata": {
        "id": "2be3ec1b-3487-40bc-94ee-bdd942703933"
      },
      "outputs": [],
      "source": []
    },
    {
      "cell_type": "code",
      "execution_count": null,
      "id": "f4d4dbad-b316-4af3-ae61-7c64a41d897c",
      "metadata": {
        "id": "f4d4dbad-b316-4af3-ae61-7c64a41d897c"
      },
      "outputs": [],
      "source": []
    },
    {
      "cell_type": "code",
      "execution_count": null,
      "id": "bf18afc2-80a6-45eb-9fa0-397072f55d63",
      "metadata": {
        "id": "bf18afc2-80a6-45eb-9fa0-397072f55d63"
      },
      "outputs": [],
      "source": [
        "#Advanced Level:"
      ]
    },
    {
      "cell_type": "code",
      "execution_count": null,
      "id": "07410aa1-7cd9-4991-b1b7-2a15849b295a",
      "metadata": {
        "id": "07410aa1-7cd9-4991-b1b7-2a15849b295a"
      },
      "outputs": [],
      "source": []
    },
    {
      "cell_type": "code",
      "execution_count": null,
      "id": "47ca4428-e682-4527-84ab-00e9c382e671",
      "metadata": {
        "id": "47ca4428-e682-4527-84ab-00e9c382e671"
      },
      "outputs": [],
      "source": []
    },
    {
      "cell_type": "code",
      "execution_count": null,
      "id": "c132dbf6-83a2-48de-b840-29445aff9ff9",
      "metadata": {
        "id": "c132dbf6-83a2-48de-b840-29445aff9ff9",
        "outputId": "68101a9c-7fdb-478e-ddce-e4ec4c56fdbb"
      },
      "outputs": [
        {
          "name": "stdout",
          "output_type": "stream",
          "text": [
            "Original Numbers: [123, 456, 789]\n",
            "Sum of Digits for each number: [6, 15, 24]\n"
          ]
        }
      ],
      "source": [
        "#21. Create a program that calculates the sum of the digits of numbers in a list using a list comprehension.\n",
        "\n",
        "numbers = [123, 456, 789]\n",
        "\n",
        "sum_of_digits_list = [sum(int(digit) for digit in str(num) if digit.isdigit()) for num in numbers]\n",
        "\n",
        "print(\"Original Numbers:\", numbers)\n",
        "print(\"Sum of Digits for each number:\", sum_of_digits_list)"
      ]
    },
    {
      "cell_type": "code",
      "execution_count": null,
      "id": "1dd6c992-2223-4d6d-bcb8-b071b7caf55f",
      "metadata": {
        "id": "1dd6c992-2223-4d6d-bcb8-b071b7caf55f",
        "outputId": "c5e757c1-32f7-442c-d71c-c5c27c6c59be"
      },
      "outputs": [
        {
          "name": "stdin",
          "output_type": "stream",
          "text": [
            "enter the number 5\n"
          ]
        },
        {
          "name": "stdout",
          "output_type": "stream",
          "text": [
            "The prime factors are: [5]\n"
          ]
        },
        {
          "name": "stdin",
          "output_type": "stream",
          "text": [
            "Enter the number 9\n"
          ]
        },
        {
          "name": "stdout",
          "output_type": "stream",
          "text": [
            "Prime Factors are: [3]\n"
          ]
        }
      ],
      "source": [
        "#22. Write a program to find the prime factors of a given number using a `for` loop and list comprehension.\n",
        "\n",
        "#List Comprehension\n",
        "\n",
        "number = int(input(\"enter the number\"))\n",
        "\n",
        "prime_factors = [factor for factor in range(2, number +1) if number%factor == 0 and all(factor % i != 0 for i in range(2, int(factor**0.5) + 1 ))]\n",
        "\n",
        "if prime_factors:\n",
        "    print(\"The prime factors are:\", prime_factors)\n",
        "else:\n",
        "    print(\"Nmber itself a prime\")\n",
        "\n",
        "\n",
        "#Using For loop\n",
        "\n",
        "number = int(input(\"Enter the number\"))\n",
        "\n",
        "prime_factors = []\n",
        "\n",
        "for factor in range(2, number +1):\n",
        "    if number%factor == 0:\n",
        "        is_prime = True\n",
        "        for i in range(2, int(factor**0.5) + 1):\n",
        "            if factor % i == 0:\n",
        "                is_prime = False\n",
        "                break\n",
        "        if is_prime:\n",
        "            prime_factors.append(factor)\n",
        "\n",
        "if prime_factors:\n",
        "    print(\"Prime Factors are:\", prime_factors)\n",
        "else:\n",
        "    print(\"Number itrself a prime\")"
      ]
    },
    {
      "cell_type": "code",
      "execution_count": null,
      "id": "ad3714ff-7a87-4947-9164-325851913c8c",
      "metadata": {
        "id": "ad3714ff-7a87-4947-9164-325851913c8c",
        "outputId": "d78ca967-58fd-48ef-d6bd-11dd15e5cf75"
      },
      "outputs": [
        {
          "name": "stdout",
          "output_type": "stream",
          "text": [
            "[1, 2, 3, 4, 5, 6, 7, 8]\n"
          ]
        }
      ],
      "source": [
        "#23. Develop a program that extracts unique elements from a list and stores them in a new list using a list\n",
        "#comprehension.\n",
        "\n",
        "my_list = [1,2,3,4,4,5,6,7,7,8]\n",
        "\n",
        "unique_list_elements = list(set([x for x in my_list]))\n",
        "\n",
        "print(unique_list_elements)\n"
      ]
    },
    {
      "cell_type": "code",
      "execution_count": null,
      "id": "56a3870a-2e69-4ac3-9387-bcc5eca95a8b",
      "metadata": {
        "id": "56a3870a-2e69-4ac3-9387-bcc5eca95a8b",
        "outputId": "133daf08-ad07-4734-c668-0926a038579c"
      },
      "outputs": [
        {
          "name": "stdout",
          "output_type": "stream",
          "text": [
            "palindromic list upto 200 : [1, 2, 3, 4, 5, 6, 7, 8, 9, 11, 22, 33, 44, 55, 66, 77, 88, 99, 101, 111, 121, 131, 141, 151, 161, 171, 181, 191]\n"
          ]
        }
      ],
      "source": [
        "#24. Create a program that generates a list of all palindromic numbers up to a specified limit using a list\n",
        "#comprehension\n",
        "\n",
        "\n",
        "limit = 200\n",
        "\n",
        "palindromic_list = [num for num in range(1, limit+ 1) if str(num) == str(num)[::-1]]\n",
        "\n",
        "print(\"palindromic list upto\", limit, \":\", palindromic_list)"
      ]
    },
    {
      "cell_type": "code",
      "execution_count": null,
      "id": "e855944a-41db-493e-96b3-72a0f748cb81",
      "metadata": {
        "id": "e855944a-41db-493e-96b3-72a0f748cb81",
        "outputId": "faf2ea74-eb5e-4ce2-b11b-1415f2bf8220"
      },
      "outputs": [
        {
          "name": "stdout",
          "output_type": "stream",
          "text": [
            "[1, 2, 3, 4, 5, 6, 7, 8]\n"
          ]
        }
      ],
      "source": [
        "#25. Write a program to flatten a nested list using list comprehension.\n",
        "\n",
        "nested_list = [[1, 2, 3], [4, 5], [6, 7, 8]]\n",
        "\n",
        "flatten_list = [num for sublist in nested_list for num in sublist]\n",
        "\n",
        "print(flatten_list)"
      ]
    },
    {
      "cell_type": "code",
      "execution_count": null,
      "id": "a76c2810-500e-450a-a782-9f7c9ee20aa6",
      "metadata": {
        "id": "a76c2810-500e-450a-a782-9f7c9ee20aa6",
        "outputId": "86f0f4a3-51d4-4edf-81ff-fb32decf37bf"
      },
      "outputs": [
        {
          "name": "stdout",
          "output_type": "stream",
          "text": [
            "sum_even : 20\n",
            "sum_odd: 16\n"
          ]
        }
      ],
      "source": [
        "#26. Develop a program that computes the sum of even and odd numbers in a list separately using list\n",
        "#comprehension.\n",
        "\n",
        "numbers = [1,2,3,4,5,6,7,8]\n",
        "\n",
        "sum_even = sum([num for num in numbers if num % 2 == 0])\n",
        "sum_odd = sum([num for num in numbers if num % 2 != 0])\n",
        "\n",
        "print(\"sum_even :\", sum_even)\n",
        "print(\"sum_odd:\", sum_odd)"
      ]
    },
    {
      "cell_type": "code",
      "execution_count": null,
      "id": "e12a8371-a415-4c92-b838-2abc12f77d8b",
      "metadata": {
        "id": "e12a8371-a415-4c92-b838-2abc12f77d8b",
        "outputId": "469e8265-305d-459d-97de-b1e7d472250e"
      },
      "outputs": [
        {
          "name": "stdout",
          "output_type": "stream",
          "text": [
            "[1, 9, 25, 49, 81]\n"
          ]
        }
      ],
      "source": [
        "#27. Create a program that generates a list of squares of odd numbers between 1 and 10 using list\n",
        "#comprehension.'\n",
        "\n",
        "numbers = 10\n",
        "\n",
        "list_of_squares = [num ** 2 for num in range(1, numbers + 1) if num % 2 != 0 ]\n",
        "\n",
        "print(list_of_squares)"
      ]
    },
    {
      "cell_type": "code",
      "execution_count": null,
      "id": "e5b990cf-8b92-47d4-9b6e-0d65134c1bca",
      "metadata": {
        "id": "e5b990cf-8b92-47d4-9b6e-0d65134c1bca",
        "outputId": "e7280546-69d7-4421-90e1-576649ea1ed0"
      },
      "outputs": [
        {
          "name": "stdout",
          "output_type": "stream",
          "text": [
            "{'k': 99, 'l': 88, 'm': 77}\n"
          ]
        }
      ],
      "source": [
        "#28. Write a program that combines two lists into a dictionary using list comprehension.\n",
        "\n",
        "name = ('k', 'l', 'm')\n",
        "marks = (99, 88, 77)\n",
        "\n",
        "dictionary = {key:value for key, value in zip(name, marks)}\n",
        "\n",
        "print(dictionary)"
      ]
    },
    {
      "cell_type": "code",
      "execution_count": null,
      "id": "fe482da7-1eb7-4bc1-867b-db27759efd7d",
      "metadata": {
        "id": "fe482da7-1eb7-4bc1-867b-db27759efd7d",
        "outputId": "e024cbcb-8dc1-4147-b5ce-4bccbf30447f"
      },
      "outputs": [
        {
          "name": "stdout",
          "output_type": "stream",
          "text": [
            "['a', 'e', 'i', 'u', 'i']\n"
          ]
        }
      ],
      "source": [
        "#29. Develop a program that extracts the vowels from a string and stores them in a list using list comprehension.\n",
        "\n",
        "string = \"My name is kuldip\"\n",
        "\n",
        "vowels = [char for char in string if char.lower() in 'aeiou']\n",
        "\n",
        "print(vowels)"
      ]
    },
    {
      "cell_type": "code",
      "execution_count": null,
      "id": "ea65aaf5-bb2d-472d-8b48-976328ec0fca",
      "metadata": {
        "id": "ea65aaf5-bb2d-472d-8b48-976328ec0fca",
        "outputId": "131153ee-3042-4374-e356-63e1bc998fbd"
      },
      "outputs": [
        {
          "name": "stdout",
          "output_type": "stream",
          "text": [
            "['123', '456', '789']\n"
          ]
        }
      ],
      "source": [
        "#30. Create a program that removes all non-numeric characters from a list of strings using list comprehension.\n",
        "\n",
        "string_list = [\"123abc\", \"456def\", \"789ghi\"]\n",
        "\n",
        "numeric_list = [''.join(char for char in string if char.isdigit()) for string in string_list]\n",
        "\n",
        "print(numeric_list)"
      ]
    },
    {
      "cell_type": "code",
      "execution_count": null,
      "id": "9225d893-5950-45af-84f3-28037eb109af",
      "metadata": {
        "id": "9225d893-5950-45af-84f3-28037eb109af"
      },
      "outputs": [],
      "source": []
    },
    {
      "cell_type": "code",
      "execution_count": null,
      "id": "1c501b8f-3f01-48d3-947e-318cdaec2934",
      "metadata": {
        "id": "1c501b8f-3f01-48d3-947e-318cdaec2934"
      },
      "outputs": [],
      "source": []
    },
    {
      "cell_type": "code",
      "execution_count": null,
      "id": "190ffbe0-11e3-4636-a3a3-7d17f02ddbfe",
      "metadata": {
        "id": "190ffbe0-11e3-4636-a3a3-7d17f02ddbfe"
      },
      "outputs": [],
      "source": [
        "#Challenge Level"
      ]
    },
    {
      "cell_type": "code",
      "execution_count": null,
      "id": "1a51cd53-3df6-488b-bd1c-04ea7aa6239d",
      "metadata": {
        "id": "1a51cd53-3df6-488b-bd1c-04ea7aa6239d"
      },
      "outputs": [],
      "source": []
    },
    {
      "cell_type": "code",
      "execution_count": null,
      "id": "a5b93aed-0c4e-4ace-852b-86b33a683428",
      "metadata": {
        "id": "a5b93aed-0c4e-4ace-852b-86b33a683428"
      },
      "outputs": [],
      "source": []
    },
    {
      "cell_type": "code",
      "execution_count": null,
      "id": "bf1784e0-7797-4481-9f9a-79674f0bad66",
      "metadata": {
        "id": "bf1784e0-7797-4481-9f9a-79674f0bad66",
        "outputId": "50bfc8e8-65c6-49b8-9b2f-ecbb19cca8db"
      },
      "outputs": [
        {
          "name": "stdin",
          "output_type": "stream",
          "text": [
            "Enter the limit:  50\n"
          ]
        },
        {
          "name": "stdout",
          "output_type": "stream",
          "text": [
            "Prime numbers up to 50 are: [2, 3, 5, 7, 11, 13, 17, 19, 23, 29, 31, 37, 41, 43, 47]\n"
          ]
        }
      ],
      "source": [
        "#31. Write a program to generate a list of prime numbers using the Sieve of Eratosthenes algorithm and list\n",
        "#comprehension.\n",
        "\n",
        "limit = int(input(\"Enter the limit: \"))\n",
        "sieve = [True] * (limit + 1)\n",
        "sieve[0] = sieve[1] = False\n",
        "\n",
        "for i in range(2, int(limit ** 0.5) + 1):\n",
        "    if sieve[i]:\n",
        "        sieve[i * i: limit + 1: i] = [False] * len(range(i * i, limit + 1, i))\n",
        "\n",
        "primes = [num for num, is_prime in enumerate(sieve) if is_prime]\n",
        "\n",
        "print(\"Prime numbers up to\", limit, \"are:\", primes)\n"
      ]
    },
    {
      "cell_type": "code",
      "execution_count": null,
      "id": "7710fd30-3812-4a01-b13e-79d02431f172",
      "metadata": {
        "id": "7710fd30-3812-4a01-b13e-79d02431f172",
        "outputId": "3c2a8999-d95c-4967-cd54-a9df0e6e95e4"
      },
      "outputs": [
        {
          "name": "stdin",
          "output_type": "stream",
          "text": [
            "enetr the number 20\n"
          ]
        },
        {
          "name": "stdout",
          "output_type": "stream",
          "text": [
            "[(3, 4, 5), (4, 3, 5), (5, 12, 13), (6, 8, 10), (8, 6, 10), (8, 15, 17), (9, 12, 15), (12, 5, 13), (12, 9, 15), (12, 16, 20), (15, 8, 17), (16, 12, 20)]\n"
          ]
        }
      ],
      "source": [
        "#32. Create a program that generates a list of all Pythagorean triplets up to a specified limit using list\n",
        "#comprehension\n",
        "\n",
        "limit = int(input(\"enetr the number\"))\n",
        "\n",
        "pythagorean_triplets = [(a, b, c) for a in range(1, limit+1) for b in range(1, limit+1) for c in range(1, limit+1) if a ** 2 + b **2 == c **2]\n",
        "\n",
        "print(pythagorean_triplets)"
      ]
    },
    {
      "cell_type": "code",
      "execution_count": null,
      "id": "9898152c-52fd-4d96-9882-fdfb463923d9",
      "metadata": {
        "id": "9898152c-52fd-4d96-9882-fdfb463923d9",
        "outputId": "dbc675c5-f202-4f67-d27c-0686ee22e549"
      },
      "outputs": [
        {
          "name": "stdout",
          "output_type": "stream",
          "text": [
            "all posible combinations: [('a', 1), ('a', 2), ('a', 3), ('b', 1), ('b', 2), ('b', 3), ('c', 1), ('c', 2), ('c', 3)]\n"
          ]
        }
      ],
      "source": [
        "#33. Develop a program that generates a list of all possible combinations of two lists using list comprehension.\n",
        "\n",
        "list1 = [\"a\",\"b\",\"c\"]\n",
        "list2 = [1,2,3]\n",
        "\n",
        "combinations = [(x,y) for x in list1 for y in list2]\n",
        "\n",
        "print(\"all posible combinations:\", combinations)"
      ]
    },
    {
      "cell_type": "code",
      "execution_count": null,
      "id": "788f6b86-22dc-41de-bb10-5099b77c26d8",
      "metadata": {
        "id": "788f6b86-22dc-41de-bb10-5099b77c26d8",
        "outputId": "716bcacc-e688-4d80-8b09-79e3a9a19c3d"
      },
      "outputs": [
        {
          "name": "stdin",
          "output_type": "stream",
          "text": [
            "Enter the list of numbers separated by spaces:  10 20 30 40 50\n"
          ]
        },
        {
          "name": "stdout",
          "output_type": "stream",
          "text": [
            "Mean: 30.0\n",
            "Median: 30\n",
            "Mode: [40, 10, 50, 20, 30]\n"
          ]
        }
      ],
      "source": [
        "#34. Write a program that calculates the mean, median, and mode of a list of numbers using list comprehension.\n",
        "\n",
        "numbers = [int(x) for x in input(\"Enter the list of numbers separated by spaces: \").split()]\n",
        "\n",
        "# Mean calculation\n",
        "mean = sum(numbers) / len(numbers)\n",
        "\n",
        "# Median calculation\n",
        "sorted_numbers = sorted(numbers)\n",
        "n = len(sorted_numbers)\n",
        "median = (sorted_numbers[n//2] + sorted_numbers[(n-1)//2]) / 2 if n % 2 == 0 else sorted_numbers[n//2]\n",
        "\n",
        "# Mode calculation\n",
        "mode_count = max([numbers.count(num) for num in set(numbers)])\n",
        "mode = [num for num in set(numbers) if numbers.count(num) == mode_count]\n",
        "\n",
        "print(\"Mean:\", mean)\n",
        "print(\"Median:\", median)\n",
        "print(\"Mode:\", mode)\n"
      ]
    },
    {
      "cell_type": "code",
      "execution_count": null,
      "id": "1b55e9cc-4924-4a49-8792-04c031b80480",
      "metadata": {
        "id": "1b55e9cc-4924-4a49-8792-04c031b80480",
        "outputId": "bfee1bbe-a1ae-4679-ed5a-319f7ceabca2"
      },
      "outputs": [
        {
          "name": "stdin",
          "output_type": "stream",
          "text": [
            "Enter the specified rows:  5\n"
          ]
        },
        {
          "name": "stdout",
          "output_type": "stream",
          "text": [
            "    1    \n",
            "   1 1   \n",
            "  1 2 1  \n",
            " 1 3 3 1 \n",
            "1 4 6 4 1\n"
          ]
        }
      ],
      "source": [
        "#35. Create a program that generates Pascal's triangle up to a specified number of rows using list comprehension\n",
        "\n",
        "from math import factorial\n",
        "\n",
        "rows = int(input(\"Enter the specified rows: \"))\n",
        "\n",
        "pascals_triangle = [[factorial(n) // (factorial(r) * factorial(n - r)) for r in range(n + 1)] for n in range(rows)]\n",
        "\n",
        "max_width = len(' '.join(map(str, pascals_triangle[-1])))\n",
        "\n",
        "for row in pascals_triangle:\n",
        "    print(' '.join(map(str, row)).center(max_width))\n"
      ]
    },
    {
      "cell_type": "code",
      "execution_count": null,
      "id": "d086cf98-3637-456f-ba5c-2ebc29753629",
      "metadata": {
        "id": "d086cf98-3637-456f-ba5c-2ebc29753629",
        "outputId": "86a78e3b-665f-4ba8-d29f-c6fcf7c52a38"
      },
      "outputs": [
        {
          "name": "stdout",
          "output_type": "stream",
          "text": [
            "Factorial of 1 = 1\n",
            "Factorial of 2 = 2\n",
            "Factorial of 3 = 6\n",
            "Factorial of 4 = 24\n",
            "Factorial of 5 = 120\n"
          ]
        }
      ],
      "source": [
        "#36. Develop a program that calculates the sum of the digits of a factorial of numbers from 1 to 5 using list\n",
        "#comprehension.\n",
        "\n",
        "from math import factorial\n",
        "\n",
        "factorial_sums = [sum(int(digit) for digit in str(factorial(num))) for num in range(1, 6)]\n",
        "\n",
        "for num, factorial_sum in zip(range(1,6), factorial_sums):\n",
        "    print(f\"Factorial of {num} = {factorial(num)}\")"
      ]
    },
    {
      "cell_type": "code",
      "execution_count": null,
      "id": "5a5070c1-0f0a-4e6e-a8cb-e7bab8197b03",
      "metadata": {
        "id": "5a5070c1-0f0a-4e6e-a8cb-e7bab8197b03",
        "outputId": "62ca24f2-7c16-4d95-9be3-51ff7d9d306a"
      },
      "outputs": [
        {
          "name": "stdin",
          "output_type": "stream",
          "text": [
            "Enter a sentence:  my name is kuldip\n"
          ]
        },
        {
          "name": "stdout",
          "output_type": "stream",
          "text": [
            "kuldip\n"
          ]
        }
      ],
      "source": [
        "#37. Write a program that finds the longest word in a sentence using list comprehension.\n",
        "\n",
        "sentence = input(\"Enter a sentence: \")\n",
        "\n",
        "words = sentence.split()\n",
        "\n",
        "length_of_word = [len(word) for word in words]\n",
        "\n",
        "longest_word_index = length_of_word.index(max(length_of_word))\n",
        "\n",
        "longest_word = words[longest_word_index]\n",
        "\n",
        "print(longest_word)"
      ]
    },
    {
      "cell_type": "code",
      "execution_count": null,
      "id": "5d973835-42a9-4af8-9fbd-0dd9d06e8e27",
      "metadata": {
        "id": "5d973835-42a9-4af8-9fbd-0dd9d06e8e27",
        "outputId": "81071109-e501-421a-eace-ec93751b4200"
      },
      "outputs": [
        {
          "name": "stdout",
          "output_type": "stream",
          "text": [
            "Strings with more than three vowels: ['openai']\n"
          ]
        }
      ],
      "source": [
        "#38. Create a program that filters a list of strings to include only those with more than three vowels using list\n",
        "#comprehension.\n",
        "\n",
        "\n",
        "strings = [\"hello\", \"world\", \"python\", \"programming\", \"ai\", \"openai\"]\n",
        "\n",
        "filtered_strings = [string for string in strings if sum(1 for char in string if char in \"aeiouAEIOU\") > 3]\n",
        "\n",
        "print(\"Strings with more than three vowels:\", filtered_strings)\n"
      ]
    },
    {
      "cell_type": "code",
      "execution_count": null,
      "id": "141fe26a-aed6-4bb2-96a5-79b29ee559d1",
      "metadata": {
        "id": "141fe26a-aed6-4bb2-96a5-79b29ee559d1",
        "outputId": "d2bd2062-75ea-4034-f842-40e7d3e2054d"
      },
      "outputs": [
        {
          "name": "stdout",
          "output_type": "stream",
          "text": [
            "The sum of digits of numbers from 1 to 1000 is: 13501\n"
          ]
        }
      ],
      "source": [
        "#39. Develop a program that calculates the sum of the digits of numbers from 1 to 1000 using list\n",
        "#comprehension#\n",
        "\n",
        "digit_sums = [sum(int(digit) for digit in str(num)) for num in range(1, 1001)]\n",
        "\n",
        "total_sum = sum(digit_sums)\n",
        "\n",
        "print(\"The sum of digits of numbers from 1 to 1000 is:\", total_sum)\n"
      ]
    },
    {
      "cell_type": "code",
      "execution_count": null,
      "id": "6bfc1315-5fb3-4fde-a96d-4850a19db90d",
      "metadata": {
        "id": "6bfc1315-5fb3-4fde-a96d-4850a19db90d",
        "outputId": "90a6b67f-9bd5-46d7-8c64-7a0796ebdc99"
      },
      "outputs": [
        {
          "name": "stdout",
          "output_type": "stream",
          "text": [
            "Prime palindromic numbers:\n",
            "[11, 101, 131, 151, 181, 191, 313, 353, 373, 383, 727, 757, 787, 797, 919, 929]\n"
          ]
        }
      ],
      "source": [
        "#40. Write a program that generates a list of prime palindromic numbers using list comprehension\n",
        "\n",
        "prime_palindromes = [num for num in range(10, 1000) if all(num % i != 0 for i in range(2, int(num**0.5) + 1)) and str(num) == str(num)[::-1]]\n",
        "\n",
        "print(\"Prime palindromic numbers:\")\n",
        "print(prime_palindromes)\n"
      ]
    },
    {
      "cell_type": "code",
      "execution_count": null,
      "id": "670c1951-7549-4645-a24b-30fef330bae6",
      "metadata": {
        "id": "670c1951-7549-4645-a24b-30fef330bae6"
      },
      "outputs": [],
      "source": []
    }
  ],
  "metadata": {
    "kernelspec": {
      "display_name": "Python 3 (ipykernel)",
      "language": "python",
      "name": "python3"
    },
    "language_info": {
      "codemirror_mode": {
        "name": "ipython",
        "version": 3
      },
      "file_extension": ".py",
      "mimetype": "text/x-python",
      "name": "python",
      "nbconvert_exporter": "python",
      "pygments_lexer": "ipython3",
      "version": "3.10.8"
    },
    "colab": {
      "provenance": [],
      "include_colab_link": true
    }
  },
  "nbformat": 4,
  "nbformat_minor": 5
}