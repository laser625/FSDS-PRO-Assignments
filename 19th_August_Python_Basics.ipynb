{
 "cells": [
  {
   "cell_type": "code",
   "execution_count": 1,
   "id": "80ad8953-fc80-42b1-8706-aa3a9a5247e5",
   "metadata": {},
   "outputs": [],
   "source": [
    "#Python basic variables"
   ]
  },
  {
   "cell_type": "code",
   "execution_count": 2,
   "id": "ac06baf3-c33c-4e94-afd9-a7c030fe152e",
   "metadata": {},
   "outputs": [],
   "source": [
    "#Ans - 1"
   ]
  },
  {
   "cell_type": "code",
   "execution_count": 3,
   "id": "e8cf3f6a-b4c0-4895-82d1-8c6517549c53",
   "metadata": {},
   "outputs": [],
   "source": [
    "x = 1"
   ]
  },
  {
   "cell_type": "code",
   "execution_count": 4,
   "id": "dfaaf12d-a8f6-4048-85ac-3b00118f60eb",
   "metadata": {},
   "outputs": [],
   "source": [
    "y = 2"
   ]
  },
  {
   "cell_type": "code",
   "execution_count": 5,
   "id": "11900238-2b79-4cd4-af45-7b8964ea6b41",
   "metadata": {},
   "outputs": [],
   "source": [
    "x = x + y"
   ]
  },
  {
   "cell_type": "code",
   "execution_count": 6,
   "id": "1b679344-bbfa-4c10-86fc-5dbcd820d32c",
   "metadata": {},
   "outputs": [],
   "source": [
    "y = x - y"
   ]
  },
  {
   "cell_type": "code",
   "execution_count": 7,
   "id": "4db4e6ea-7efc-4981-8346-c513ac08a8a7",
   "metadata": {},
   "outputs": [],
   "source": [
    "x = x - y"
   ]
  },
  {
   "cell_type": "code",
   "execution_count": 8,
   "id": "94d38e98-4748-4b11-a1f9-d49fffd273c1",
   "metadata": {},
   "outputs": [
    {
     "name": "stdout",
     "output_type": "stream",
     "text": [
      "x = 2\n"
     ]
    }
   ],
   "source": [
    "print(\"x =\", x)"
   ]
  },
  {
   "cell_type": "code",
   "execution_count": 9,
   "id": "fb8ef798-2eb6-44f6-85b4-464c876b4afb",
   "metadata": {},
   "outputs": [
    {
     "name": "stdout",
     "output_type": "stream",
     "text": [
      "y = 1\n"
     ]
    }
   ],
   "source": [
    "print(\"y =\", y)"
   ]
  },
  {
   "cell_type": "code",
   "execution_count": 10,
   "id": "f102fc96-4b7d-48f6-8a07-b0453cd9c4a1",
   "metadata": {},
   "outputs": [],
   "source": [
    "#Ans - 2"
   ]
  },
  {
   "cell_type": "code",
   "execution_count": 11,
   "id": "3b0d6c00-7b1c-4172-882f-20d7115d1583",
   "metadata": {},
   "outputs": [
    {
     "name": "stdin",
     "output_type": "stream",
     "text": [
      "Enter the width of ractangle : 25\n"
     ]
    }
   ],
   "source": [
    "width = float(input(\"Enter the width of ractangle :\"))"
   ]
  },
  {
   "cell_type": "code",
   "execution_count": 12,
   "id": "760728f4-ae64-4a2a-aa8b-cb338d1f0795",
   "metadata": {},
   "outputs": [
    {
     "name": "stdin",
     "output_type": "stream",
     "text": [
      "Enter the length of rectangle : 30\n"
     ]
    }
   ],
   "source": [
    "length = float(input(\"Enter the length of rectangle :\"))"
   ]
  },
  {
   "cell_type": "code",
   "execution_count": 13,
   "id": "12f9ce68-7523-4603-a058-13f9f7f19409",
   "metadata": {},
   "outputs": [],
   "source": [
    "area = width * length"
   ]
  },
  {
   "cell_type": "code",
   "execution_count": 14,
   "id": "addc3800-2714-43d0-a603-50483a03226c",
   "metadata": {},
   "outputs": [
    {
     "name": "stdout",
     "output_type": "stream",
     "text": [
      "750.0\n"
     ]
    }
   ],
   "source": [
    "print(area)"
   ]
  },
  {
   "cell_type": "code",
   "execution_count": 15,
   "id": "bd2251cb-012c-4517-9dcf-12e650391d54",
   "metadata": {},
   "outputs": [],
   "source": [
    "#Ans - 3"
   ]
  },
  {
   "cell_type": "code",
   "execution_count": 17,
   "id": "5f425bd1-8f41-4fd7-a2b5-67fa775fb194",
   "metadata": {},
   "outputs": [
    {
     "name": "stdin",
     "output_type": "stream",
     "text": [
      "Enter the temperature in celsius : 34\n"
     ]
    }
   ],
   "source": [
    "Celsius = float(input(\"Enter the temperature in celsius :\"))"
   ]
  },
  {
   "cell_type": "code",
   "execution_count": 19,
   "id": "e0249eda-75d8-4dae-9f00-4e1f07b84be8",
   "metadata": {},
   "outputs": [],
   "source": [
    "Fahrenheit = (Celsius * 9/5) + 32"
   ]
  },
  {
   "cell_type": "code",
   "execution_count": 20,
   "id": "e22c5af1-f868-4870-8c7c-f27db15971f1",
   "metadata": {},
   "outputs": [
    {
     "name": "stdout",
     "output_type": "stream",
     "text": [
      "Temperature in Fahrenheit : 93.2\n"
     ]
    }
   ],
   "source": [
    "print(\"Temperature in Fahrenheit :\", Fahrenheit)"
   ]
  },
  {
   "cell_type": "code",
   "execution_count": 1,
   "id": "a873b86d-6827-4c23-b4bf-4a2ad2fad9d5",
   "metadata": {},
   "outputs": [],
   "source": [
    "#String Based "
   ]
  },
  {
   "cell_type": "code",
   "execution_count": 2,
   "id": "8f0f51d0-4025-4eca-bd7f-f8a55a96eabf",
   "metadata": {},
   "outputs": [],
   "source": [
    "#Ans - 1"
   ]
  },
  {
   "cell_type": "code",
   "execution_count": 3,
   "id": "53d55471-4010-4c1d-9843-5ffad94d3388",
   "metadata": {},
   "outputs": [
    {
     "name": "stdin",
     "output_type": "stream",
     "text": [
      "Enter the string : Kuldip\n"
     ]
    }
   ],
   "source": [
    "string = input(\"Enter the string :\")"
   ]
  },
  {
   "cell_type": "code",
   "execution_count": 4,
   "id": "54f62015-77e1-458f-a8d0-59ebb13ed176",
   "metadata": {},
   "outputs": [],
   "source": [
    "string_length = len(\"string\")"
   ]
  },
  {
   "cell_type": "code",
   "execution_count": 6,
   "id": "34342090-9814-4a77-9bfd-7e02c41735ce",
   "metadata": {},
   "outputs": [
    {
     "name": "stdout",
     "output_type": "stream",
     "text": [
      "Length of string : 6\n"
     ]
    }
   ],
   "source": [
    "print(\"Length of string :\", string_length)"
   ]
  },
  {
   "cell_type": "code",
   "execution_count": 7,
   "id": "c04c7cfc-d9e9-4bfd-b467-54da98caacc2",
   "metadata": {},
   "outputs": [],
   "source": [
    "#Ans - 2"
   ]
  },
  {
   "cell_type": "code",
   "execution_count": 8,
   "id": "740f3ad0-812a-4aa9-a72c-cd4eb0a380e7",
   "metadata": {},
   "outputs": [
    {
     "name": "stdin",
     "output_type": "stream",
     "text": [
      "Enter the sentence : My name is Kuldip.\n"
     ]
    }
   ],
   "source": [
    "sentence = input(\"Enter the sentence :\")"
   ]
  },
  {
   "cell_type": "code",
   "execution_count": 9,
   "id": "86499b70-55e5-4d43-9091-49f8aefd89d7",
   "metadata": {},
   "outputs": [],
   "source": [
    "sentence = sentence.lower()"
   ]
  },
  {
   "cell_type": "code",
   "execution_count": 10,
   "id": "75026652-04d5-4d50-9757-beebcd71b106",
   "metadata": {},
   "outputs": [
    {
     "data": {
      "text/plain": [
       "'my name is kuldip.'"
      ]
     },
     "execution_count": 10,
     "metadata": {},
     "output_type": "execute_result"
    }
   ],
   "source": [
    "sentence"
   ]
  },
  {
   "cell_type": "code",
   "execution_count": 11,
   "id": "fdda781c-f132-4905-a871-02706486d696",
   "metadata": {},
   "outputs": [],
   "source": [
    "vowel_count = 0"
   ]
  },
  {
   "cell_type": "code",
   "execution_count": 12,
   "id": "c58e169d-0fb9-4874-a5df-120152d46958",
   "metadata": {},
   "outputs": [],
   "source": [
    "vowels = \"aeiou\""
   ]
  },
  {
   "cell_type": "code",
   "execution_count": 15,
   "id": "889d15ee-e1df-4ee9-9da6-09bcb10f5b7c",
   "metadata": {},
   "outputs": [],
   "source": [
    "for char in sentence :\n",
    "    if char in vowels :\n",
    "        vowel_count += 1"
   ]
  },
  {
   "cell_type": "code",
   "execution_count": 16,
   "id": "21e63ac6-2526-4cd1-a512-4271160ebc4d",
   "metadata": {},
   "outputs": [
    {
     "name": "stdout",
     "output_type": "stream",
     "text": [
      "Number of vowels in sentence 5\n"
     ]
    }
   ],
   "source": [
    "print(\"Number of vowels in sentence\", vowel_count)"
   ]
  },
  {
   "cell_type": "code",
   "execution_count": 17,
   "id": "41707f54-cbf4-4d85-a076-e20761b86e9c",
   "metadata": {},
   "outputs": [],
   "source": [
    "#Ans = 3"
   ]
  },
  {
   "cell_type": "code",
   "execution_count": 18,
   "id": "bb31b056-f417-4bf6-bf3d-78f011ac0f7f",
   "metadata": {},
   "outputs": [
    {
     "name": "stdin",
     "output_type": "stream",
     "text": [
      "Enter the string : Kuldip\n"
     ]
    }
   ],
   "source": [
    "string = input(\"Enter the string :\")"
   ]
  },
  {
   "cell_type": "code",
   "execution_count": 19,
   "id": "ed5180ef-af3a-4b31-a4d1-a81cf9496b5f",
   "metadata": {},
   "outputs": [],
   "source": [
    "reversed_string = string[::-1]"
   ]
  },
  {
   "cell_type": "code",
   "execution_count": 21,
   "id": "0e836b12-a1e1-4199-9dcf-c7e172132555",
   "metadata": {},
   "outputs": [
    {
     "name": "stdout",
     "output_type": "stream",
     "text": [
      "pidluK\n"
     ]
    }
   ],
   "source": [
    "print(reversed_string)"
   ]
  },
  {
   "cell_type": "code",
   "execution_count": 22,
   "id": "710605fe-14ca-449b-a015-ad6e439ca2db",
   "metadata": {},
   "outputs": [],
   "source": [
    "#Ans - 4"
   ]
  },
  {
   "cell_type": "code",
   "execution_count": 1,
   "id": "b1aa90cc-2afd-494f-91ad-45e14e84b35d",
   "metadata": {},
   "outputs": [
    {
     "name": "stdin",
     "output_type": "stream",
     "text": [
      "Enter the string : Kuldip\n"
     ]
    }
   ],
   "source": [
    "string = input(\"Enter the string :\")"
   ]
  },
  {
   "cell_type": "code",
   "execution_count": 2,
   "id": "66d83102-06dc-4662-a15e-831823a0f6aa",
   "metadata": {},
   "outputs": [],
   "source": [
    "l_string = string.lower()"
   ]
  },
  {
   "cell_type": "code",
   "execution_count": 3,
   "id": "632062ca-50f2-4cc7-ad7a-83d360d04ab5",
   "metadata": {},
   "outputs": [
    {
     "name": "stdout",
     "output_type": "stream",
     "text": [
      "kuldip\n"
     ]
    }
   ],
   "source": [
    "print(l_string)"
   ]
  },
  {
   "cell_type": "code",
   "execution_count": 4,
   "id": "0417cbe7-39c6-4c5b-af2b-8508121aa738",
   "metadata": {},
   "outputs": [],
   "source": [
    "r_string = l_string[::-1]"
   ]
  },
  {
   "cell_type": "code",
   "execution_count": 5,
   "id": "30cefb6f-ae1a-44a3-91b7-fd4d177763a5",
   "metadata": {},
   "outputs": [
    {
     "name": "stdout",
     "output_type": "stream",
     "text": [
      "pidluk\n"
     ]
    }
   ],
   "source": [
    "print(r_string)"
   ]
  },
  {
   "cell_type": "code",
   "execution_count": 7,
   "id": "fdf4e4b4-cba1-4b75-a3bf-5b16f74a1790",
   "metadata": {},
   "outputs": [
    {
     "name": "stdout",
     "output_type": "stream",
     "text": [
      "Not Polindrome\n"
     ]
    }
   ],
   "source": [
    "if l_string == r_string :\n",
    "    print(\"Polindrome\")\n",
    "else:\n",
    "    print(\"Not Polindrome\")"
   ]
  },
  {
   "cell_type": "code",
   "execution_count": null,
   "id": "c6ffe313-6ee0-411e-8b0e-384450722c93",
   "metadata": {},
   "outputs": [],
   "source": [
    "#Ans - 5"
   ]
  },
  {
   "cell_type": "code",
   "execution_count": 8,
   "id": "2814a45c-f6a4-4a2f-887c-83ec9fa38072",
   "metadata": {},
   "outputs": [
    {
     "name": "stdin",
     "output_type": "stream",
     "text": [
      "Enter the string : Hi, My name is Kuldip\n"
     ]
    }
   ],
   "source": [
    "string = input(\"Enter the string :\")"
   ]
  },
  {
   "cell_type": "code",
   "execution_count": 9,
   "id": "bf162a88-2ef4-41d8-bc1f-faa8cf07a4c3",
   "metadata": {},
   "outputs": [],
   "source": [
    "r_string = string.replace(\" \",\"\")"
   ]
  },
  {
   "cell_type": "code",
   "execution_count": 10,
   "id": "0929985b-091e-4ec7-9851-a3e4a247998c",
   "metadata": {},
   "outputs": [
    {
     "name": "stdout",
     "output_type": "stream",
     "text": [
      "Hi,MynameisKuldip\n"
     ]
    }
   ],
   "source": [
    "print(r_string)"
   ]
  }
 ],
 "metadata": {
  "kernelspec": {
   "display_name": "Python 3 (ipykernel)",
   "language": "python",
   "name": "python3"
  },
  "language_info": {
   "codemirror_mode": {
    "name": "ipython",
    "version": 3
   },
   "file_extension": ".py",
   "mimetype": "text/x-python",
   "name": "python",
   "nbconvert_exporter": "python",
   "pygments_lexer": "ipython3",
   "version": "3.10.8"
  }
 },
 "nbformat": 4,
 "nbformat_minor": 5
}
