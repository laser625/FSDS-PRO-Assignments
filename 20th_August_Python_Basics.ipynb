{
 "cells": [
  {
   "cell_type": "code",
   "execution_count": 1,
   "id": "49798b4b-4c16-4c4c-8a92-6613048c918a",
   "metadata": {},
   "outputs": [],
   "source": [
    "#STRING BASED ASSIGNMENT PROBLEMS \n"
   ]
  },
  {
   "cell_type": "code",
   "execution_count": 2,
   "id": "8ecd3a8a-d0a7-426b-9302-4e8d883dcc8e",
   "metadata": {},
   "outputs": [
    {
     "name": "stdout",
     "output_type": "stream",
     "text": [
      "pidluK\n"
     ]
    }
   ],
   "source": [
    "#1. Write a program to reverse a string.\n",
    "\n",
    "string = (\"Kuldip\")\n",
    "r_string = string[::-1]\n",
    "print(r_string)"
   ]
  },
  {
   "cell_type": "code",
   "execution_count": 14,
   "id": "55d35b0b-25b9-43e2-8872-f3ba76d19560",
   "metadata": {},
   "outputs": [
    {
     "name": "stdout",
     "output_type": "stream",
     "text": [
      "It's not a Palindrome\n"
     ]
    }
   ],
   "source": [
    "#2. Check if a string is a palindrome.\n",
    "\n",
    "string = (\"Kuldip Rangpara\")\n",
    "l_string = string.lower()\n",
    "r_string = l_string.replace(\" \", \"\")\n",
    "r1_string = r_string[::-1]\n",
    "\n",
    "if r_string == r1_string :\n",
    "    print(\"It's a Palindrome\")\n",
    "else:\n",
    "    print(\"It's not a Palindrome\")"
   ]
  },
  {
   "cell_type": "code",
   "execution_count": 5,
   "id": "a5e61659-b002-4d2a-8bd9-41bf8cec9f78",
   "metadata": {},
   "outputs": [
    {
     "name": "stdout",
     "output_type": "stream",
     "text": [
      "KULDIP RANGPARA\n"
     ]
    }
   ],
   "source": [
    "#3. Convert a string to uppercase.\n",
    "\n",
    "string = (\"kuldip rangpara\")\n",
    "u_string = string.upper()\n",
    "print(u_string)"
   ]
  },
  {
   "cell_type": "code",
   "execution_count": 6,
   "id": "2a11feda-cc82-449b-8ab3-461a57ead2d1",
   "metadata": {},
   "outputs": [
    {
     "name": "stdout",
     "output_type": "stream",
     "text": [
      "kuldip rangpara\n"
     ]
    }
   ],
   "source": [
    "#4. Convert a string to lowercase.\n",
    "\n",
    "string = (\"KULDIP RANGPARA\")\n",
    "l_string = string.lower()\n",
    "print(l_string)"
   ]
  },
  {
   "cell_type": "code",
   "execution_count": 9,
   "id": "a945fa4a-bf15-473d-a228-a429619278ce",
   "metadata": {},
   "outputs": [
    {
     "name": "stdout",
     "output_type": "stream",
     "text": [
      "5\n"
     ]
    }
   ],
   "source": [
    "#5. Count the number of vowels in a string.\n",
    "\n",
    "string = (\"My name is Kuldip\")\n",
    "vowels = \"aeiouAEIOU\"\n",
    "vowel_count = 0\n",
    "\n",
    "for char in string :\n",
    "    if char in vowels :\n",
    "        vowel_count += 1\n",
    "        \n",
    "print(vowel_count)"
   ]
  },
  {
   "cell_type": "code",
   "execution_count": 10,
   "id": "ad2a3bd7-06f8-4a97-a269-f0534bf2b5e8",
   "metadata": {},
   "outputs": [
    {
     "name": "stdout",
     "output_type": "stream",
     "text": [
      "9\n"
     ]
    }
   ],
   "source": [
    "#6. Count the number of consonants in a string.\n",
    "\n",
    "string = (\"My name is Kuldip\")\n",
    "consonants = \"bcdfghjklmnpqrstvwxyzBCDFGHJKLMNPQRSTVWXYZ\"\n",
    "consonant_count = 0\n",
    "\n",
    "for char in string:\n",
    "    if char in consonants:\n",
    "        consonant_count += 1\n",
    "        \n",
    "print(consonant_count)"
   ]
  },
  {
   "cell_type": "code",
   "execution_count": 13,
   "id": "4f0fe2b4-f834-4246-839a-11cf68f99d87",
   "metadata": {},
   "outputs": [
    {
     "name": "stdout",
     "output_type": "stream",
     "text": [
      "Mynameiskuldip\n"
     ]
    }
   ],
   "source": [
    "#7. Remove all whitespaces from a string.\n",
    "\n",
    "string = (\"My name    is  kuldip\")\n",
    "w_string = string.replace(\" \", \"\")\n",
    "print(w_string)"
   ]
  },
  {
   "cell_type": "code",
   "execution_count": 15,
   "id": "03495ba9-2c6e-483d-8dde-aedf9067e43a",
   "metadata": {},
   "outputs": [
    {
     "name": "stdout",
     "output_type": "stream",
     "text": [
      "15\n"
     ]
    }
   ],
   "source": [
    "#8. Find the length of a string without using the `len()` function.\n",
    "\n",
    "string = (\"kuldip rangpara\")\n",
    "s_length = 0\n",
    "\n",
    "for char in string :\n",
    "    s_length += 1\n",
    "    \n",
    "print(s_length)"
   ]
  },
  {
   "cell_type": "code",
   "execution_count": 1,
   "id": "80953c69-229a-4fbe-b90d-0abd4dac793f",
   "metadata": {},
   "outputs": [
    {
     "name": "stdout",
     "output_type": "stream",
     "text": [
      "Yes, the specific word is in a string\n"
     ]
    }
   ],
   "source": [
    "#9. Check if a string contains a specific word.\n",
    "\n",
    "string = (\"My name is Kuldip\")\n",
    "find_word = (\"name\")\n",
    "\n",
    "if find_word in string :\n",
    "    print(\"Yes, the specific word is in a string\")\n",
    "else:\n",
    "    print(\"No, the specific word is not in a string\")"
   ]
  },
  {
   "cell_type": "code",
   "execution_count": 2,
   "id": "7ba60430-6454-4867-8154-eb1c97f37c45",
   "metadata": {},
   "outputs": [
    {
     "name": "stdout",
     "output_type": "stream",
     "text": [
      "BGMI is a amazing game\n"
     ]
    }
   ],
   "source": [
    "#10. Replace a word in a string with another word.\n",
    "\n",
    "string = (\"PUBG is a amazing game\")\n",
    "replace_word = string.replace(\"PUBG\",\"BGMI\")\n",
    "print(replace_word)"
   ]
  },
  {
   "cell_type": "code",
   "execution_count": 3,
   "id": "a57b9403-df1a-4e78-bb09-74a7b1640f14",
   "metadata": {},
   "outputs": [
    {
     "name": "stdout",
     "output_type": "stream",
     "text": [
      "2\n"
     ]
    }
   ],
   "source": [
    "#11. Count the occurrences of a word in a string.\n",
    "\n",
    "string = (\"PUBG is my favourite game and I play this game a lot in holidays\")\n",
    "count_word = string.count(\"game\")\n",
    "print(count_word)"
   ]
  },
  {
   "cell_type": "code",
   "execution_count": 30,
   "id": "093c9dde-a0b9-4850-ae0a-01a642c52a11",
   "metadata": {},
   "outputs": [
    {
     "name": "stdout",
     "output_type": "stream",
     "text": [
      "the word example is first appears at 11 position\n"
     ]
    }
   ],
   "source": [
    "#12. Find the first occurrence of a word in a string.\n",
    "\n",
    "text = \"This is an example sentence. This is a word in the sentence.\"\n",
    "\n",
    "word = 'example'\n",
    "position = text.find(word)\n",
    "\n",
    "if position != -1:\n",
    "    print(f\"the word {word} is first appears at {position} position\")\n",
    "else:\n",
    "    print(f\"the word {word} is not appears at {position} position\")"
   ]
  },
  {
   "cell_type": "code",
   "execution_count": 35,
   "id": "871d4c48-8b34-4439-9d3d-41517cb046c3",
   "metadata": {},
   "outputs": [
    {
     "name": "stdout",
     "output_type": "stream",
     "text": [
      "The last occurrence of the word 'example' is at position 11.\n"
     ]
    }
   ],
   "source": [
    "#13. Find the last occurrence of a word in a string.\n",
    "\n",
    "text = \"This is an example sentence. This is a word in the sentence. This is the last word.\"\n",
    "\n",
    "word = \"example\"\n",
    "position = text.rfind(word)\n",
    "\n",
    "if position != -1:\n",
    "    print(f\"The last occurrence of the word '{word}' is at position {position}.\")\n",
    "else:\n",
    "    print(f\"The word '{word}' was not found in the text.\")\n"
   ]
  },
  {
   "cell_type": "code",
   "execution_count": 10,
   "id": "a817fe1f-ac04-4c27-b079-4b064eaf63b2",
   "metadata": {},
   "outputs": [
    {
     "name": "stdout",
     "output_type": "stream",
     "text": [
      "['I', 'have', 'a', 'two', 'pen']\n"
     ]
    }
   ],
   "source": [
    "#14. Split a string into a list of words.\n",
    "\n",
    "string = (\"I have a two pen\")\n",
    "s_string = string.split()\n",
    "print(s_string)"
   ]
  },
  {
   "cell_type": "code",
   "execution_count": 11,
   "id": "937a2bf0-edce-44a5-88a5-c4bf1d8e8b27",
   "metadata": {},
   "outputs": [
    {
     "name": "stdout",
     "output_type": "stream",
     "text": [
      "I have a two pen\n"
     ]
    }
   ],
   "source": [
    "#15. Join a list of words into a string.\n",
    "\n",
    "string = ['I', 'have', 'a', 'two', 'pen']\n",
    "j_string = ' '.join(string)\n",
    "print(j_string)"
   ]
  },
  {
   "cell_type": "code",
   "execution_count": 16,
   "id": "7aef3ac2-07c5-4901-891b-fa6176158597",
   "metadata": {},
   "outputs": [
    {
     "name": "stdout",
     "output_type": "stream",
     "text": [
      "I_have_a_computer\n"
     ]
    }
   ],
   "source": [
    "#16. Convert a string where words are separated by spaces to one where words\n",
    "#are separated by underscores.\n",
    "\n",
    "string = (\"I have a computer\")\n",
    "u_string = string.replace(' ', '_')\n",
    "print(u_string)"
   ]
  },
  {
   "cell_type": "code",
   "execution_count": 1,
   "id": "3bfe2aef-35ea-47e8-a776-4565112a25a7",
   "metadata": {},
   "outputs": [
    {
     "name": "stdout",
     "output_type": "stream",
     "text": [
      "True\n"
     ]
    }
   ],
   "source": [
    "#17. Check if a string starts with a specific word or phrase.\n",
    "\n",
    "string = (\"my name is Kuldip\")\n",
    "s_string = string.startswith(\"my\")\n",
    "print(s_string)"
   ]
  },
  {
   "cell_type": "code",
   "execution_count": 3,
   "id": "62add636-c266-4d5d-ac6f-e28ee25510b8",
   "metadata": {},
   "outputs": [
    {
     "name": "stdout",
     "output_type": "stream",
     "text": [
      "False\n"
     ]
    }
   ],
   "source": [
    "#18. Check if a string ends with a specific word or phrase.\n",
    "\n",
    "string = (\"my name is Kuldip\")\n",
    "e_string = string.endswith(\"my\")\n",
    "print(e_string)"
   ]
  },
  {
   "cell_type": "code",
   "execution_count": 4,
   "id": "1a28a8cc-4dd2-4f18-97f0-30ab7c0e0337",
   "metadata": {},
   "outputs": [
    {
     "name": "stdout",
     "output_type": "stream",
     "text": [
      "Good Morning\n"
     ]
    }
   ],
   "source": [
    "#19. Convert a string to title case (e.g., \"hello world\" to \"Hello World\").\n",
    "\n",
    "string = (\"good morning\")\n",
    "t_string = string.title()\n",
    "print(t_string)"
   ]
  },
  {
   "cell_type": "code",
   "execution_count": 6,
   "id": "843afcbd-1b1f-4826-9809-04337b49ce2e",
   "metadata": {},
   "outputs": [
    {
     "name": "stdout",
     "output_type": "stream",
     "text": [
      "Longest word in string: Welcome\n"
     ]
    }
   ],
   "source": [
    "#20. Find the longest word in a string.\n",
    "\n",
    "string = (\"Welcome to my home\")\n",
    "s = string.split()\n",
    "max = 0\n",
    "\n",
    "for element in s:\n",
    "    if len(element)>max:\n",
    "        max=len(element)\n",
    "        max_word=element\n",
    "print(\"Longest word in string:\", max_word)\n",
    "    "
   ]
  },
  {
   "cell_type": "code",
   "execution_count": 1,
   "id": "135bb5c9-dfec-4ed7-ac4b-c4992ec23bd4",
   "metadata": {},
   "outputs": [
    {
     "name": "stdout",
     "output_type": "stream",
     "text": [
      "Smallest word in string: \n"
     ]
    }
   ],
   "source": [
    "#21. Find the shortest word in a string.\n",
    "\n",
    "string = (\"My name is Kuldip\")\n",
    "s = string.split()\n",
    "min_word = len(s[0])\n",
    "min_word_final = \"\"\n",
    "\n",
    "for element in s:\n",
    "    if len(element)<min_word:\n",
    "        minword=len(element)\n",
    "        min_word_final=element\n",
    "print(\"Smallest word in string:\", min_word_final)"
   ]
  },
  {
   "cell_type": "code",
   "execution_count": 2,
   "id": "9602f624-9f81-4995-8670-6b7684b1f05a",
   "metadata": {},
   "outputs": [
    {
     "name": "stdout",
     "output_type": "stream",
     "text": [
      "python the using string the reverse\n"
     ]
    }
   ],
   "source": [
    "#22. Reverse the order of words in a string.\n",
    "\n",
    "string = (\"reverse the string using the python\")\n",
    "\n",
    "split_word = string.split()\n",
    "reverse_string = split_word[::-1]\n",
    "reverse_string = ' '.join(reverse_string)\n",
    "\n",
    "print(reverse_string)"
   ]
  },
  {
   "cell_type": "code",
   "execution_count": 3,
   "id": "c5b5d470-de23-4e2b-95de-fbe7533651be",
   "metadata": {},
   "outputs": [
    {
     "name": "stdout",
     "output_type": "stream",
     "text": [
      "string is alphanumeric\n"
     ]
    }
   ],
   "source": [
    "#23. Check if a string is alphanumeric.\n",
    "\n",
    "string = (\"kuldip123\")\n",
    "\n",
    "if string.isalnum():\n",
    "  print(\"string is alphanumeric\")\n",
    "else:\n",
    "  print(\"string is not aphanumeric\")"
   ]
  },
  {
   "cell_type": "code",
   "execution_count": 18,
   "id": "2f388a45-d4d6-478e-936a-5810b3679c6d",
   "metadata": {},
   "outputs": [
    {
     "name": "stdout",
     "output_type": "stream",
     "text": [
      "500\n"
     ]
    }
   ],
   "source": [
    "#24. Extract all digits from a string.\n",
    "\n",
    "\n",
    "string = (\"I have 500 dollar\")\n",
    "extracted_digit = \"\"\n",
    "\n",
    "for i in string:\n",
    "    if i.isdigit():\n",
    "        extracted_digit += i\n",
    "\n",
    "print(extracted_digit)\n"
   ]
  },
  {
   "cell_type": "code",
   "execution_count": 1,
   "id": "2c92d221-65e4-4091-a093-0d4bad7d5f36",
   "metadata": {},
   "outputs": [
    {
     "name": "stdout",
     "output_type": "stream",
     "text": [
      "Ihavedollar\n"
     ]
    }
   ],
   "source": [
    "#25. Extract all alphabets from a string.\n",
    "\n",
    "\n",
    "string = (\"I have 500 dollar\")\n",
    "extracted_alphabets = \"\"\n",
    "\n",
    "for i in string:\n",
    "    if i.isalpha():\n",
    "        extracted_alphabets += i\n",
    "\n",
    "print(extracted_alphabets)"
   ]
  },
  {
   "cell_type": "code",
   "execution_count": 2,
   "id": "bdb03efa-aaa4-4c43-b61b-3e5947249c55",
   "metadata": {},
   "outputs": [
    {
     "name": "stdout",
     "output_type": "stream",
     "text": [
      "2\n"
     ]
    }
   ],
   "source": [
    "#26. Count the number of uppercase letters in a string.\n",
    "\n",
    "\n",
    "string = (\"Hi Everyone\")\n",
    "uppercase_count = 0\n",
    "\n",
    "for i in string:\n",
    "    if i.isupper():\n",
    "        uppercase_count += 1\n",
    "\n",
    "print(uppercase_count)"
   ]
  },
  {
   "cell_type": "code",
   "execution_count": 3,
   "id": "27fc4725-811c-4eb1-857e-7d098b16a474",
   "metadata": {},
   "outputs": [
    {
     "name": "stdout",
     "output_type": "stream",
     "text": [
      "8\n"
     ]
    }
   ],
   "source": [
    "#27. Count the number of lowercase letters in a string.\n",
    "\n",
    "string = (\"Hi Everyone\")\n",
    "lowercase_count = 0\n",
    "\n",
    "for i in string:\n",
    "    if i.islower():\n",
    "        lowercase_count += 1\n",
    "\n",
    "print(lowercase_count)"
   ]
  },
  {
   "cell_type": "code",
   "execution_count": 4,
   "id": "6d1071ab-fa53-4698-b75f-13ab08a68937",
   "metadata": {},
   "outputs": [
    {
     "name": "stdout",
     "output_type": "stream",
     "text": [
      "mY NAME IS kULDIP\n"
     ]
    }
   ],
   "source": [
    "#28. Swap the case of each character in a string.\n",
    "\n",
    "string = (\"My name is Kuldip\")\n",
    "swapped_string = string.swapcase()\n",
    "\n",
    "print(swapped_string)"
   ]
  },
  {
   "cell_type": "code",
   "execution_count": 5,
   "id": "30762243-81c1-407a-aa08-6b16d89c6697",
   "metadata": {},
   "outputs": [
    {
     "name": "stdout",
     "output_type": "stream",
     "text": [
      "My name  Kuldip\n"
     ]
    }
   ],
   "source": [
    "#29. Remove a specific word from a string.\n",
    "\n",
    "string = (\"My name is Kuldip\")\n",
    "removed_word = \"is\" \n",
    "\n",
    "final_string = string.replace(removed_word, \"\")\n",
    "\n",
    "print(final_string)"
   ]
  },
  {
   "cell_type": "code",
   "execution_count": 6,
   "id": "6617ffde-4953-4cf4-bcc1-38afc747d625",
   "metadata": {},
   "outputs": [
    {
     "name": "stdout",
     "output_type": "stream",
     "text": [
      "kuldip123@email.com is valid email adress\n"
     ]
    }
   ],
   "source": [
    "#30. Check if a string is a valid email address\n",
    "\n",
    "\n",
    "import re\n",
    "\n",
    "email = \"kuldip123@email.com\"\n",
    "pattern = r'^[\\w\\.-]+@[\\w\\.-]+\\.\\w+$'\n",
    "\n",
    "if re.match(pattern, email):\n",
    "    print(f\"{email} is valid email adress\")\n",
    "else:\n",
    "    print(f\"{email} is not valid email adress\")"
   ]
  },
  {
   "cell_type": "code",
   "execution_count": 8,
   "id": "09879ebd-7f53-43ee-9f89-42413c5fe8c4",
   "metadata": {},
   "outputs": [
    {
     "name": "stdout",
     "output_type": "stream",
     "text": [
      "Username : kuldip123\n"
     ]
    }
   ],
   "source": [
    "#31. Extract the username from an email address string.\n",
    "\n",
    "\n",
    "email = \"kuldip123@email.com\"\n",
    "part = email.split(\"@\")\n",
    "\n",
    "if len(part) == 2:\n",
    "    username = part[0]\n",
    "    print(\"Username :\", username)\n",
    "else:\n",
    "    print(\"Invalid email adress\")"
   ]
  },
  {
   "cell_type": "code",
   "execution_count": 9,
   "id": "d8c2fffb-01e8-4181-8573-29167ccb417a",
   "metadata": {},
   "outputs": [
    {
     "name": "stdout",
     "output_type": "stream",
     "text": [
      "Domain name : email.com\n"
     ]
    }
   ],
   "source": [
    "#32. Extract the domain name from an email address string.\n",
    "\n",
    "email = \"kuldip123@email.com\"\n",
    "part = email.split(\"@\")\n",
    "\n",
    "if len(part) == 2:\n",
    "    domain = part[1]\n",
    "    print(\"Domain name :\", domain)\n",
    "else:\n",
    "    print(\"Invalid email adress\")"
   ]
  },
  {
   "cell_type": "code",
   "execution_count": 1,
   "id": "68787c52-61d2-4efa-9a95-a2bfb9123979",
   "metadata": {},
   "outputs": [
    {
     "name": "stdout",
     "output_type": "stream",
     "text": [
      "There are so many spaces in sentence\n"
     ]
    }
   ],
   "source": [
    "#33. Replace multiple spaces in a string with a single space.\n",
    "\n",
    "\n",
    "import re\n",
    "\n",
    "string = (\"There    are   so many  spaces   in sentence\")\n",
    "final_string = re.sub(r'\\s+', ' ', string)\n",
    "\n",
    "print(final_string)"
   ]
  },
  {
   "cell_type": "code",
   "execution_count": 4,
   "id": "6f1ae36e-68ed-45d4-9a02-029c10b9337b",
   "metadata": {},
   "outputs": [
    {
     "name": "stdout",
     "output_type": "stream",
     "text": [
      "https://green-architect-ojwfl.pwskills.app/lab/tree/work/20.ipynb is valid URL\n"
     ]
    }
   ],
   "source": [
    "#34. Check if a string is a valid URL.\n",
    "\n",
    "\n",
    "from urllib.parse import urlparse\n",
    "\n",
    "url = \"https://green-architect-ojwfl.pwskills.app/lab/tree/work/20.ipynb\"\n",
    "parsed_url = urlparse(url)\n",
    "\n",
    "if parsed_url.scheme and parsed_url.netloc:\n",
    "    print(f\"{url} is valid URL\")\n",
    "else:\n",
    "    print(f\"{url}is not valid URL\")"
   ]
  },
  {
   "cell_type": "code",
   "execution_count": 5,
   "id": "067ece03-d4d1-4dc9-8fac-5363c3a875a1",
   "metadata": {},
   "outputs": [
    {
     "name": "stdout",
     "output_type": "stream",
     "text": [
      "https\n"
     ]
    }
   ],
   "source": [
    "#35. Extract the protocol (http or https) from a URL string.\n",
    "\n",
    "\n",
    "from urllib.parse import urlparse\n",
    "\n",
    "url = \"https://colab.research.google.com/drive/1vacywrnAbOTjus5q5BPoSjGVLxS-byBL#scrollTo=RdQKwjo7-qH-\"\n",
    "\n",
    "parsed_url = urlparse(url)\n",
    "protocol = parsed_url.scheme\n",
    "\n",
    "print(protocol)"
   ]
  },
  {
   "cell_type": "code",
   "execution_count": 1,
   "id": "83a66882-c20f-4a67-820d-b74df98f7438",
   "metadata": {},
   "outputs": [
    {
     "name": "stdout",
     "output_type": "stream",
     "text": [
      "'K :'1\n",
      "'u :'1\n",
      "'l :'1\n",
      "'d :'1\n",
      "'i :'1\n",
      "'p :'2\n",
      "'  :'1\n",
      "'R :'1\n",
      "'a :'3\n",
      "'n :'1\n",
      "'g :'1\n",
      "'r :'1\n"
     ]
    }
   ],
   "source": [
    "#36. Find the frequency of each character in a string.\n",
    "\n",
    "\n",
    "string = (\"Kuldip Rangpara\")\n",
    "frequency_dict = {}\n",
    "\n",
    "for char in string:\n",
    "    if char in frequency_dict:\n",
    "        frequency_dict[char] += 1\n",
    "    else:\n",
    "        frequency_dict[char] = 1\n",
    "\n",
    "for char, count in frequency_dict.items():\n",
    "    print(f\"'{char} :'{count}\")"
   ]
  },
  {
   "cell_type": "code",
   "execution_count": 2,
   "id": "48032897-9526-4c83-9a00-8f30e80452f6",
   "metadata": {},
   "outputs": [
    {
     "name": "stdout",
     "output_type": "stream",
     "text": [
      "My name is Kuldip\n"
     ]
    }
   ],
   "source": [
    "#37. Remove all punctuation from a string.\n",
    "\n",
    "\n",
    "import string\n",
    "\n",
    "input_string = (\"My, name, is! Kuldip\")\n",
    "translator = str.maketrans('','', string.punctuation)\n",
    "final_string = input_string.translate(translator)\n",
    "\n",
    "print(final_string)\n"
   ]
  },
  {
   "cell_type": "code",
   "execution_count": 3,
   "id": "152bcbbe-f7d4-40cc-9fa4-960f37ccfa36",
   "metadata": {},
   "outputs": [
    {
     "name": "stdout",
     "output_type": "stream",
     "text": [
      "string cotains non-digits char\n"
     ]
    }
   ],
   "source": [
    "#38. Check if a string contains only digits\n",
    "\n",
    "\n",
    "string = (\"Kuldip123\")\n",
    "\n",
    "if string.isdigit():\n",
    "    print(\"string contains digits\")\n",
    "else:\n",
    "    print(\"string cotains non-digits char\")"
   ]
  },
  {
   "cell_type": "code",
   "execution_count": 4,
   "id": "06630028-ea53-42d3-a430-47b5128fc4c4",
   "metadata": {},
   "outputs": [
    {
     "name": "stdout",
     "output_type": "stream",
     "text": [
      "string contain non_alphabets char\n"
     ]
    }
   ],
   "source": [
    "#39. Check if a string contains only alphabets.\n",
    "\n",
    "\n",
    "string = (\"Kuldip123\")\n",
    "\n",
    "if string.isalpha():\n",
    "    print(\"string contains alphabets\")\n",
    "else:\n",
    "    print(\"string contain non_alphabets char\")"
   ]
  },
  {
   "cell_type": "code",
   "execution_count": 5,
   "id": "6dc00adb-0600-4055-a85d-2a14f75c9b5b",
   "metadata": {},
   "outputs": [
    {
     "name": "stdout",
     "output_type": "stream",
     "text": [
      "['H', 'i', ' ', 'e', 'v', 'e', 'r', 'y', 'o', 'n', 'e']\n"
     ]
    }
   ],
   "source": [
    "#40. Convert a string to a list of characters.\n",
    "\n",
    "\n",
    "string = (\"Hi everyone\")\n",
    "\n",
    "list_char = list(string)\n",
    "\n",
    "print(list_char)"
   ]
  },
  {
   "cell_type": "code",
   "execution_count": 7,
   "id": "91220a7d-eb9f-4cd8-8def-fcf7aa8e3c0f",
   "metadata": {},
   "outputs": [
    {
     "name": "stdout",
     "output_type": "stream",
     "text": [
      "cut and put are not anagrams\n"
     ]
    }
   ],
   "source": [
    "#41. Check if two strings are anagrams\n",
    "\n",
    "\n",
    "string1 = (\"cut\")\n",
    "string2 = (\"put\")\n",
    "\n",
    "string1 = string1.replace(\" \", \"\").lower()\n",
    "string2 = string2.replace(\" \", \"\").lower()\n",
    "\n",
    "if sorted(string1) == sorted(string2):\n",
    "    print(f\"{string1} and {string2} are anagrams\")\n",
    "else:\n",
    "    print(f\"{string1} and {string2} are not anagrams\")"
   ]
  },
  {
   "cell_type": "code",
   "execution_count": 1,
   "id": "691858bc-cbea-4b77-970c-9e8669a714e2",
   "metadata": {},
   "outputs": [],
   "source": [
    "#42. Encode a string using a Caesar cipher.\n",
    "\n",
    "\n"
   ]
  },
  {
   "cell_type": "code",
   "execution_count": 2,
   "id": "59d85417-ca4e-4bfc-a447-a42f7e8d9002",
   "metadata": {},
   "outputs": [],
   "source": [
    "#43. Decode a Caesar cipher encoded string.\n",
    "\n"
   ]
  },
  {
   "cell_type": "code",
   "execution_count": 2,
   "id": "bf03a151-8f4d-486b-bc53-c9e2200430f4",
   "metadata": {
    "tags": []
   },
   "outputs": [
    {
     "name": "stdout",
     "output_type": "stream",
     "text": [
      "on\n"
     ]
    }
   ],
   "source": [
    "#44. Find the most frequent word in a string.\n",
    "\n",
    "\n",
    "string = (\"on on on the most the time time\")\n",
    "list_word = string.split()\n",
    "freq_word = {}\n",
    "\n",
    "for word in list_word:\n",
    "    if word not in freq_word:\n",
    "        freq_word[word] = 1\n",
    "    else:\n",
    "        freq_word[word] +=1\n",
    "\n",
    "most_freq_word = max(freq_word, key=freq_word.get)\n",
    "\n",
    "print(most_freq_word)"
   ]
  },
  {
   "cell_type": "code",
   "execution_count": 1,
   "id": "a56cf951-54b0-4cbd-8c21-ce99f1e4d7cf",
   "metadata": {},
   "outputs": [
    {
     "name": "stdout",
     "output_type": "stream",
     "text": [
      "['there', 'are', 'so', 'many', 'words', 'in', 'this', 'sentence']\n"
     ]
    }
   ],
   "source": [
    "#45. Find all unique words in a string.\n",
    "\n",
    "\n",
    "string = (\"there are so many words in in in this this this so so sentence\")\n",
    "words = string.split()\n",
    "unique_word = []\n",
    "\n",
    "for word in words:\n",
    "    word = ''.join(e for e in word if e.isalnum())\n",
    "    word = word.lower()\n",
    "    if word not in unique_word:\n",
    "        unique_word.append(word)\n",
    "\n",
    "print(unique_word)"
   ]
  },
  {
   "cell_type": "code",
   "execution_count": 1,
   "id": "3631a90a-8c0b-41f2-93d2-d49ec38f0678",
   "metadata": {},
   "outputs": [
    {
     "name": "stdout",
     "output_type": "stream",
     "text": [
      "The total number of syllables in the string is 11.\n"
     ]
    }
   ],
   "source": [
    "#46. Count the number of syllables in a string\n",
    "\n",
    "text = \"Count the number of syllables in a string\"\n",
    "words = text.split()  \n",
    "\n",
    "total_syllables = 0\n",
    "for word in words:\n",
    "    word = word.lower()\n",
    "    count = 0\n",
    "    vowels = \"aeiouy\"\n",
    "\n",
    "    if word[0] in vowels:\n",
    "        count += 1\n",
    "\n",
    "    for i in range(1, len(word)):\n",
    "        if word[i] in vowels and word[i - 1] not in vowels:\n",
    "            count += 1\n",
    "\n",
    "    if word.endswith(\"e\"):\n",
    "        count -= 1\n",
    "\n",
    "    total_syllables += max(1, count) \n",
    "\n",
    "print(f\"The total number of syllables in the string is {total_syllables}.\")\n"
   ]
  },
  {
   "cell_type": "code",
   "execution_count": 1,
   "id": "7d95d8d3-91ec-4d1c-b171-0b97937c4aad",
   "metadata": {},
   "outputs": [
    {
     "name": "stdout",
     "output_type": "stream",
     "text": [
      "string contains special characters\n"
     ]
    }
   ],
   "source": [
    "#47. Check if a string contains any special characters.\n",
    "\n",
    "string = (\"kuldip123$\")\n",
    "word = string.split()\n",
    "\n",
    "valid_char = set(\"abcdefghijklmnopqrstuvwxyzABCDEFGHIJKLMNOPQRSTUVWXYZ0123456789\")\n",
    "\n",
    "special_char_found = False\n",
    "\n",
    "for word in string:\n",
    "    if word not in valid_char:\n",
    "        special_char_found = True\n",
    "        break\n",
    "\n",
    "if special_char_found :\n",
    "    print(\"string contains special characters\")\n",
    "else :\n",
    "    print(\"string does not contains special characters\")"
   ]
  },
  {
   "cell_type": "code",
   "execution_count": 2,
   "id": "307ce882-9409-423d-8fcc-8d8ef5d7db08",
   "metadata": {},
   "outputs": [
    {
     "name": "stdout",
     "output_type": "stream",
     "text": [
      "I am Iron man\n"
     ]
    }
   ],
   "source": [
    "#48. Remove the nth word from a string.\n",
    "\n",
    "string = (\"I am the Iron man\")\n",
    "words = string.split()\n",
    "n = 2\n",
    "\n",
    "if 0 <= n < len(words):\n",
    "    del words[n]\n",
    "    result_string=' '.join(words)\n",
    "    print(result_string)\n",
    "else :\n",
    "    print(string)"
   ]
  },
  {
   "cell_type": "code",
   "execution_count": 2,
   "id": "8baf353b-b589-49c1-876d-771151261bbb",
   "metadata": {},
   "outputs": [
    {
     "name": "stdout",
     "output_type": "stream",
     "text": [
      "This is greata sample string.\n"
     ]
    }
   ],
   "source": [
    "#49. Insert a word at the nth position in a string.\n",
    "\n",
    "original_string = \"This is a sample string.\"\n",
    "\n",
    "word_to_insert = \"great\"\n",
    "position = 8\n",
    "\n",
    "if position < 0 or position > len(original_string):\n",
    "    print(\"Invalid position\")\n",
    "else:\n",
    "    new_string = original_string[:position] + word_to_insert + original_string[position:]\n",
    "    print(new_string)"
   ]
  },
  {
   "cell_type": "code",
   "execution_count": 3,
   "id": "3583b9be-5739-44eb-baa6-873ed2dd327a",
   "metadata": {},
   "outputs": [
    {
     "name": "stdout",
     "output_type": "stream",
     "text": [
      "[['John', 'Doe', '30'], ['Jane', 'Smith', '25'], ['Bob', 'Johnson', '40']]\n"
     ]
    }
   ],
   "source": [
    "#50. Convert a CSV string to a list of lists.\n",
    "\n",
    "import csv\n",
    "from io import StringIO\n",
    "\n",
    "csv_string = (\"John,Doe,30\\nJane,Smith,25\\nBob,Johnson,40\")\n",
    "\n",
    "data = []\n",
    "\n",
    "csv_reader = csv.reader(StringIO(csv_string))\n",
    "\n",
    "for row in csv_reader:\n",
    "    data.append(row)\n",
    "\n",
    "print(data)"
   ]
  },
  {
   "cell_type": "code",
   "execution_count": null,
   "id": "f651a0df-598a-44e5-8131-43d2db946add",
   "metadata": {},
   "outputs": [],
   "source": []
  },
  {
   "cell_type": "code",
   "execution_count": null,
   "id": "0b26dc8f-1e90-4a76-bfd3-7d0e391419f7",
   "metadata": {},
   "outputs": [],
   "source": []
  },
  {
   "cell_type": "code",
   "execution_count": 4,
   "id": "ebfc56c4-726d-4290-9c85-bbf5c82f6862",
   "metadata": {},
   "outputs": [],
   "source": [
    "#list based practice problem"
   ]
  },
  {
   "cell_type": "code",
   "execution_count": null,
   "id": "79a53631-1ccc-45b9-a2b8-42241912a60d",
   "metadata": {},
   "outputs": [],
   "source": []
  },
  {
   "cell_type": "code",
   "execution_count": null,
   "id": "58019226-b368-4880-9f06-57e142d6733e",
   "metadata": {},
   "outputs": [],
   "source": []
  },
  {
   "cell_type": "code",
   "execution_count": 5,
   "id": "71364db5-ff23-4d69-8a3e-e69b78279882",
   "metadata": {},
   "outputs": [],
   "source": [
    "#1. Create a list with integers from 1 to 10.\n",
    "\n",
    "\n",
    "my_list = [1, 2, 3, 4, 5, 6, 7, 8, 9, 10]"
   ]
  },
  {
   "cell_type": "code",
   "execution_count": 6,
   "id": "5829d511-9074-44e1-8d46-6e6e3037924e",
   "metadata": {},
   "outputs": [
    {
     "name": "stdout",
     "output_type": "stream",
     "text": [
      "Length of list: 10\n"
     ]
    }
   ],
   "source": [
    "#2. Find the length of a list without using the `len()` function.\n",
    "\n",
    "\n",
    "my_list = [1, 2, 3, 4, 5, 6, 7, 8, 9, 10]\n",
    "count = 0\n",
    "\n",
    "for i in my_list:\n",
    "    count += 1\n",
    "\n",
    "print(\"Length of list:\" ,count)"
   ]
  },
  {
   "cell_type": "code",
   "execution_count": 1,
   "id": "5f1067ff-9380-40fd-824c-4df5299a61c0",
   "metadata": {},
   "outputs": [
    {
     "name": "stdout",
     "output_type": "stream",
     "text": [
      "[1, 2, 3, 4, 5, 6, 7, 8, 9, 10, 11]\n"
     ]
    }
   ],
   "source": [
    "#3. Append an element to the end of a list.\n",
    "\n",
    "my_list = [1, 2, 3, 4, 5, 6, 7, 8, 9, 10]\n",
    "my_list.append(11)\n",
    "\n",
    "print(my_list)"
   ]
  },
  {
   "cell_type": "code",
   "execution_count": 2,
   "id": "4e3c825a-6256-4270-abe0-f3209c62840a",
   "metadata": {},
   "outputs": [
    {
     "name": "stdout",
     "output_type": "stream",
     "text": [
      "[1, 2, 3, 4, 88, 5, 6, 7, 8, 9, 10]\n"
     ]
    }
   ],
   "source": [
    "#4. Insert an element at a specific index in a list.\n",
    "\n",
    "my_list = [1, 2, 3, 4, 5, 6, 7, 8, 9, 10]\n",
    "\n",
    "my_list.insert(4, 88)\n",
    "\n",
    "print(my_list)"
   ]
  },
  {
   "cell_type": "code",
   "execution_count": 3,
   "id": "acd18009-cc00-45f6-9dd3-7113515397e5",
   "metadata": {},
   "outputs": [
    {
     "name": "stdout",
     "output_type": "stream",
     "text": [
      "[1, 2, 4, 5, 6, 7, 8, 9, 10]\n"
     ]
    }
   ],
   "source": [
    "#5. Remove an element from a list by its value.\n",
    "\n",
    "my_list = [1, 2, 3, 4, 5, 6, 7, 8, 9, 10]\n",
    "\n",
    "my_list.remove(3)\n",
    "\n",
    "print(my_list)"
   ]
  },
  {
   "cell_type": "code",
   "execution_count": 4,
   "id": "b5d655ff-7295-4230-989c-5dedcb2a3d21",
   "metadata": {},
   "outputs": [
    {
     "name": "stdout",
     "output_type": "stream",
     "text": [
      "new list: [1, 2, 3, 5, 6, 7, 8, 9, 10]\n",
      "removed element: 4\n"
     ]
    }
   ],
   "source": [
    "#6. Remove an element from a list by its index.\n",
    "\n",
    "\n",
    "my_list = [1, 2, 3, 4, 5, 6, 7, 8, 9, 10]\n",
    "\n",
    "removed_element = my_list.pop(3)\n",
    "\n",
    "print(\"new list:\" ,my_list)\n",
    "print(\"removed element:\" ,removed_element)"
   ]
  },
  {
   "cell_type": "code",
   "execution_count": 5,
   "id": "22d22f52-49cf-4597-acb1-51393d51c4aa",
   "metadata": {},
   "outputs": [
    {
     "name": "stdout",
     "output_type": "stream",
     "text": [
      "Element 5 exists in my list\n"
     ]
    }
   ],
   "source": [
    "#7. Check if an element exists in a list.\n",
    "\n",
    "my_list = [1, 2, 3, 4, 5, 6, 7, 8, 9, 10]\n",
    "\n",
    "if 5 in my_list:\n",
    "    print(\"Element 5 exists in my list\")\n",
    "else:\n",
    "    print(\"Element 5 does not exists in my list\")"
   ]
  },
  {
   "cell_type": "code",
   "execution_count": 6,
   "id": "4ef9eb0b-6fa2-487b-930e-74cdb137a14c",
   "metadata": {},
   "outputs": [
    {
     "name": "stdout",
     "output_type": "stream",
     "text": [
      "first occurrence of 10: 9\n"
     ]
    }
   ],
   "source": [
    "#8. Find the index of the first occurrence of an element in a list.\n",
    "\n",
    "my_list = [1, 2, 3, 4, 5, 6, 7, 8, 9, 10]\n",
    "\n",
    "index = my_list.index(10)\n",
    "\n",
    "print(\"first occurrence of 10:\" , index)"
   ]
  },
  {
   "cell_type": "code",
   "execution_count": 11,
   "id": "929a1c93-7f04-4f80-96b2-189b5a82e2ff",
   "metadata": {},
   "outputs": [
    {
     "name": "stdout",
     "output_type": "stream",
     "text": [
      "Occurrences count: 3\n"
     ]
    }
   ],
   "source": [
    "#9. Count the occurrences of an element in a list.\n",
    "\n",
    "my_list = [1, 2, 3, 4, 5, 6, 7, 5, 5, 8, 9, 10]\n",
    "\n",
    "count = my_list.count(5)\n",
    "\n",
    "print(\"Occurrences count:\", count)"
   ]
  },
  {
   "cell_type": "code",
   "execution_count": 12,
   "id": "550ba991-c978-4dd5-ab51-a5ab53be7857",
   "metadata": {},
   "outputs": [
    {
     "name": "stdout",
     "output_type": "stream",
     "text": [
      "[10, 9, 8, 5, 5, 7, 6, 5, 4, 3, 2, 1]\n"
     ]
    }
   ],
   "source": [
    "#10. Reverse the order of elements in a list.\n",
    "\n",
    "my_list = [1, 2, 3, 4, 5, 6, 7, 5, 5, 8, 9, 10]\n",
    "\n",
    "reversed_list = my_list[::-1]\n",
    "\n",
    "print(reversed_list)"
   ]
  },
  {
   "cell_type": "code",
   "execution_count": 13,
   "id": "6952c70b-4477-4387-b61f-431b4809d327",
   "metadata": {},
   "outputs": [
    {
     "name": "stdout",
     "output_type": "stream",
     "text": [
      "[2, 2, 4, 5, 6, 8]\n"
     ]
    }
   ],
   "source": [
    "#11. Sort a list in ascending order.\n",
    "\n",
    "my_list = [2, 4, 2, 6, 8, 5]\n",
    "\n",
    "my_list.sort()\n",
    "\n",
    "print(my_list)"
   ]
  },
  {
   "cell_type": "code",
   "execution_count": 15,
   "id": "500be093-94b8-4c1f-b95c-3bbb1057d6c3",
   "metadata": {},
   "outputs": [
    {
     "name": "stdout",
     "output_type": "stream",
     "text": [
      "[8, 6, 5, 4, 2, 2]\n"
     ]
    }
   ],
   "source": [
    "#12. Sort a list in descending order.\n",
    "\n",
    "my_list = [2, 4, 2, 6, 8, 5]\n",
    "\n",
    "my_list.sort(reverse=True)\n",
    "\n",
    "print(my_list)"
   ]
  },
  {
   "cell_type": "code",
   "execution_count": 1,
   "id": "94c34b41-3f30-439f-85c4-2d38f114bf03",
   "metadata": {},
   "outputs": [
    {
     "name": "stdout",
     "output_type": "stream",
     "text": [
      "[2, 4, 6, 8, 10, 12, 14, 16, 18, 20]\n"
     ]
    }
   ],
   "source": [
    "#13. Create a list of even numbers from 1 to 20.\n",
    "\n",
    "even_numbers = [x for x in range(1,21) if x % 2 ==0]\n",
    "\n",
    "print(even_numbers)"
   ]
  },
  {
   "cell_type": "code",
   "execution_count": 2,
   "id": "ccdebf0f-c8f2-47cb-ab65-5f2163337bf9",
   "metadata": {},
   "outputs": [
    {
     "name": "stdout",
     "output_type": "stream",
     "text": [
      "[1, 3, 5, 7, 9, 11, 13, 15, 17, 19]\n"
     ]
    }
   ],
   "source": [
    "#14. Create a list of odd numbers from 1 to 20.\n",
    "\n",
    "odd_numbers = [x for x in range(1, 21) if x % 2 != 0]\n",
    "\n",
    "print(odd_numbers)"
   ]
  },
  {
   "cell_type": "code",
   "execution_count": 3,
   "id": "1c840c81-e61b-4c27-8ae0-a54936ace4bc",
   "metadata": {},
   "outputs": [
    {
     "name": "stdout",
     "output_type": "stream",
     "text": [
      "total sum: 65\n"
     ]
    }
   ],
   "source": [
    "#15. Find the sum of all elements in a list\n",
    "\n",
    "my_list = [1, 2, 3, 4, 5, 6, 7, 5, 5, 8, 9, 10]\n",
    "\n",
    "total_sum = sum(my_list)\n",
    "\n",
    "print(\"total sum:\" ,total_sum)"
   ]
  },
  {
   "cell_type": "code",
   "execution_count": 4,
   "id": "2fbc5d34-4999-457a-86be-3d69630550d0",
   "metadata": {},
   "outputs": [
    {
     "name": "stdout",
     "output_type": "stream",
     "text": [
      "maximum value: 10\n"
     ]
    }
   ],
   "source": [
    "#16. Find the maximum value in a list.\n",
    "\n",
    "my_list = [1, 2, 3, 4, 5, 6, 7, 5, 5, 8, 9, 10]\n",
    "\n",
    "maximum_value = max(my_list)\n",
    "\n",
    "print(\"maximum value:\" ,maximum_value)"
   ]
  },
  {
   "cell_type": "code",
   "execution_count": 5,
   "id": "89685358-a4e4-45a2-ba3f-9b40c3ede99b",
   "metadata": {},
   "outputs": [
    {
     "name": "stdout",
     "output_type": "stream",
     "text": [
      "minimum value: 1\n"
     ]
    }
   ],
   "source": [
    "#17. Find the minimum value in a list.\n",
    "\n",
    "my_list = [1, 2, 3, 4, 5, 6, 7, 5, 5, 8, 9, 10]\n",
    "\n",
    "min_value = min(my_list)\n",
    "\n",
    "print(\"minimum value:\" ,min_value)"
   ]
  },
  {
   "cell_type": "code",
   "execution_count": 6,
   "id": "2ef2fcd9-786d-4706-8e06-844394ccc184",
   "metadata": {},
   "outputs": [
    {
     "name": "stdout",
     "output_type": "stream",
     "text": [
      "[1, 4, 9, 16, 25, 36, 49, 64, 81, 100]\n"
     ]
    }
   ],
   "source": [
    "#18. Create a list of squares of numbers from 1 to 10\n",
    "\n",
    "squares = [x**2 for x in range(1, 11)]\n",
    "print(squares)"
   ]
  },
  {
   "cell_type": "code",
   "execution_count": 7,
   "id": "f4c63912-1ebd-4b3e-ba83-b4a5930bd72c",
   "metadata": {},
   "outputs": [],
   "source": [
    "#19. Create a list of random numbers.\n",
    "\n",
    "random_list = [2, 4, 66, 55, 5, 5, 2, 66, 8, 9, 9, 3, 3] "
   ]
  },
  {
   "cell_type": "code",
   "execution_count": 8,
   "id": "6df9797c-f9b8-445a-b5de-3bbdbec5bb88",
   "metadata": {},
   "outputs": [
    {
     "name": "stdout",
     "output_type": "stream",
     "text": [
      "[2, 66, 4, 5, 3, 8, 9, 55]\n"
     ]
    }
   ],
   "source": [
    "#20. Remove duplicates from a list\n",
    "\n",
    "random_list = [2, 4, 66, 55, 5, 5, 2, 66, 8, 9, 9, 3, 3] \n",
    "\n",
    "unique_set = set(random_list)\n",
    "unique_list = list(unique_set)\n",
    "\n",
    "print(unique_list)"
   ]
  },
  {
   "cell_type": "code",
   "execution_count": 9,
   "id": "bb0b662f-05e6-474e-a8ed-702392b9ffe1",
   "metadata": {},
   "outputs": [
    {
     "name": "stdout",
     "output_type": "stream",
     "text": [
      "{2, 3, 4, 6, 8}\n"
     ]
    }
   ],
   "source": [
    "#21. Find the common elements between two lists\n",
    "\n",
    "list1 = [2,3,4,6,7,8]\n",
    "list2 = [2,3,6,8,4,4,9]\n",
    "\n",
    "set1 = set(list1)\n",
    "set2 = set(list2)\n",
    "common_elements = (set1 & set2)\n",
    "\n",
    "print(common_elements)"
   ]
  },
  {
   "cell_type": "code",
   "execution_count": 2,
   "id": "17665eae-9329-4d9f-9c39-2c2cbade50f0",
   "metadata": {},
   "outputs": [
    {
     "name": "stdout",
     "output_type": "stream",
     "text": [
      "[1, 2]\n",
      "[6, 7]\n"
     ]
    }
   ],
   "source": [
    "#22. Find the difference between two lists.\n",
    "\n",
    "list1 = [1, 2, 3, 4, 5]\n",
    "list2 = [3, 4, 5, 6, 7]\n",
    "\n",
    "set1 = set(list1)\n",
    "set2 = set(list2)\n",
    "difference_set1 = set1 - set2\n",
    "difference_set2 = set2 - set1\n",
    "\n",
    "difference_list1 = list(difference_set1)\n",
    "difference_list2 = list(difference_set2)\n",
    "\n",
    "print(difference_list1)\n",
    "print(difference_list2)"
   ]
  },
  {
   "cell_type": "code",
   "execution_count": 3,
   "id": "d7ab762e-ec55-4d36-ba6b-ec79d37a0d1d",
   "metadata": {},
   "outputs": [
    {
     "name": "stdout",
     "output_type": "stream",
     "text": [
      "[1, 2, 3, 4, 5, 3, 4, 5, 6, 7]\n"
     ]
    }
   ],
   "source": [
    "#23. Merge two lists.\n",
    "\n",
    "list1 = [1, 2, 3, 4, 5]\n",
    "list2 = [3, 4, 5, 6, 7]\n",
    "\n",
    "merged_list = list1 + list2\n",
    "\n",
    "print(merged_list)"
   ]
  },
  {
   "cell_type": "code",
   "execution_count": 4,
   "id": "f96e658b-c9f3-435d-8cb4-5cfd357752bb",
   "metadata": {},
   "outputs": [
    {
     "name": "stdout",
     "output_type": "stream",
     "text": [
      "[2, 4, 6, 8, 10]\n"
     ]
    }
   ],
   "source": [
    "#24. Multiply all elements in a list by 2\n",
    "\n",
    "list = [1, 2, 3, 4, 5]\n",
    "\n",
    "result_list = [x * 2 for x in list]\n",
    "print(result_list) "
   ]
  },
  {
   "cell_type": "code",
   "execution_count": 7,
   "id": "0a7a21c5-8c9d-4cf7-b791-cc55639ecabf",
   "metadata": {},
   "outputs": [
    {
     "name": "stdout",
     "output_type": "stream",
     "text": [
      "[1, 3, 5, 3, 5, 7]\n"
     ]
    }
   ],
   "source": [
    "#25. Filter out all even numbers from a list\n",
    "\n",
    "list = [1, 2, 3, 4, 5, 3, 4, 5, 6, 7]\n",
    "\n",
    "odd_numbers = [item for item in list if item % 2 != 0]\n",
    "\n",
    "print(odd_numbers)"
   ]
  },
  {
   "cell_type": "code",
   "execution_count": 1,
   "id": "88c3c170-2e57-4c43-a4cc-c72b2d514d52",
   "metadata": {},
   "outputs": [
    {
     "name": "stdout",
     "output_type": "stream",
     "text": [
      "[1, 2, 3, 4, 5]\n"
     ]
    }
   ],
   "source": [
    "#26. Convert a list of strings to a list of integers.\n",
    "\n",
    "string_list = [\"1\", \"2\", \"3\", \"4\", \"5\"]\n",
    "int_list = []\n",
    "\n",
    "for i in string_list:\n",
    "    int_list.append(int(i))\n",
    "\n",
    "print(int_list)"
   ]
  },
  {
   "cell_type": "code",
   "execution_count": 2,
   "id": "46e9d377-7e51-4cf3-8802-0da0ff3592e1",
   "metadata": {},
   "outputs": [
    {
     "name": "stdout",
     "output_type": "stream",
     "text": [
      "['1', '2', '3', '4', '5', '3', '4', '5', '6', '7']\n"
     ]
    }
   ],
   "source": [
    "#27. Convert a list of integers to a list of strings\n",
    "\n",
    "int_list = [1, 2, 3, 4, 5, 3, 4, 5, 6, 7]\n",
    "string_list = []\n",
    "\n",
    "for i in int_list:\n",
    "    string_list.append(str(i))\n",
    "\n",
    "print(string_list)"
   ]
  },
  {
   "cell_type": "code",
   "execution_count": 3,
   "id": "664c52f5-548b-49aa-b233-bc5b82ef83e1",
   "metadata": {},
   "outputs": [
    {
     "name": "stdout",
     "output_type": "stream",
     "text": [
      "[7, 6, 5, 4, 3, 2, 1]\n"
     ]
    }
   ],
   "source": [
    "#28. Flatten a nested list.\n",
    "\n",
    "nested_list = [1, [2, 3], [4, [5, 6]], 7]\n",
    "\n",
    "flat_list = []\n",
    "stack = [nested_list]\n",
    "\n",
    "while stack:\n",
    "    current_element = stack.pop()\n",
    "    if isinstance(current_element, list):\n",
    "        stack.extend(current_element)\n",
    "    else:\n",
    "        flat_list.append(current_element)\n",
    "\n",
    "print(flat_list)"
   ]
  },
  {
   "cell_type": "code",
   "execution_count": 3,
   "id": "7b73f4ae-73a1-4d97-8b3b-243d98aedc82",
   "metadata": {},
   "outputs": [
    {
     "name": "stdout",
     "output_type": "stream",
     "text": [
      "[0, 1, 1, 2, 3, 5, 8, 13, 21, 34]\n"
     ]
    }
   ],
   "source": [
    "#29. Create a list of the first 10 Fibonacci numbers.\n",
    "\n",
    "fibonacci_list = [0, 1]\n",
    "\n",
    "for i in range(8):\n",
    "    fibonacci_numbers = fibonacci_list[-1] + fibonacci_list[-2]\n",
    "    fibonacci_list.append(fibonacci_numbers)\n",
    "    \n",
    "print(fibonacci_list)"
   ]
  },
  {
   "cell_type": "code",
   "execution_count": 6,
   "id": "405c9b1f-c51f-4eaa-8897-a4820eb6236b",
   "metadata": {},
   "outputs": [
    {
     "name": "stdout",
     "output_type": "stream",
     "text": [
      "list is sorted\n"
     ]
    }
   ],
   "source": [
    "my_list = [1, 2, 3, 4, 5]\n",
    "\n",
    "sorted_list = True\n",
    "\n",
    "for i in range(len(my_list) - 1):\n",
    "    if my_list[i] > my_list[i + 1] :\n",
    "        sorted_list = False\n",
    "    break\n",
    "    \n",
    "if sorted_list:   \n",
    "    print(\"list is sorted\")\n",
    "else:\n",
    "    print(\"list is not sorted\")"
   ]
  },
  {
   "cell_type": "code",
   "execution_count": 1,
   "id": "8db9c3ec-3fe4-4a91-ab32-b783fe5d5f53",
   "metadata": {},
   "outputs": [
    {
     "name": "stdout",
     "output_type": "stream",
     "text": [
      "[3, 4, 5, 1, 2]\n"
     ]
    }
   ],
   "source": [
    "#31. Rotate a list to the left by `n` positions.\n",
    "\n",
    "\n",
    "my_list = [1,2,3,4,5]\n",
    "n = 2\n",
    "\n",
    "n = n % len(my_list)\n",
    "\n",
    "rotated_list = my_list[n:] + my_list[:n]\n",
    "\n",
    "print(rotated_list)"
   ]
  },
  {
   "cell_type": "code",
   "execution_count": 1,
   "id": "7b4bec24-e23a-4ce9-b459-5b71a03a7a23",
   "metadata": {},
   "outputs": [
    {
     "name": "stdout",
     "output_type": "stream",
     "text": [
      "[4, 5, 1, 2, 3]\n"
     ]
    }
   ],
   "source": [
    "#32. Rotate a list to the right by `n` positions.\n",
    "\n",
    "my_list = [1,2,3,4,5]\n",
    "n = 2\n",
    "\n",
    "n = n % len(my_list)\n",
    "\n",
    "first_part = my_list[-n:]\n",
    "second_part = my_list[:-n]\n",
    "\n",
    "rotated_list_right = first_part + second_part\n",
    "\n",
    "print(rotated_list_right)"
   ]
  },
  {
   "cell_type": "code",
   "execution_count": 2,
   "id": "91529fbd-fefe-405e-8e20-fdfb6fffdeb4",
   "metadata": {},
   "outputs": [
    {
     "name": "stdout",
     "output_type": "stream",
     "text": [
      "[2, 3, 5, 7, 11, 13, 17, 19, 23, 29, 31, 37, 41, 43, 47]\n"
     ]
    }
   ],
   "source": [
    "#33. Create a list of prime numbers up to 50.\n",
    "\n",
    "prime_numbers = []\n",
    "\n",
    "for num in range(2, 51):\n",
    "    is_prime = True\n",
    "\n",
    "    for divisor in range(2, int(num ** 0.5) + 1):\n",
    "        if num % divisor == 0:\n",
    "            is_prime = False\n",
    "            break\n",
    "\n",
    "    if is_prime :\n",
    "        prime_numbers.append(num)\n",
    "\n",
    "print(prime_numbers)"
   ]
  },
  {
   "cell_type": "code",
   "execution_count": 2,
   "id": "36798ec2-fec3-4f1e-b434-30819db468ad",
   "metadata": {},
   "outputs": [
    {
     "name": "stdout",
     "output_type": "stream",
     "text": [
      "[[1, 2, 3], [4, 5, 6], [7, 8, 9]]\n"
     ]
    }
   ],
   "source": [
    "#34. Split a list into chunks of size `n`.\n",
    "\n",
    "my_list = [1, 2, 3, 4, 5, 6, 7, 8, 9]\n",
    "n = 3\n",
    "chunks = []\n",
    "\n",
    "for i in range(0 , len(my_list), n):\n",
    "    chunk = my_list[i:i + n]\n",
    "    chunks.append(chunk)\n",
    "\n",
    "print(chunks)"
   ]
  },
  {
   "cell_type": "code",
   "execution_count": 1,
   "id": "85a1f509-d77f-474c-898d-0e5061e3e852",
   "metadata": {},
   "outputs": [
    {
     "name": "stdout",
     "output_type": "stream",
     "text": [
      "33\n"
     ]
    }
   ],
   "source": [
    "#35. Find the second largest number in a list.\n",
    "\n",
    "numbers = [10, 20, 33, 25, 29, 50]\n",
    "\n",
    "largest = numbers[0]\n",
    "sec_largest = numbers[0]\n",
    "\n",
    "for i in range(len(numbers)):\n",
    "    if numbers[i]>largest:\n",
    "        largest = numbers[i]\n",
    "\n",
    "for i in range(len(numbers)):\n",
    "    if numbers[i]>sec_largest and numbers[i] != largest:\n",
    "        sec_largest = numbers[i]\n",
    "\n",
    "print(sec_largest)"
   ]
  },
  {
   "cell_type": "code",
   "execution_count": 3,
   "id": "ac262e87-bf6d-4e77-a0a7-a0e3b335221c",
   "metadata": {},
   "outputs": [
    {
     "name": "stdout",
     "output_type": "stream",
     "text": [
      "[1, 4, 9, 16, 25, 36, 49]\n"
     ]
    }
   ],
   "source": [
    "#36. Replace every element in a list with its square.\n",
    "\n",
    "my_list = [1,2,3,4,5,6,7]\n",
    "\n",
    "for i in range(len(my_list)):\n",
    "    my_list[i] = my_list[i] ** 2\n",
    "\n",
    "print(my_list)\n"
   ]
  },
  {
   "cell_type": "code",
   "execution_count": 1,
   "id": "df19fe3d-a3cd-40b3-aca8-41321f37f5d7",
   "metadata": {},
   "outputs": [
    {
     "name": "stdout",
     "output_type": "stream",
     "text": [
      "{'apple': 0, 'banana': 1, 'cherry': 2, 'date': 3}\n"
     ]
    }
   ],
   "source": [
    "#37. Convert a list to a dictionary where list elements become keys and their indices become values.\n",
    "\n",
    "my_list = [\"apple\", \"banana\", \"cherry\", \"date\"]\n",
    "\n",
    "my_dict = {element : index for index, element in enumerate(my_list)}\n",
    "\n",
    "print(my_dict)"
   ]
  },
  {
   "cell_type": "code",
   "execution_count": 2,
   "id": "0349540e-174f-400d-971e-49940788e380",
   "metadata": {},
   "outputs": [
    {
     "name": "stdout",
     "output_type": "stream",
     "text": [
      "[4, 3, 5, 6, 7, 2, 1]\n"
     ]
    }
   ],
   "source": [
    "#38. Shuffle the elements of a list randomly.\n",
    "\n",
    "import random\n",
    "\n",
    "my_list = [1,2,3,4,5,6,7]\n",
    "\n",
    "random.shuffle(my_list)\n",
    "\n",
    "print(my_list)"
   ]
  },
  {
   "cell_type": "code",
   "execution_count": 2,
   "id": "408cf92c-7a8d-409a-b63a-dc0446b8d74a",
   "metadata": {},
   "outputs": [
    {
     "name": "stdout",
     "output_type": "stream",
     "text": [
      "[1, 2, 6, 24, 120, 720, 5040, 40320, 362880, 3628800]\n"
     ]
    }
   ],
   "source": [
    "#39. Create a list of the first 10 factorial \n",
    "\n",
    "\n",
    "factorial_list = []\n",
    "\n",
    "for n in range(1, 11):\n",
    "    factorial = 1\n",
    "    for i in range(1, n + 1):\n",
    "        factorial *= i\n",
    "    factorial_list.append(factorial)\n",
    "\n",
    "print(factorial_list)"
   ]
  },
  {
   "cell_type": "code",
   "execution_count": 3,
   "id": "8a15a9a1-e618-4ed1-ba14-9fade305762e",
   "metadata": {},
   "outputs": [
    {
     "name": "stdout",
     "output_type": "stream",
     "text": [
      "The two list at least have one common elements\n"
     ]
    }
   ],
   "source": [
    "#40. Check if two lists have at least one element in common.\n",
    "\n",
    "list1 = [1, 2, 3, 4, 5]\n",
    "list2 = [4, 5, 6, 7, 8]\n",
    "\n",
    "common_element = False\n",
    "\n",
    "for item in list1:\n",
    "    if item in list2:\n",
    "        common_element = True\n",
    "        break\n",
    "\n",
    "if common_element:\n",
    "    print(\"The two list at least have one common elements\")\n",
    "else:\n",
    "    print(\"The two list not have common elements\") "
   ]
  },
  {
   "cell_type": "code",
   "execution_count": 4,
   "id": "ae68e1df-a971-44b7-819c-28ea686ff374",
   "metadata": {},
   "outputs": [
    {
     "name": "stdout",
     "output_type": "stream",
     "text": [
      "[]\n"
     ]
    }
   ],
   "source": [
    "#41. Remove all elements from a list.\n",
    "\n",
    "my_list = [1, 2, 3, 4, 5]\n",
    "\n",
    "my_list.clear()\n",
    "\n",
    "print(my_list)"
   ]
  },
  {
   "cell_type": "code",
   "execution_count": 1,
   "id": "dd9dcb60-0f46-436a-af0e-4d8e9dcdb6b1",
   "metadata": {},
   "outputs": [
    {
     "name": "stdout",
     "output_type": "stream",
     "text": [
      "[1, 0, 3, 0, 5, 0, 7]\n"
     ]
    }
   ],
   "source": [
    "#42. Replace negative numbers in a list with 0.\n",
    "\n",
    "my_list = [1, -2, 3, -4, 5, -6, 7]\n",
    "\n",
    "for i in range(len(my_list)):\n",
    "    if my_list[i] < 0:\n",
    "        my_list[i] = 0\n",
    "\n",
    "print(my_list)\n"
   ]
  },
  {
   "cell_type": "code",
   "execution_count": 2,
   "id": "47265b29-acc3-41ce-9880-9d43ede5a48e",
   "metadata": {},
   "outputs": [
    {
     "name": "stdout",
     "output_type": "stream",
     "text": [
      "['this', 'is', 'my', 'list']\n"
     ]
    }
   ],
   "source": [
    "#43. Convert a string into a list of words.\n",
    "\n",
    "string = (\"this is my list\")\n",
    "\n",
    "word_list = string.split()\n",
    "\n",
    "print(word_list)"
   ]
  },
  {
   "cell_type": "code",
   "execution_count": 3,
   "id": "3bc73448-af3b-48cc-9b1c-11cdeed6868a",
   "metadata": {},
   "outputs": [
    {
     "name": "stdout",
     "output_type": "stream",
     "text": [
      "this is my list\n"
     ]
    }
   ],
   "source": [
    "#44. Convert a list of words into a string.\n",
    "\n",
    "word_list = ['this', 'is', 'my', 'list']\n",
    "\n",
    "string = ' '.join(word_list)\n",
    "\n",
    "print(string)"
   ]
  },
  {
   "cell_type": "code",
   "execution_count": 4,
   "id": "9eee2b91-fbf0-4b2b-a21f-95a962ea5ff3",
   "metadata": {},
   "outputs": [
    {
     "name": "stdout",
     "output_type": "stream",
     "text": [
      "[1, 2, 4, 8, 16, 32, 64, 128, 256, 512]\n"
     ]
    }
   ],
   "source": [
    "#45. Create a list of the first `n` powers of 2.\n",
    "\n",
    "n = 10\n",
    "\n",
    "power_of_2 = []\n",
    "\n",
    "for i in range(n):\n",
    "    power_of_2.append(2 ** i)\n",
    "\n",
    "print(power_of_2)"
   ]
  },
  {
   "cell_type": "code",
   "execution_count": 2,
   "id": "7adec057-1180-40ae-a5f6-115b3f2c748e",
   "metadata": {},
   "outputs": [
    {
     "name": "stdout",
     "output_type": "stream",
     "text": [
      "Longest string: elderberry\n"
     ]
    }
   ],
   "source": [
    "#46. Find the longest string in a list of strings.\n",
    "\n",
    "string_list = [\"apple\", \"banana\", \"cherry\", \"date\", \"elderberry\"]\n",
    "\n",
    "max_length = 0\n",
    "longest_string = []\n",
    "\n",
    "for i in string_list:\n",
    "    if len(i) > max_length:\n",
    "        max_length = len(i)\n",
    "        longest_string = i\n",
    "        \n",
    "print(\"Longest string:\",longest_string)"
   ]
  },
  {
   "cell_type": "code",
   "execution_count": 4,
   "id": "5bb4b385-2f09-4808-8b2d-390bbf34dc9e",
   "metadata": {},
   "outputs": [
    {
     "name": "stdout",
     "output_type": "stream",
     "text": [
      "Shortest_string: date\n"
     ]
    }
   ],
   "source": [
    "#47. Find the shortest string in a list of strings\n",
    "\n",
    "string_list = [\"apple\", \"banana\", \"cherry\", \"date\", \"elderberry\"]\n",
    "\n",
    "shortest_string = string_list[0]\n",
    "\n",
    "for i in string_list:\n",
    "    if len(i) < len(shortest_string):\n",
    "        shortest_string = i\n",
    "\n",
    "print(\"Shortest_string:\", shortest_string)"
   ]
  },
  {
   "cell_type": "code",
   "execution_count": 5,
   "id": "4f973ecb-e48d-4c3c-bfa2-d41ff1176abe",
   "metadata": {},
   "outputs": [
    {
     "name": "stdout",
     "output_type": "stream",
     "text": [
      "[1, 3, 6, 10, 15, 21, 28, 36, 45, 55]\n"
     ]
    }
   ],
   "source": [
    "#48. Create a list of the first `n` triangular numbers.\n",
    "\n",
    "n = 10\n",
    "\n",
    "triangular_numbers = []\n",
    "\n",
    "sum = 0\n",
    "for i in range(1, n+1):\n",
    "    sum += i\n",
    "    triangular_numbers.append(sum)\n",
    "\n",
    "print(triangular_numbers)"
   ]
  },
  {
   "cell_type": "code",
   "execution_count": 5,
   "id": "7f614012-38de-4247-b31c-1c7102078f88",
   "metadata": {},
   "outputs": [
    {
     "name": "stdout",
     "output_type": "stream",
     "text": [
      "subsequence found in main list\n"
     ]
    }
   ],
   "source": [
    "#49. Check if a list contains another list as a subsequence.\n",
    "\n",
    "main_list = [1, 2, 3, 4, 5, 6, 7, 8]\n",
    "\n",
    "subsequence = [2, 4, 6]\n",
    "\n",
    "main_index = 0\n",
    "sub_index = 0\n",
    "\n",
    "while main_index < len(main_list) and sub_index < len(subsequence):\n",
    "    if main_list[main_index] == subsequence[sub_index]:\n",
    "        sub_index += 1\n",
    "    main_index += 1\n",
    "\n",
    "if sub_index == len(subsequence):\n",
    "    print(\"subsequence found in main list\")\n",
    "else:\n",
    "    print(\"subsequence not found in main list\")"
   ]
  },
  {
   "cell_type": "code",
   "execution_count": 6,
   "id": "baf401e1-ee5f-4bfb-86b6-11811158dbc4",
   "metadata": {},
   "outputs": [
    {
     "name": "stdout",
     "output_type": "stream",
     "text": [
      "[10, 40, 30, 20, 50]\n"
     ]
    }
   ],
   "source": [
    "#50. Swap two elements in a list by their indices.\n",
    "\n",
    "my_list = [10, 20, 30, 40, 50]\n",
    "\n",
    "index1 = 1\n",
    "index2 = 3\n",
    "\n",
    "if 0 <= index1 < len(my_list) and 0 <= index2 < len(my_list):\n",
    "    temp = my_list[index1]\n",
    "    my_list[index1] = my_list[index2]\n",
    "    my_list[index2] = temp\n",
    "    print(my_list)\n",
    "else:\n",
    "    print(\"Invalid indices\")"
   ]
  },
  {
   "cell_type": "code",
   "execution_count": null,
   "id": "f501b9d4-14da-4b77-96a1-25a18d8a4096",
   "metadata": {},
   "outputs": [],
   "source": []
  },
  {
   "cell_type": "code",
   "execution_count": null,
   "id": "48b41011-960f-4551-afbf-5ade3c367d33",
   "metadata": {
    "tags": []
   },
   "outputs": [],
   "source": []
  },
  {
   "cell_type": "code",
   "execution_count": 2,
   "id": "f4474b9f-f1be-4164-98f2-4661913b65a6",
   "metadata": {},
   "outputs": [],
   "source": [
    "#Tuple Based Practice Problem :\n"
   ]
  },
  {
   "cell_type": "code",
   "execution_count": null,
   "id": "65aafe3c-bee5-40ec-9b30-ab0ad91c9fff",
   "metadata": {},
   "outputs": [],
   "source": []
  },
  {
   "cell_type": "code",
   "execution_count": null,
   "id": "392f435f-9f46-4356-962d-4b1a2061adf3",
   "metadata": {},
   "outputs": [],
   "source": []
  },
  {
   "cell_type": "code",
   "execution_count": 3,
   "id": "7d209fc6-f394-41b4-9752-68fafbc6f73e",
   "metadata": {},
   "outputs": [],
   "source": [
    "#1. Create a tuple with integers from 1 to 5\n",
    "\n",
    "my_tuple = (1,2,3,4,5)"
   ]
  },
  {
   "cell_type": "code",
   "execution_count": 4,
   "id": "6b851cf7-81d7-4564-b770-b6bc167dba87",
   "metadata": {},
   "outputs": [
    {
     "name": "stdout",
     "output_type": "stream",
     "text": [
      "3\n"
     ]
    }
   ],
   "source": [
    "#2. Access the third element of a tuple\n",
    "\n",
    "my_tuple = (1,2,3,4,5)\n",
    "\n",
    "third_element = my_tuple[2]\n",
    "\n",
    "print(third_element)"
   ]
  },
  {
   "cell_type": "code",
   "execution_count": 7,
   "id": "3a1707cc-bacf-47c0-b3f7-1de982c39f98",
   "metadata": {},
   "outputs": [
    {
     "name": "stdout",
     "output_type": "stream",
     "text": [
      "Length: 5\n"
     ]
    }
   ],
   "source": [
    "#3. Find the length of a tuple without using the `len()` function.\n",
    "\n",
    "my_tuple = (1,2,3,4,5)\n",
    "count = 0\n",
    "\n",
    "for _ in my_tuple:\n",
    "    count += 1\n",
    "    \n",
    "print(\"Length:\",count)"
   ]
  },
  {
   "cell_type": "code",
   "execution_count": 8,
   "id": "c6ec87f8-6a31-4214-b44a-49f58ffd8963",
   "metadata": {},
   "outputs": [
    {
     "name": "stdout",
     "output_type": "stream",
     "text": [
      "3\n"
     ]
    }
   ],
   "source": [
    "#4. Count the occurrences of an element in a tuple.\n",
    "\n",
    "my_tuple = (1, 2, 2, 3, 4, 2, 5)\n",
    "count_element = 2\n",
    "\n",
    "element_appers = my_tuple.count(count_element)\n",
    "\n",
    "print(element_appers)"
   ]
  },
  {
   "cell_type": "code",
   "execution_count": 9,
   "id": "8f06a500-191b-495e-ab0c-306cc9cb31db",
   "metadata": {},
   "outputs": [
    {
     "name": "stdout",
     "output_type": "stream",
     "text": [
      "the element 2 is at index 1\n"
     ]
    }
   ],
   "source": [
    "#5. Find the index of the first occurrence of an element in a tuple.\n",
    "\n",
    "my_tuple = (1, 2, 2, 3, 4, 2, 5)\n",
    "element_to_find = 2\n",
    "\n",
    "if element_to_find in my_tuple:\n",
    "    index = my_tuple.index(element_to_find)\n",
    "    print(f\"the element {element_to_find} is at index {index}\")\n",
    "else:\n",
    "    print(\"element not found\")\n"
   ]
  },
  {
   "cell_type": "code",
   "execution_count": 10,
   "id": "f0561871-b5d2-4a1b-8da3-0b72f6f0bdb9",
   "metadata": {},
   "outputs": [
    {
     "name": "stdout",
     "output_type": "stream",
     "text": [
      "Element exist\n"
     ]
    }
   ],
   "source": [
    "#6. Check if an element exists in a tuple\n",
    "\n",
    "my_tuple = (1, 2, 2, 3, 4, 2, 5)\n",
    "element_to_check = 4\n",
    "\n",
    "if element_to_check in my_tuple:\n",
    "    print(\"Element exist\")\n",
    "else:\n",
    "    print(\"Element does not exist\")"
   ]
  },
  {
   "cell_type": "code",
   "execution_count": 11,
   "id": "6386a864-7434-4797-8610-a299210da102",
   "metadata": {},
   "outputs": [
    {
     "name": "stdout",
     "output_type": "stream",
     "text": [
      "[1, 2, 2, 3, 4, 2, 5]\n"
     ]
    }
   ],
   "source": [
    "#7. Convert a tuple to a list.\n",
    "\n",
    "my_tuple = (1, 2, 2, 3, 4, 2, 5)\n",
    "\n",
    "my_list = list(my_tuple)\n",
    "\n",
    "print(my_list)"
   ]
  },
  {
   "cell_type": "code",
   "execution_count": 12,
   "id": "5eeea5fd-5815-4f8f-9b66-b143f700a7ea",
   "metadata": {},
   "outputs": [
    {
     "name": "stdout",
     "output_type": "stream",
     "text": [
      "(1, 2, 2, 3, 4, 2, 5)\n"
     ]
    }
   ],
   "source": [
    "#8. Convert a list to a tuple.\n",
    "\n",
    "my_list = [1, 2, 2, 3, 4, 2, 5]\n",
    "\n",
    "my_tuple = tuple(my_list)\n",
    "\n",
    "print(my_tuple)"
   ]
  },
  {
   "cell_type": "code",
   "execution_count": 13,
   "id": "ade81869-6264-4d18-a300-5f505a822dfa",
   "metadata": {},
   "outputs": [
    {
     "name": "stdout",
     "output_type": "stream",
     "text": [
      "1\n",
      "2\n",
      "3\n"
     ]
    }
   ],
   "source": [
    "#9. Unpack the elements of a tuple into variables.\n",
    "\n",
    "my_tuple = (1, 2, 3)\n",
    "\n",
    "var1, var2, var3 = my_tuple\n",
    "\n",
    "print(var1)\n",
    "print(var2)\n",
    "print(var3)"
   ]
  },
  {
   "cell_type": "code",
   "execution_count": 14,
   "id": "d13c3fda-3fb1-4513-ac3e-aedd75e8cfd2",
   "metadata": {},
   "outputs": [
    {
     "name": "stdout",
     "output_type": "stream",
     "text": [
      "(2, 4, 6, 8, 10)\n"
     ]
    }
   ],
   "source": [
    "#10. Create a tuple of even numbers from 1 to 10.\n",
    "\n",
    "even_numbers = ()\n",
    "\n",
    "for i in range(1,11):\n",
    "    if i % 2 == 0:\n",
    "        even_numbers += (i,)\n",
    "\n",
    "print(even_numbers)\n"
   ]
  },
  {
   "cell_type": "code",
   "execution_count": 15,
   "id": "30bcc79b-68a6-4cec-b6ef-45a7c66a3e81",
   "metadata": {},
   "outputs": [
    {
     "name": "stdout",
     "output_type": "stream",
     "text": [
      "(1, 3, 5, 7, 9)\n"
     ]
    }
   ],
   "source": [
    "#11. Create a tuple of odd numbers from 1 to 10.\n",
    "\n",
    "odd_numbers = ()\n",
    "\n",
    "for i in range(1,11):\n",
    "    if i % 2 != 0:\n",
    "        odd_numbers += (i,)\n",
    "        \n",
    "print(odd_numbers)"
   ]
  },
  {
   "cell_type": "code",
   "execution_count": 1,
   "id": "aceab4de-e7f4-4570-a5d2-21b176fe8665",
   "metadata": {},
   "outputs": [
    {
     "name": "stdout",
     "output_type": "stream",
     "text": [
      "(1, 2, 3, 4, 5, 6)\n"
     ]
    }
   ],
   "source": [
    "#12. Concatenate two tuples.\n",
    "\n",
    "my_tuple1 = (1, 2, 3)\n",
    "my_tuple2 = (4, 5, 6)\n",
    "\n",
    "joined_tuple = my_tuple1 + my_tuple2\n",
    "\n",
    "print(joined_tuple)"
   ]
  },
  {
   "cell_type": "code",
   "execution_count": 2,
   "id": "6d30ac9b-7f47-4e99-a2cf-ffda0065d0f5",
   "metadata": {},
   "outputs": [
    {
     "name": "stdout",
     "output_type": "stream",
     "text": [
      "(1, 2, 3, 1, 2, 3, 1, 2, 3)\n"
     ]
    }
   ],
   "source": [
    "#13. Repeat a tuple three times.\n",
    "\n",
    "my_tuple = (1, 2, 3)\n",
    "\n",
    "repeated_tuple = my_tuple * 3\n",
    "\n",
    "print(repeated_tuple)"
   ]
  },
  {
   "cell_type": "code",
   "execution_count": 3,
   "id": "07470903-8d03-4860-b849-6ea30fd5e347",
   "metadata": {},
   "outputs": [
    {
     "name": "stdout",
     "output_type": "stream",
     "text": [
      "tuple is empty\n"
     ]
    }
   ],
   "source": [
    "#14. Check if a tuple is empty.\n",
    "\n",
    "my_tuple = ()\n",
    "\n",
    "if not my_tuple:\n",
    "    print(\"tuple is empty\")\n",
    "else:\n",
    "    print(\"tuple is not empty\")"
   ]
  },
  {
   "cell_type": "code",
   "execution_count": 4,
   "id": "b9ffd6e0-4cfc-446f-8461-130608ab61db",
   "metadata": {},
   "outputs": [
    {
     "name": "stdout",
     "output_type": "stream",
     "text": [
      "((1, 2), (3, 4, 5), (6,))\n"
     ]
    }
   ],
   "source": [
    "#15. Create a nested tuple.\n",
    "\n",
    "nested_tuple = ((1, 2), (3, 4, 5), (6,))\n",
    "\n",
    "print(nested_tuple)\n"
   ]
  },
  {
   "cell_type": "code",
   "execution_count": 5,
   "id": "2de7ff1b-0fde-4f7a-9c63-954f1897416b",
   "metadata": {},
   "outputs": [
    {
     "name": "stdout",
     "output_type": "stream",
     "text": [
      "1\n"
     ]
    }
   ],
   "source": [
    "#16. Access the first element of a nested tuple.\n",
    "\n",
    "nested_tuple = ((1, 2), (3, 4, 5), (6,))\n",
    "\n",
    "first_element = nested_tuple[0][0]\n",
    "\n",
    "print(first_element)"
   ]
  },
  {
   "cell_type": "code",
   "execution_count": 6,
   "id": "2e00d4b4-5410-4fc1-8085-2e84c60eb072",
   "metadata": {},
   "outputs": [],
   "source": [
    "#17. Create a tuple with a single element.\n",
    "\n",
    "single_element_tuple = (23,)"
   ]
  },
  {
   "cell_type": "code",
   "execution_count": 1,
   "id": "15c58c8c-8ebb-4e13-8acc-794691b9162f",
   "metadata": {},
   "outputs": [
    {
     "name": "stdout",
     "output_type": "stream",
     "text": [
      "The two tuple are not equal\n",
      "The two tuple are not equal\n",
      "The tuple1 is less than tuple2\n"
     ]
    }
   ],
   "source": [
    "#18. Compare two tuples.\n",
    "\n",
    "tuple1 = (1, 2, 3)\n",
    "tuple2 = (1, 2, 4)\n",
    "\n",
    "#method 1 (==):\n",
    "if tuple1 == tuple2:\n",
    "    print(\"The two tuple are equal\")\n",
    "else:\n",
    "    print(\"The two tuple are not equal\")\n",
    "\n",
    "#method 2 (!=) :\n",
    "if tuple1 != tuple2:\n",
    "    print(\"The two tuple are not equal\")\n",
    "else:\n",
    "    print(\"The two tuple are equal\")\n",
    "\n",
    "#method 3 (<)  :\n",
    "if tuple1 < tuple2:\n",
    "    print(\"The tuple1 is less than tuple2\")\n",
    "else:\n",
    "    print(\"The tuple1 is not less tham tuple2\")"
   ]
  },
  {
   "cell_type": "code",
   "execution_count": 5,
   "id": "a25f599e-fbc2-4fc2-89b3-550ca6819bfb",
   "metadata": {},
   "outputs": [],
   "source": [
    "#19. Delete a tuple.\n",
    "\n",
    "my_tuple = (1, 2, 3)\n",
    "\n",
    "del my_tuple"
   ]
  },
  {
   "cell_type": "code",
   "execution_count": 6,
   "id": "674f5520-c50f-481b-b36c-49c459795810",
   "metadata": {},
   "outputs": [
    {
     "name": "stdout",
     "output_type": "stream",
     "text": [
      "(4, 5)\n"
     ]
    }
   ],
   "source": [
    "#20. Slice a tuple.\n",
    "\n",
    "my_tuple = (1, 2, 3, 4, 5, 6)\n",
    "\n",
    "new_tuple = my_tuple[3:5]\n",
    "\n",
    "print(new_tuple)"
   ]
  },
  {
   "cell_type": "code",
   "execution_count": 7,
   "id": "f596c5b8-b892-4057-8c06-9cb0691c97c6",
   "metadata": {},
   "outputs": [
    {
     "name": "stdout",
     "output_type": "stream",
     "text": [
      "6\n"
     ]
    }
   ],
   "source": [
    "#21. Find the maximum value in a tuple.\n",
    "\n",
    "my_tuple = (1, 2, 3, 4, 5, 6)\n",
    "\n",
    "max_value = max(my_tuple)\n",
    "\n",
    "print(max_value)"
   ]
  },
  {
   "cell_type": "code",
   "execution_count": 8,
   "id": "afb950ab-e6af-48f0-9cdd-87fba2fadd5b",
   "metadata": {},
   "outputs": [
    {
     "name": "stdout",
     "output_type": "stream",
     "text": [
      "1\n"
     ]
    }
   ],
   "source": [
    "#22. Find the minimum value in a tuple\n",
    "\n",
    "my_tuple = (1, 2, 3, 4, 5, 6)\n",
    "\n",
    "min_value = min(my_tuple)\n",
    "\n",
    "print(min_value)"
   ]
  },
  {
   "cell_type": "code",
   "execution_count": 9,
   "id": "8519cc00-e9dc-429b-a168-412eb4727b16",
   "metadata": {},
   "outputs": [
    {
     "name": "stdout",
     "output_type": "stream",
     "text": [
      "('I', 'm', ' ', 'a', 'm', ' ', 'k', 'i', 'n', 'g')\n"
     ]
    }
   ],
   "source": [
    "#23. Convert a string to a tuple of characters.\n",
    "\n",
    "my_string = (\"Im am king\")\n",
    "\n",
    "tuple_char = tuple(my_string)\n",
    "\n",
    "print(tuple_char)"
   ]
  },
  {
   "cell_type": "code",
   "execution_count": 10,
   "id": "5910992c-9faf-4d94-86da-189bc8db70a0",
   "metadata": {},
   "outputs": [
    {
     "name": "stdout",
     "output_type": "stream",
     "text": [
      "Hello, World!\n"
     ]
    }
   ],
   "source": [
    "#24. Convert a tuple of characters to a string.\n",
    "\n",
    "char_tuple = ('H', 'e', 'l', 'l', 'o', ',', ' ', 'W', 'o', 'r', 'l', 'd', '!')\n",
    "\n",
    "string = ''.join(char_tuple)\n",
    "\n",
    "print(string)"
   ]
  },
  {
   "cell_type": "code",
   "execution_count": 2,
   "id": "45a1a348-cc75-443c-8885-b3a65aa4d10a",
   "metadata": {},
   "outputs": [
    {
     "name": "stdout",
     "output_type": "stream",
     "text": [
      "(1, 'Hello', 3.14, True)\n"
     ]
    }
   ],
   "source": [
    "#25. Create a tuple from multiple data types.\n",
    "\n",
    "mixed_tuple = (1, \"Hello\", 3.14, True)\n",
    "\n",
    "print(mixed_tuple)"
   ]
  },
  {
   "cell_type": "code",
   "execution_count": 3,
   "id": "8ba958c7-b16f-42fd-91bd-cc1e13a87ecb",
   "metadata": {},
   "outputs": [
    {
     "name": "stdout",
     "output_type": "stream",
     "text": [
      "The two tuples are identical.\n"
     ]
    }
   ],
   "source": [
    "#26. Check if two tuples are identical.\n",
    "\n",
    "tuple1 = (1, 2, 3)\n",
    "tuple2 = (1, 2, 3)\n",
    "\n",
    "if tuple1 == tuple2:\n",
    "    print(\"The two tuples are identical.\")\n",
    "else:\n",
    "    print(\"The two tuples are not identical.\")"
   ]
  },
  {
   "cell_type": "code",
   "execution_count": 5,
   "id": "5650670e-8e00-4c62-9c61-177b8a6d78c9",
   "metadata": {},
   "outputs": [
    {
     "name": "stdout",
     "output_type": "stream",
     "text": [
      "(1, 2, 3, 4, 5, 22, 43, 78, 99)\n"
     ]
    }
   ],
   "source": [
    "#27. Sort the elements of a tuple.\n",
    "\n",
    "my_tuple = (2,3,4,22,1,78,99,5,43)\n",
    "\n",
    "sorted_tuple = tuple(sorted(my_tuple))\n",
    "\n",
    "print(sorted_tuple)"
   ]
  },
  {
   "cell_type": "code",
   "execution_count": 1,
   "id": "2ecdcc7f-6361-4603-a60f-194c06495905",
   "metadata": {},
   "outputs": [
    {
     "name": "stdout",
     "output_type": "stream",
     "text": [
      "('1', '2', '3', '4', '5')\n"
     ]
    }
   ],
   "source": [
    "#28. Convert a tuple of integers to a tuple of strings.\n",
    "\n",
    "int_tuple = (1, 2, 3, 4, 5)\n",
    "\n",
    "str_tuple = tuple(str(i) for i in int_tuple)\n",
    "\n",
    "print(str_tuple)\n"
   ]
  },
  {
   "cell_type": "code",
   "execution_count": 2,
   "id": "6fbd5e45-932f-4960-bc5e-7aeb6c6ba5f0",
   "metadata": {},
   "outputs": [
    {
     "name": "stdout",
     "output_type": "stream",
     "text": [
      "(1, 2, 3, 4, 5)\n"
     ]
    }
   ],
   "source": [
    "#29. Convert a tuple of strings to a tuple of integers.\n",
    "\n",
    "tuple_string = ('1','2','3','4','5')\n",
    "\n",
    "int_tuple = tuple(int(i) for i in tuple_string)\n",
    "\n",
    "print(int_tuple)"
   ]
  },
  {
   "cell_type": "code",
   "execution_count": 3,
   "id": "e5f0fc9f-71af-419d-883c-a258a7479851",
   "metadata": {},
   "outputs": [
    {
     "name": "stdout",
     "output_type": "stream",
     "text": [
      "(1, 2, 3, 4, 5, 6)\n"
     ]
    }
   ],
   "source": [
    "#30. Merge two tuples.\n",
    "\n",
    "tuple1 = (1, 2, 3)\n",
    "tuple2 = (4, 5, 6)\n",
    "\n",
    "merged_tuple = tuple1 + tuple2\n",
    "\n",
    "print(merged_tuple)"
   ]
  },
  {
   "cell_type": "code",
   "execution_count": 1,
   "id": "51bf5dbf-8426-4a58-9a31-57f84023bd18",
   "metadata": {},
   "outputs": [
    {
     "name": "stdout",
     "output_type": "stream",
     "text": [
      "(1, 2, 3, 4, (5, 6))\n"
     ]
    }
   ],
   "source": [
    "#31. Flatten a nested tuple.\n",
    "\n",
    "nested_tuple = (1, (2, 3), (4, (5, 6)))\n",
    "\n",
    "flat_tuple = ()\n",
    "\n",
    "for i in nested_tuple:\n",
    "    if isinstance(i, tuple):\n",
    "        flat_tuple += i\n",
    "    else:\n",
    "        flat_tuple += (i,)\n",
    "\n",
    "print(flat_tuple)"
   ]
  },
  {
   "cell_type": "code",
   "execution_count": 2,
   "id": "a6df3fc4-a2ad-4d17-8bec-9324bcaca3b3",
   "metadata": {},
   "outputs": [
    {
     "name": "stdout",
     "output_type": "stream",
     "text": [
      "(2, 3, 5, 7, 11)\n"
     ]
    }
   ],
   "source": [
    "#32. Create a tuple of the first 5 prime numbers.\n",
    "\n",
    "prime_numbers = (2, 3, 5, 7, 11)\n",
    "\n",
    "print(prime_numbers)"
   ]
  },
  {
   "cell_type": "code",
   "execution_count": 3,
   "id": "2aec2347-4de3-47d1-b5e7-3c10fbba6f99",
   "metadata": {},
   "outputs": [
    {
     "name": "stdout",
     "output_type": "stream",
     "text": [
      "True\n",
      "False\n"
     ]
    }
   ],
   "source": [
    "#33. Check if a tuple is a palindrome.\n",
    "\n",
    "\n",
    "tuple1 = (1, 2, 3, 2, 1)\n",
    "tuple2 = (1, 2, 3, 4, 5)\n",
    "\n",
    "palindrome1 = tuple1 == tuple1[::-1]\n",
    "palindrome2 = tuple2 == tuple2[::-1]\n",
    "\n",
    "print(palindrome1)\n",
    "print(palindrome2)"
   ]
  },
  {
   "cell_type": "code",
   "execution_count": 1,
   "id": "c44aee16-b705-4f4d-b12a-e77001627d52",
   "metadata": {},
   "outputs": [
    {
     "name": "stdout",
     "output_type": "stream",
     "text": [
      "(1, 4, 9, 16, 25)\n"
     ]
    }
   ],
   "source": [
    "#34. Create a tuple of squares of numbers from 1 to 5.\n",
    "\n",
    "square = ()\n",
    "\n",
    "for i in range(1, 6):\n",
    "    square += (i ** 2,)\n",
    "\n",
    "print(square)"
   ]
  },
  {
   "cell_type": "code",
   "execution_count": 2,
   "id": "f3b6a331-d1eb-458e-9d2a-d612d1ac6ab8",
   "metadata": {},
   "outputs": [
    {
     "name": "stdout",
     "output_type": "stream",
     "text": [
      "(1, 3, 5, 7, 9)\n"
     ]
    }
   ],
   "source": [
    "#35. Filter out all even numbers from a tuple\n",
    "\n",
    "numbers = (1,2,3,4,5,6,7,8,9)\n",
    "filtered_numbers = ()\n",
    "\n",
    "for number in numbers:\n",
    "    if number % 2 != 0 :\n",
    "        filtered_numbers += (number,)\n",
    "\n",
    "filtered_tuple = tuple(filtered_numbers)\n",
    "\n",
    "print(filtered_tuple)"
   ]
  },
  {
   "cell_type": "code",
   "execution_count": 3,
   "id": "75352e44-7337-48cd-9e7d-26221745203a",
   "metadata": {},
   "outputs": [
    {
     "name": "stdout",
     "output_type": "stream",
     "text": [
      "(2, 4, 6, 8, 10, 12, 14, 16, 18)\n"
     ]
    }
   ],
   "source": [
    "#36. Multiply all elements in a tuple by 2.\n",
    "\n",
    "numbers = (1,2,3,4,5,6,7,8,9)\n",
    "multiply_numbers = ()\n",
    "\n",
    "for number in numbers :\n",
    "    multiply_numbers += (number * 2,)\n",
    "\n",
    "print(multiply_numbers)"
   ]
  },
  {
   "cell_type": "code",
   "execution_count": 4,
   "id": "404edcbd-9fc0-483d-945a-c76dfec9b95f",
   "metadata": {},
   "outputs": [
    {
     "name": "stdout",
     "output_type": "stream",
     "text": [
      "(20, 70, 55, 76, 7, 85, 67, 48)\n"
     ]
    }
   ],
   "source": [
    "#37. Create a tuple of random numbers.\n",
    "\n",
    "\n",
    "import random\n",
    "\n",
    "random_tuple = ()\n",
    "total_elements = 8\n",
    "\n",
    "for _ in range(total_elements):\n",
    "    random_numbers = random.randint(1, 100)\n",
    "    random_tuple += (random_numbers,)\n",
    "\n",
    "random_tuple = tuple(random_tuple)\n",
    "\n",
    "print(random_tuple)"
   ]
  },
  {
   "cell_type": "code",
   "execution_count": 1,
   "id": "552340d6-1747-4aba-9c79-85e252bbcea5",
   "metadata": {},
   "outputs": [
    {
     "name": "stdout",
     "output_type": "stream",
     "text": [
      "my_tuple is soretd\n"
     ]
    }
   ],
   "source": [
    "#38. Check if a tuple is sorted.\n",
    "\n",
    "\n",
    "my_tuple = (1, 2, 3, 4, 5)\n",
    "is_sorted = True\n",
    "\n",
    "for i in range(len(my_tuple) - 1):\n",
    "    if my_tuple[i] > my_tuple[i+1]:\n",
    "        is_sorted = False\n",
    "        break\n",
    "\n",
    "if is_sorted:\n",
    "    print(\"my_tuple is soretd\")\n",
    "else:\n",
    "    print(\"my_tuple is not sorted\")"
   ]
  },
  {
   "cell_type": "code",
   "execution_count": 2,
   "id": "71190165-aecc-44c7-846d-0ade9ccd7b00",
   "metadata": {},
   "outputs": [
    {
     "name": "stdout",
     "output_type": "stream",
     "text": [
      "(3, 4, 5, 1, 2)\n"
     ]
    }
   ],
   "source": [
    "#39. Rotate a tuple to the left by `n` positions.\n",
    "\n",
    "my_tuple = (1, 2, 3, 4, 5)\n",
    "n = 2\n",
    "\n",
    "if n < 0 :\n",
    "    n = len(my_tuple) + n\n",
    "\n",
    "n = n % len(my_tuple)\n",
    "\n",
    "rotated_tuple = my_tuple[n:] + my_tuple[:n]\n",
    "\n",
    "print(rotated_tuple)"
   ]
  },
  {
   "cell_type": "code",
   "execution_count": 3,
   "id": "87226726-1b4d-4829-ae80-6e1f31e57657",
   "metadata": {},
   "outputs": [
    {
     "name": "stdout",
     "output_type": "stream",
     "text": [
      "(4, 5, 1, 2, 3)\n"
     ]
    }
   ],
   "source": [
    "#40. Rotate a tuple to the right by `n` positions.\n",
    "\n",
    "\n",
    "my_tuple = (1, 2, 3, 4, 5)\n",
    "n = 2\n",
    "\n",
    "if n < 0 :\n",
    "    n = len(my_tuple) + n\n",
    "\n",
    "n = n % len(my_tuple)\n",
    "\n",
    "rotated_tuple = my_tuple[-n:] + my_tuple[:-n]\n",
    "\n",
    "print(rotated_tuple)"
   ]
  },
  {
   "cell_type": "code",
   "execution_count": 4,
   "id": "0fe04c6a-899c-455b-b1cc-86380b0f746a",
   "metadata": {},
   "outputs": [],
   "source": [
    "#41. Create a tuple of the first 5 Fibonacci numbers.\n",
    "\n",
    "fibonacci_tuple = (0, 1, 1, 2, 3)\n"
   ]
  },
  {
   "cell_type": "code",
   "execution_count": 6,
   "id": "7f821f21-0781-4949-873e-96075113c511",
   "metadata": {},
   "outputs": [
    {
     "name": "stdin",
     "output_type": "stream",
     "text": [
      "enter the numbers of elements you wont to add in tuple 3\n",
      "enter elements 1 : 1\n",
      "enter elements 2 : 2\n",
      "enter elements 3 : 3\n"
     ]
    },
    {
     "name": "stdout",
     "output_type": "stream",
     "text": [
      "('1', '2', '3')\n"
     ]
    }
   ],
   "source": [
    "#42. Create a tuple from user input.\n",
    "\n",
    "user_input_list = []\n",
    "n = int(input(\"enter the numbers of elements you wont to add in tuple\"))\n",
    "\n",
    "for i in range(n):\n",
    "    element = input(f\"enter elements {i + 1} :\")\n",
    "    user_input_list.append(element)\n",
    "\n",
    "user_input_list = tuple(user_input_list)\n",
    "print(user_input_list)"
   ]
  },
  {
   "cell_type": "code",
   "execution_count": 7,
   "id": "3398f0a6-b4d0-415d-9283-edea3ba38d1f",
   "metadata": {},
   "outputs": [
    {
     "name": "stdout",
     "output_type": "stream",
     "text": [
      "(1, 5, 3, 4, 2)\n"
     ]
    }
   ],
   "source": [
    "#43. Swap two elements in a tuple.\n",
    "\n",
    "my_tuple = (1, 2, 3, 4, 5)\n",
    "\n",
    "index1 = 1\n",
    "index4 = 4\n",
    "\n",
    "my_list = list(my_tuple)\n",
    "\n",
    "my_list[index1], my_list[index4] = my_list[index4], my_list[index1]\n",
    "\n",
    "swapped_tuple = tuple(my_list)\n",
    "\n",
    "print(swapped_tuple)"
   ]
  },
  {
   "cell_type": "code",
   "execution_count": 8,
   "id": "dd277cb2-09aa-4aa5-ac92-956814aaee0e",
   "metadata": {},
   "outputs": [
    {
     "name": "stdout",
     "output_type": "stream",
     "text": [
      "(5, 4, 3, 2, 1)\n"
     ]
    }
   ],
   "source": [
    "#44. Reverse the elements of a tuple.\n",
    "\n",
    "my_tuple = (1, 2, 3, 4, 5)\n",
    "\n",
    "reversed_tuple = my_tuple[::-1]\n",
    "\n",
    "print(reversed_tuple)"
   ]
  },
  {
   "cell_type": "code",
   "execution_count": 1,
   "id": "dfc5b19b-7ed8-4730-a7b9-a7a5df54c6fc",
   "metadata": {},
   "outputs": [
    {
     "name": "stdout",
     "output_type": "stream",
     "text": [
      "(1, 2, 4, 8, 16, 32, 64, 128, 256, 512)\n"
     ]
    }
   ],
   "source": [
    "#45. Create a tuple of the first `n` powers of 2.\n",
    "\n",
    "n = 10\n",
    "power_of_2 = []\n",
    "\n",
    "for i in range(n):\n",
    "    power_of_2.append(2**i)\n",
    "\n",
    "power_of_2 = tuple(power_of_2)\n",
    "\n",
    "print(power_of_2)"
   ]
  },
  {
   "cell_type": "code",
   "execution_count": 2,
   "id": "06113a5f-d1a9-4551-a61d-924aea8c4404",
   "metadata": {},
   "outputs": [
    {
     "name": "stdout",
     "output_type": "stream",
     "text": [
      "longest string in a tuple: ayanokoji\n"
     ]
    }
   ],
   "source": [
    "#46. Find the longest string in a tuple of strings.\n",
    "\n",
    "tuple_of_string = (\"aizen\", \"madara\", \"naruto\", \"sasuke\", \"ayanokoji\")\n",
    "\n",
    "longest_string = \"\"\n",
    "\n",
    "for string in tuple_of_string:\n",
    "    if len(string) > len(longest_string):\n",
    "        logest_string = string\n",
    "\n",
    "print(\"longest string in a tuple:\", logest_string)"
   ]
  },
  {
   "cell_type": "code",
   "execution_count": 3,
   "id": "67af7279-11a5-4f37-8248-b2ce45e2a73d",
   "metadata": {},
   "outputs": [
    {
     "name": "stdout",
     "output_type": "stream",
     "text": [
      "shortest string in a tuple: aizen\n"
     ]
    }
   ],
   "source": [
    "#47. Find the shortest string in a tuple of strings.\n",
    "\n",
    "tuple_of_string = (\"aizen\", \"madara\", \"naruto\", \"sasuke\", \"ayanokoji\")\n",
    "\n",
    "shortest_string = None\n",
    "\n",
    "for string in tuple_of_string:\n",
    "    if shortest_string is None or len(string) < len(longest_string):\n",
    "        shortest_string = string\n",
    "\n",
    "print(\"shortest string in a tuple:\", shortest_string)"
   ]
  },
  {
   "cell_type": "code",
   "execution_count": 1,
   "id": "23df4981-9f5d-4040-a157-dce3a6f92221",
   "metadata": {},
   "outputs": [
    {
     "name": "stdout",
     "output_type": "stream",
     "text": [
      "(1, 3, 6, 10, 15, 21, 28, 36, 45, 55)\n"
     ]
    }
   ],
   "source": [
    "#48. Create a tuple of the first `n` triangular numbers.\n",
    "\n",
    "n = 10\n",
    "triangular_number = []\n",
    "\n",
    "triangular_sum = 0\n",
    "\n",
    "for i in range(1, n+1):\n",
    "    triangular_sum += i\n",
    "    triangular_number.append(triangular_sum)\n",
    "\n",
    "triangular_number = tuple(triangular_number)\n",
    "\n",
    "print(triangular_number)"
   ]
  },
  {
   "cell_type": "code",
   "execution_count": 1,
   "id": "0a024a43-80c5-470e-aaa0-a37bd06fb700",
   "metadata": {},
   "outputs": [
    {
     "name": "stdout",
     "output_type": "stream",
     "text": [
      "The sub_tuple is a subsequence of main_tuple\n"
     ]
    }
   ],
   "source": [
    "#49. Check if a tuple contains another tuple as a subsequence.\n",
    "\n",
    "main_tuple = (1, 2, 3, 4, 5, 6, 7)\n",
    "sub_tuple = (2, 4, 5)\n",
    "\n",
    "main_len = len(main_tuple)\n",
    "sub_len = len(sub_tuple)\n",
    "\n",
    "main_pointer = 0\n",
    "sub_pointer = 0\n",
    "\n",
    "while main_pointer < main_len:\n",
    "    if sub_tuple[sub_pointer] == main_tuple[main_pointer]:\n",
    "        sub_pointer += 1\n",
    "        if sub_pointer == sub_len :\n",
    "            print(\"The sub_tuple is a subsequence of main_tuple\")\n",
    "            break\n",
    "    main_pointer += 1\n",
    "else:\n",
    "    print(\"The sub_tuple is not a subsequence of main_tuple\")\n"
   ]
  },
  {
   "cell_type": "code",
   "execution_count": 2,
   "id": "1a06ca5f-e9a2-4b97-8eba-1083149ad872",
   "metadata": {},
   "outputs": [
    {
     "name": "stdout",
     "output_type": "stream",
     "text": [
      "(0, 1, 0, 1, 0, 1, 0, 1, 0, 1)\n"
     ]
    }
   ],
   "source": [
    "#50. Create a tuple of alternating 1s and 0s of length `n`.\n",
    "\n",
    "n = 10\n",
    "\n",
    "alt_tuple_list = []\n",
    "\n",
    "for i in range(n):\n",
    "    alt_tuple_list.append(i % 2)\n",
    "\n",
    "alt_tuple = tuple(alt_tuple_list)\n",
    "\n",
    "print(alt_tuple)"
   ]
  },
  {
   "cell_type": "code",
   "execution_count": null,
   "id": "edbd8aeb-7d49-4cfb-a43f-2f2fa35735a3",
   "metadata": {},
   "outputs": [],
   "source": []
  },
  {
   "cell_type": "code",
   "execution_count": null,
   "id": "a8336e25-4a20-4a17-95f8-ef4da9c7ec65",
   "metadata": {},
   "outputs": [],
   "source": []
  },
  {
   "cell_type": "code",
   "execution_count": 2,
   "id": "fab5b68f-9502-408f-b8fb-1126e1c26d3c",
   "metadata": {},
   "outputs": [],
   "source": [
    "#Set Based Practice Problem :"
   ]
  },
  {
   "cell_type": "code",
   "execution_count": null,
   "id": "f612e94f-d906-4c53-96ea-7fc1ffdc1695",
   "metadata": {},
   "outputs": [],
   "source": []
  },
  {
   "cell_type": "code",
   "execution_count": null,
   "id": "4346deed-c0ae-4d1b-bee7-7597134724e9",
   "metadata": {},
   "outputs": [],
   "source": []
  },
  {
   "cell_type": "code",
   "execution_count": 3,
   "id": "e619b0d7-b9b2-47ed-bebb-1b93854a60a9",
   "metadata": {},
   "outputs": [],
   "source": [
    "#1. Create a set with integers from 1 to 5.\n",
    "\n",
    "my_set = {1, 2, 3, 4, 5}"
   ]
  },
  {
   "cell_type": "code",
   "execution_count": 4,
   "id": "44f4333b-f9f4-41e2-8d79-9de53e1aa3cb",
   "metadata": {},
   "outputs": [
    {
     "name": "stdout",
     "output_type": "stream",
     "text": [
      "{1, 2, 3, 4, 5, 6}\n"
     ]
    }
   ],
   "source": [
    "#2. Add an element to a set\n",
    "\n",
    "my_set = {1,2,3,4,5}\n",
    "\n",
    "my_set.add(6)\n",
    "\n",
    "print(my_set)"
   ]
  },
  {
   "cell_type": "code",
   "execution_count": 5,
   "id": "c261ce51-8d9b-48f4-b612-10975240382a",
   "metadata": {},
   "outputs": [
    {
     "name": "stdout",
     "output_type": "stream",
     "text": [
      "{1, 2, 3, 4}\n"
     ]
    }
   ],
   "source": [
    "#3. Remove an element from a set.\n",
    "\n",
    "my_set = {1,2,3,4,5}\n",
    "\n",
    "my_set.remove(5)\n",
    "\n",
    "print(my_set)"
   ]
  },
  {
   "cell_type": "code",
   "execution_count": 6,
   "id": "c639e934-98cf-43e4-ae71-9b28983dc73d",
   "metadata": {},
   "outputs": [
    {
     "name": "stdout",
     "output_type": "stream",
     "text": [
      "element exists\n"
     ]
    }
   ],
   "source": [
    "#4. Check if an element exists in a set.\n",
    "\n",
    "my_set = {1,2,3,4,5}\n",
    "\n",
    "check_ele = 5\n",
    "\n",
    "if check_ele in my_set:\n",
    "    print(\"element exists\")\n",
    "else : \n",
    "    print(\"element not exists\")"
   ]
  },
  {
   "cell_type": "code",
   "execution_count": 7,
   "id": "e15d61f0-acb3-4703-b49e-420ea9577c3e",
   "metadata": {},
   "outputs": [
    {
     "name": "stdout",
     "output_type": "stream",
     "text": [
      "5\n"
     ]
    }
   ],
   "source": [
    "#5. Find the length of a set without using the `len()` function.\n",
    "\n",
    "my_set = {1,2,3,4,5}\n",
    "\n",
    "count = 0\n",
    "\n",
    "for _ in my_set:\n",
    "    count += 1\n",
    "\n",
    "print(count)"
   ]
  },
  {
   "cell_type": "code",
   "execution_count": 8,
   "id": "2544cd86-fa03-4a6e-b3ed-90dcdb8d040a",
   "metadata": {},
   "outputs": [
    {
     "name": "stdout",
     "output_type": "stream",
     "text": [
      "set()\n"
     ]
    }
   ],
   "source": [
    "#6. Clear all elements from a set.\n",
    "\n",
    "my_set = {1,2,3,4,5}\n",
    "\n",
    "my_set.clear()\n",
    "\n",
    "print(my_set)"
   ]
  },
  {
   "cell_type": "code",
   "execution_count": 9,
   "id": "4f38515c-1662-4fbf-bdda-1de29b6e27c7",
   "metadata": {},
   "outputs": [
    {
     "name": "stdout",
     "output_type": "stream",
     "text": [
      "{2, 4, 6, 8, 10}\n"
     ]
    }
   ],
   "source": [
    "#7. Create a set of even numbers from 1 to 10.\n",
    "\n",
    "even_set = []\n",
    "\n",
    "for i in range(1, 11):\n",
    "    if i % 2 == 0:\n",
    "        even_set.append(i)\n",
    "\n",
    "even_set = set(even_set)\n",
    "\n",
    "print(even_set)"
   ]
  },
  {
   "cell_type": "code",
   "execution_count": 10,
   "id": "92d37c11-4899-474f-995f-c8478ab42b0c",
   "metadata": {},
   "outputs": [
    {
     "name": "stdout",
     "output_type": "stream",
     "text": [
      "{1, 3, 5, 7, 9}\n"
     ]
    }
   ],
   "source": [
    "#8. Create a set of odd numbers from 1 to 10.\n",
    "\n",
    "odd_set = []\n",
    "\n",
    "for i in range(1, 11):\n",
    "    if i % 2 != 0:\n",
    "        odd_set.append(i)\n",
    "\n",
    "odd_set = set(odd_set)\n",
    "\n",
    "print(odd_set)"
   ]
  },
  {
   "cell_type": "code",
   "execution_count": 11,
   "id": "8b2755e2-2844-48f4-8f7f-b29deff19453",
   "metadata": {},
   "outputs": [
    {
     "name": "stdout",
     "output_type": "stream",
     "text": [
      "{1, 2, 3, 4, 5, 6, 7}\n"
     ]
    }
   ],
   "source": [
    "#9. Find the union of two sets.\n",
    "\n",
    "set1 = {1, 2, 3, 4, 5}\n",
    "set2 = {3, 4, 5, 6, 7}\n",
    "\n",
    "union_set = set1.union(set2)\n",
    "\n",
    "print(union_set)"
   ]
  },
  {
   "cell_type": "code",
   "execution_count": 12,
   "id": "3ffe83fa-d2cb-47df-9768-05e058ea8416",
   "metadata": {},
   "outputs": [
    {
     "name": "stdout",
     "output_type": "stream",
     "text": [
      "{3, 4, 5}\n"
     ]
    }
   ],
   "source": [
    "#10. Find the intersection of two sets.\n",
    "\n",
    "set1 = {1, 2, 3, 4, 5}\n",
    "set2 = {3, 4, 5, 6, 7}\n",
    "\n",
    "intersection_set = set1.intersection(set2)\n",
    "\n",
    "print(intersection_set)"
   ]
  },
  {
   "cell_type": "code",
   "execution_count": 14,
   "id": "855ec5d0-5a13-4610-b2a8-731864820584",
   "metadata": {},
   "outputs": [
    {
     "name": "stdout",
     "output_type": "stream",
     "text": [
      "{1, 2}\n",
      "{6, 7}\n"
     ]
    }
   ],
   "source": [
    "#11. Find the difference between two sets.\n",
    "\n",
    "#set1-set2\n",
    "set1 = {1, 2, 3, 4, 5}\n",
    "set2 = {3, 4, 5, 6, 7}\n",
    "\n",
    "difference_set = set1.difference(set2)\n",
    "\n",
    "print(difference_set)\n",
    "\n",
    "#set2_set1\n",
    "set1 = {1, 2, 3, 4, 5}\n",
    "set2 = {3, 4, 5, 6, 7}\n",
    "\n",
    "difference_set = set2.difference(set1)\n",
    "\n",
    "print(difference_set)"
   ]
  },
  {
   "cell_type": "code",
   "execution_count": 15,
   "id": "7d279af6-9fe4-4ea2-ae0a-32a7cdd9725e",
   "metadata": {},
   "outputs": [
    {
     "name": "stdout",
     "output_type": "stream",
     "text": [
      "set1 is subset of set2\n"
     ]
    }
   ],
   "source": [
    "#12. Check if a set is a subset of another set.\n",
    "\n",
    "set1 = {1, 2, 3}\n",
    "set2 = {1, 2, 3, 4, 5}\n",
    "\n",
    "subset = set1.issubset(set2)\n",
    "\n",
    "if subset :\n",
    "    print(\"set1 is subset of set2\")\n",
    "else:\n",
    "    print(\"set1 is not subset of set2\")"
   ]
  },
  {
   "cell_type": "code",
   "execution_count": 16,
   "id": "f661ffe5-2d81-4474-aec0-4269802c0f4a",
   "metadata": {},
   "outputs": [
    {
     "name": "stdout",
     "output_type": "stream",
     "text": [
      "set1 is not superset of set2\n"
     ]
    }
   ],
   "source": [
    "#13. Check if a set is a superset of another set.\n",
    "\n",
    "\n",
    "set1 = {1, 2, 3}\n",
    "set2 = {1, 2, 3, 4, 5}\n",
    "\n",
    "superset = set1.issuperset(set2)\n",
    "\n",
    "if superset:\n",
    "    print(\"set1 is superset of set2\")\n",
    "else:\n",
    "    print(\"set1 is not superset of set2\")"
   ]
  },
  {
   "cell_type": "code",
   "execution_count": 17,
   "id": "ec992538-4116-41ab-baaa-35a4e4e9c61d",
   "metadata": {},
   "outputs": [
    {
     "name": "stdout",
     "output_type": "stream",
     "text": [
      "{1, 2, 3, 4, 5}\n"
     ]
    }
   ],
   "source": [
    "#14. Create a set from a list.\n",
    "\n",
    "my_list = [1,2,3,4,5]\n",
    "\n",
    "my_set = set(my_list)\n",
    "\n",
    "print(my_set)"
   ]
  },
  {
   "cell_type": "code",
   "execution_count": 18,
   "id": "85be3ac5-9238-4102-9a78-2875b848223a",
   "metadata": {},
   "outputs": [
    {
     "name": "stdout",
     "output_type": "stream",
     "text": [
      "[1, 2, 3, 4, 5]\n"
     ]
    }
   ],
   "source": [
    "#15. Convert a set to a list.\n",
    "\n",
    "my_set = {1,2,3,4,5}\n",
    "\n",
    "my_list = list(my_set)\n",
    "\n",
    "print(my_list)"
   ]
  },
  {
   "cell_type": "code",
   "execution_count": 19,
   "id": "0c4917b6-b559-46a2-972f-051014692de5",
   "metadata": {},
   "outputs": [
    {
     "name": "stdout",
     "output_type": "stream",
     "text": [
      "1\n",
      "{2, 3, 4, 5}\n"
     ]
    }
   ],
   "source": [
    "#16. Remove a random element from a set.\n",
    "\n",
    "my_set = {1,2,3,4,5}\n",
    "\n",
    "random_element = my_set.pop()\n",
    "\n",
    "print(random_element)\n",
    "print(my_set)"
   ]
  },
  {
   "cell_type": "code",
   "execution_count": 20,
   "id": "40be4b68-c42e-4d74-aab2-a38e029d1022",
   "metadata": {},
   "outputs": [
    {
     "name": "stdout",
     "output_type": "stream",
     "text": [
      "1\n",
      "{2, 3, 4, 5}\n"
     ]
    }
   ],
   "source": [
    "#17. Pop an element from a set.\n",
    "\n",
    "my_set = {1,2,3,4,5}\n",
    "\n",
    "popped_element = my_set.pop()\n",
    "\n",
    "print(popped_element)\n",
    "print(my_set)"
   ]
  },
  {
   "cell_type": "code",
   "execution_count": 21,
   "id": "05fb722a-6d99-4875-943a-ecd7c96089ac",
   "metadata": {},
   "outputs": [
    {
     "name": "stdout",
     "output_type": "stream",
     "text": [
      "the sets have no elements in common\n"
     ]
    }
   ],
   "source": [
    "#18. Check if two sets have no elements in common\n",
    "\n",
    "set1 = {1, 2, 3}\n",
    "set2 = {4, 5, 6}\n",
    "\n",
    "no_common_ele = set1.isdisjoint(set2)\n",
    "\n",
    "if no_common_ele:\n",
    "    print(\"the sets have no elements in common\")\n",
    "else:\n",
    "    print(\"the sets have some elements in common\")"
   ]
  },
  {
   "cell_type": "code",
   "execution_count": 23,
   "id": "e224d0f3-9611-4cae-b878-1cb8026bae34",
   "metadata": {},
   "outputs": [
    {
     "name": "stdout",
     "output_type": "stream",
     "text": [
      "{1, 2, 6, 7}\n"
     ]
    }
   ],
   "source": [
    "#19. Find the symmetric difference between two sets.\n",
    "\n",
    "set1 = {1, 2, 3, 4, 5}\n",
    "set2 = {3, 4, 5, 6, 7}\n",
    "\n",
    "symmetric_diff = set1.symmetric_difference(set2)\n",
    "\n",
    "print(symmetric_diff)"
   ]
  },
  {
   "cell_type": "code",
   "execution_count": 24,
   "id": "186bc36b-a091-43f1-8d97-e1dede0d1703",
   "metadata": {},
   "outputs": [
    {
     "name": "stdout",
     "output_type": "stream",
     "text": [
      "{1, 2, 3, 4, 5, 6, 7}\n"
     ]
    }
   ],
   "source": [
    "#20. Update a set with elements from another set.\n",
    "\n",
    "set1 = {1, 2, 3, 4, 5}\n",
    "set2 = {3, 4, 5, 6, 7}\n",
    "\n",
    "set1.update(set2)\n",
    "\n",
    "print(set1)"
   ]
  },
  {
   "cell_type": "code",
   "execution_count": 25,
   "id": "0b6c6081-64fb-4543-bbfc-ac7b1a72e332",
   "metadata": {},
   "outputs": [],
   "source": [
    "#21. Create a set of the first 5 prime numbers.\n",
    "\n",
    "prime_numbers = {2, 3, 5, 7, 11}"
   ]
  },
  {
   "cell_type": "code",
   "execution_count": 26,
   "id": "1e213503-4a12-43c9-9761-282c6a66709f",
   "metadata": {},
   "outputs": [
    {
     "name": "stdout",
     "output_type": "stream",
     "text": [
      "sets are not identical\n"
     ]
    }
   ],
   "source": [
    "#22. Check if two sets are identical.\n",
    "\n",
    "set1 = {1, 2, 3, 4, 5}\n",
    "set2 = {3, 4, 5, 6, 7}\n",
    "\n",
    "if set1 == set2 :\n",
    "    print(\"sets are identical\")\n",
    "else:\n",
    "    print(\"sets are not identical\")"
   ]
  },
  {
   "cell_type": "code",
   "execution_count": 27,
   "id": "356b7397-d0fe-4673-8336-d2430fc1f707",
   "metadata": {},
   "outputs": [
    {
     "name": "stdout",
     "output_type": "stream",
     "text": [
      "frozenset({1, 2, 3, 4, 5})\n"
     ]
    }
   ],
   "source": [
    "#23. Create a frozen set.\n",
    "\n",
    "my_set = {1, 2, 3, 4, 5}\n",
    "\n",
    "frozen_set = frozenset(my_set)\n",
    "\n",
    "print(frozen_set)"
   ]
  },
  {
   "cell_type": "code",
   "execution_count": 29,
   "id": "5b9abe73-3ba4-4b5d-8b9a-517a7ff17a9f",
   "metadata": {},
   "outputs": [
    {
     "name": "stdout",
     "output_type": "stream",
     "text": [
      "set1 have some common elements in set2\n"
     ]
    }
   ],
   "source": [
    "#24. Check if a set is disjoint with another set.\n",
    "\n",
    "set1 = {1, 2, 3, 4, 5}\n",
    "set2 = {3, 4, 5, 6, 7}\n",
    "\n",
    "if set1.isdisjoint(set2) :\n",
    "    print(\"set1 have no common elements in set2\")\n",
    "else:\n",
    "    print(\"set1 have some common elements in set2\")"
   ]
  },
  {
   "cell_type": "code",
   "execution_count": 30,
   "id": "42e60610-9ee2-47b9-8414-b4eb0a977704",
   "metadata": {},
   "outputs": [
    {
     "name": "stdout",
     "output_type": "stream",
     "text": [
      "{1, 4, 9, 16, 25}\n"
     ]
    }
   ],
   "source": [
    "#25. Create a set of squares of numbers from 1 to 5.\n",
    "\n",
    "squares_numbers = set()\n",
    "\n",
    "for i in range(1, 6):\n",
    "    square = i ** 2\n",
    "    squares_numbers.add(square)\n",
    "\n",
    "print(squares_numbers)"
   ]
  },
  {
   "cell_type": "code",
   "execution_count": 1,
   "id": "c3233b31-b07d-4bb9-8106-a30c907560cd",
   "metadata": {},
   "outputs": [
    {
     "name": "stdout",
     "output_type": "stream",
     "text": [
      "{1, 3, 5}\n"
     ]
    }
   ],
   "source": [
    "#26. Filter out all even numbers from a set.\n",
    "\n",
    "my_set = {1, 2, 3, 4, 5}\n",
    "\n",
    "filtered_set = set()\n",
    "\n",
    "for i in my_set:\n",
    "    if i % 2 != 0:\n",
    "        filtered_set.add(i)\n",
    "\n",
    "print(filtered_set)"
   ]
  },
  {
   "cell_type": "code",
   "execution_count": 2,
   "id": "78fb6082-5150-4bc6-9d62-fc10e539a235",
   "metadata": {},
   "outputs": [
    {
     "name": "stdout",
     "output_type": "stream",
     "text": [
      "{2, 4, 6, 8, 10}\n"
     ]
    }
   ],
   "source": [
    "#27. Multiply all elements in a set by 2.\n",
    "\n",
    "my_set = {1, 2, 3, 4, 5}\n",
    "\n",
    "multiply_set = set()\n",
    "\n",
    "for i in my_set:\n",
    "    multiply_set.add(i*2)\n",
    "\n",
    "print(multiply_set)"
   ]
  },
  {
   "cell_type": "code",
   "execution_count": 3,
   "id": "409a3ea5-e1b0-4fba-a830-c4b112f49063",
   "metadata": {},
   "outputs": [
    {
     "name": "stdout",
     "output_type": "stream",
     "text": [
      "{3, 9, 10, 11, 45, 19, 52, 88, 89, 94}\n"
     ]
    }
   ],
   "source": [
    "#28. Create a set of random numbers.\n",
    "\n",
    "import random\n",
    "\n",
    "my_set = set()\n",
    "\n",
    "for _ in range(10):\n",
    "    random_numbers = random.randint(1, 100)\n",
    "    my_set.add(random_numbers)\n",
    "\n",
    "print(my_set)"
   ]
  },
  {
   "cell_type": "code",
   "execution_count": 4,
   "id": "0ba2d701-13a6-4326-a4a6-38f243822f12",
   "metadata": {},
   "outputs": [
    {
     "name": "stdout",
     "output_type": "stream",
     "text": [
      "set is not empty\n"
     ]
    }
   ],
   "source": [
    "#29. Check if a set is empty.\n",
    "\n",
    "my_set = {1, 2, 3, 4, 5}\n",
    "\n",
    "if len(my_set) == 0:\n",
    "    print(\"set is empty\")\n",
    "else:\n",
    "    print(\"set is not empty\")"
   ]
  },
  {
   "cell_type": "code",
   "execution_count": 5,
   "id": "3504221b-06d8-4a88-b537-859c2f3e8476",
   "metadata": {},
   "outputs": [
    {
     "name": "stdout",
     "output_type": "stream",
     "text": [
      "frozenset({1, 2, 3})\n"
     ]
    }
   ],
   "source": [
    "#30. Create a nested set (hint: use frozenset).\n",
    "\n",
    "my_set = {1,2,3}\n",
    "\n",
    "nested_set = frozenset(my_set)\n",
    "\n",
    "print(nested_set)"
   ]
  },
  {
   "cell_type": "code",
   "execution_count": 6,
   "id": "4adc088a-54b0-42ba-8b9d-6240fcd2cf86",
   "metadata": {},
   "outputs": [
    {
     "name": "stdout",
     "output_type": "stream",
     "text": [
      "{1, 2, 3, 5}\n"
     ]
    }
   ],
   "source": [
    "#31. Remove an element from a set using the discard method.\n",
    "\n",
    "my_set = {1, 2, 3, 4, 5}\n",
    "\n",
    "my_set.discard(4)\n",
    "\n",
    "print(my_set)"
   ]
  },
  {
   "cell_type": "code",
   "execution_count": 7,
   "id": "896880ce-0130-40d0-afda-6f46b18829aa",
   "metadata": {},
   "outputs": [
    {
     "name": "stdout",
     "output_type": "stream",
     "text": [
      "sets are equal\n"
     ]
    }
   ],
   "source": [
    "#32. Compare two sets\n",
    "\n",
    "set1 = {1, 2, 3}\n",
    "set2 = {3, 2, 1}\n",
    "\n",
    "if set1 == set2 :\n",
    "    print(\"sets are equal\")\n",
    "else:\n",
    "    print(\"sets are not equal\")"
   ]
  },
  {
   "cell_type": "code",
   "execution_count": 8,
   "id": "bc819301-1b85-4c68-ba34-4c6852d10b3f",
   "metadata": {},
   "outputs": [
    {
     "name": "stdout",
     "output_type": "stream",
     "text": [
      "{'a', 'r', 'o', 't', 'u', 'N'}\n"
     ]
    }
   ],
   "source": [
    "#33. Create a set from a string.\n",
    "\n",
    "my_string = (\"Naruto\")\n",
    "\n",
    "my_set = set()\n",
    "\n",
    "for char in my_string:\n",
    "    my_set.add(char)\n",
    "\n",
    "print(my_set)"
   ]
  },
  {
   "cell_type": "code",
   "execution_count": 9,
   "id": "48c9ce01-6658-4f0d-98c7-abd58f4907c5",
   "metadata": {},
   "outputs": [
    {
     "name": "stdout",
     "output_type": "stream",
     "text": [
      "{1, 2, 3, 4, 5}\n"
     ]
    }
   ],
   "source": [
    "#34. Convert a set of strings to a set of integers.\n",
    "\n",
    "string_set = {\"1\", \"2\", \"3\", \"4\", \"5\"}\n",
    "\n",
    "int_set = {int(s) for s in string_set}\n",
    "\n",
    "print(int_set)"
   ]
  },
  {
   "cell_type": "code",
   "execution_count": 10,
   "id": "3c573c7d-c43e-4711-bc78-3ae6f27efc1a",
   "metadata": {},
   "outputs": [
    {
     "name": "stdout",
     "output_type": "stream",
     "text": [
      "{'2', '3', '1', '5', '4'}\n"
     ]
    }
   ],
   "source": [
    "#35. Convert a set of integers to a set of strings.\n",
    "\n",
    "int_set = {1, 2, 3, 4, 5}\n",
    "\n",
    "string_set = {str(num) for num in int_set}\n",
    "\n",
    "print(string_set)"
   ]
  },
  {
   "cell_type": "code",
   "execution_count": 11,
   "id": "1cd41769-6090-4490-88eb-bff54d2e2feb",
   "metadata": {},
   "outputs": [
    {
     "name": "stdout",
     "output_type": "stream",
     "text": [
      "{1, 2, 3, 4, 5}\n"
     ]
    }
   ],
   "source": [
    "#36. Create a set from a tuple.\n",
    "\n",
    "my_tuple = (1,2,3,4,5)\n",
    "\n",
    "my_set = set(my_tuple)\n",
    "\n",
    "print(my_set)"
   ]
  },
  {
   "cell_type": "code",
   "execution_count": 12,
   "id": "40824ca7-e8fb-4a78-9bba-e6b1022c7d7f",
   "metadata": {},
   "outputs": [
    {
     "name": "stdout",
     "output_type": "stream",
     "text": [
      "(1, 2, 3, 4, 5)\n"
     ]
    }
   ],
   "source": [
    "#37. Convert a set to a tuple.\n",
    "\n",
    "my_set = {1, 2, 3, 4, 5}\n",
    "\n",
    "my_tuple = tuple(my_set)\n",
    "\n",
    "print(my_tuple)"
   ]
  },
  {
   "cell_type": "code",
   "execution_count": 13,
   "id": "7f738a31-c9e2-44b5-9a07-f2d371f54596",
   "metadata": {},
   "outputs": [
    {
     "name": "stdout",
     "output_type": "stream",
     "text": [
      "5\n"
     ]
    }
   ],
   "source": [
    "#38. Find the maximum value in a set.\n",
    "\n",
    "my_set = {1, 2, 3, 4, 5}\n",
    "\n",
    "max_value = max(my_set)\n",
    "\n",
    "print(max_value)"
   ]
  },
  {
   "cell_type": "code",
   "execution_count": 14,
   "id": "ee69a0c1-3598-4054-9aa3-87b8d679ad2e",
   "metadata": {},
   "outputs": [
    {
     "name": "stdout",
     "output_type": "stream",
     "text": [
      "1\n"
     ]
    }
   ],
   "source": [
    "#39. Find the minimum value in a set.\n",
    "\n",
    "my_set = {1,2,3,4,5}\n",
    "\n",
    "min_value = min(my_set)\n",
    "\n",
    "print(min_value)"
   ]
  },
  {
   "cell_type": "code",
   "execution_count": 15,
   "id": "4cdf56f9-793e-40b7-add8-0e34b2f56a73",
   "metadata": {},
   "outputs": [
    {
     "name": "stdin",
     "output_type": "stream",
     "text": [
      "enter the set elements 1,2,3,4,5\n"
     ]
    },
    {
     "name": "stdout",
     "output_type": "stream",
     "text": [
      "{'1,2,3,4,5'}\n"
     ]
    }
   ],
   "source": [
    "#40. Create a set from user input.\n",
    "\n",
    "\n",
    "user_input = input(\"enter the set elements\")\n",
    "user_set_list = user_input.split()\n",
    "\n",
    "user_set = set(user_set_list)\n",
    "\n",
    "print(user_set)"
   ]
  },
  {
   "cell_type": "code",
   "execution_count": 18,
   "id": "f3d689f7-84a3-4915-b966-be21015c3d0c",
   "metadata": {},
   "outputs": [
    {
     "name": "stdout",
     "output_type": "stream",
     "text": [
      "The intersection of set1 and set2 is not empty (they have some elements in common).\n"
     ]
    }
   ],
   "source": [
    "#41. Check if the intersection of two sets is empty.\n",
    "\n",
    "set1 = {1, 2, 3, 4, 5}\n",
    "set2 = {4, 5, 6, 7, 8}\n",
    "\n",
    "if set1.isdisjoint(set2):\n",
    "    print(\"The intersection of set1 and set2 is empty (they have no elements in common).\")\n",
    "else:\n",
    "    print(\"The intersection of set1 and set2 is not empty (they have some elements in common).\")\n"
   ]
  },
  {
   "cell_type": "code",
   "execution_count": 19,
   "id": "59b96892-239a-42de-8015-6cb15709232f",
   "metadata": {},
   "outputs": [
    {
     "name": "stdout",
     "output_type": "stream",
     "text": [
      "{0, 1, 2, 3, 5}\n"
     ]
    }
   ],
   "source": [
    "#42. Create a set of the first 5 Fibonacci numbers\n",
    "\n",
    "fibonacci_set = set()\n",
    "\n",
    "a,b = 0,1\n",
    "\n",
    "for _ in range(6):\n",
    "    fibonacci_set.add(a)\n",
    "    a,b = b,a+b\n",
    "\n",
    "print(fibonacci_set)"
   ]
  },
  {
   "cell_type": "code",
   "execution_count": 20,
   "id": "72276326-e63a-44dc-abef-738ed6f4ff76",
   "metadata": {},
   "outputs": [
    {
     "name": "stdout",
     "output_type": "stream",
     "text": [
      "[1, 2, 3, 4, 5]\n"
     ]
    }
   ],
   "source": [
    "#43. Remove duplicates from a list using sets.\n",
    "\n",
    "my_list = [1, 2, 2, 3, 4, 4, 5, 5]\n",
    "\n",
    "my_set = set(my_list)\n",
    "\n",
    "unique_list = list(my_set)\n",
    "\n",
    "print(unique_list)"
   ]
  },
  {
   "cell_type": "code",
   "execution_count": 21,
   "id": "6e13f6c3-736a-45f7-8011-c409fef81f44",
   "metadata": {},
   "outputs": [
    {
     "name": "stdout",
     "output_type": "stream",
     "text": [
      "two sets do not have  common elemnets\n"
     ]
    }
   ],
   "source": [
    "#44. Check if two sets have the same elements, regardless of their count\n",
    "\n",
    "set1 = {1, 2, 3, 4, 5}\n",
    "set2 = {4, 5, 6, 7, 8}\n",
    "\n",
    "if set1 == set2:\n",
    "    print(\"two sets have common elements (regardless of their count)\")\n",
    "else:\n",
    "    print(\"two sets do not have  common elemnets\")"
   ]
  },
  {
   "cell_type": "code",
   "execution_count": 22,
   "id": "db339fff-4e7d-4bba-8679-8fb5a261ad6c",
   "metadata": {},
   "outputs": [
    {
     "name": "stdout",
     "output_type": "stream",
     "text": [
      "{0, 1, 4, 36, 9, 16, 25}\n"
     ]
    }
   ],
   "source": [
    "#45. Create a set of the first `n` powers of 2.\n",
    "\n",
    "n = 7\n",
    "\n",
    "power_2 = set()\n",
    "\n",
    "for i in range(n):\n",
    "    power_2.add(i ** 2)\n",
    "\n",
    "print(power_2)"
   ]
  },
  {
   "cell_type": "code",
   "execution_count": 23,
   "id": "d79f4b25-f50f-46cf-9e18-270b6fb38ae2",
   "metadata": {},
   "outputs": [
    {
     "name": "stdout",
     "output_type": "stream",
     "text": [
      "{3, 4, 5}\n"
     ]
    }
   ],
   "source": [
    "#46. Find the common elements between a set and a list.\n",
    "\n",
    "my_set = {1, 2, 3, 4, 5}\n",
    "my_list = [3, 4, 5, 6, 7]\n",
    "\n",
    "common_elements = my_set.intersection(my_list)\n",
    "\n",
    "print(common_elements)"
   ]
  },
  {
   "cell_type": "code",
   "execution_count": 26,
   "id": "f97eb9ed-2537-41be-9e88-f995dbf6bf41",
   "metadata": {},
   "outputs": [
    {
     "name": "stdout",
     "output_type": "stream",
     "text": [
      "{1, 3, 36, 6, 10, 15, 21, 28}\n"
     ]
    }
   ],
   "source": [
    "#47. Create a set of the first `n` triangular numbers.\n",
    "\n",
    "n = 8\n",
    "\n",
    "triangular_set = set()\n",
    "\n",
    "for i in range(1, n+1):\n",
    "    triangular_number = (i * (i +1) // 2)\n",
    "    triangular_set.add(triangular_number)\n",
    "\n",
    "print(triangular_set)"
   ]
  },
  {
   "cell_type": "code",
   "execution_count": 27,
   "id": "cac93f5b-5faf-4654-833b-875fdda7a888",
   "metadata": {},
   "outputs": [
    {
     "name": "stdout",
     "output_type": "stream",
     "text": [
      "set1 is not subset of set2\n"
     ]
    }
   ],
   "source": [
    "#48. Check if a set contains another set as a subset.\n",
    "\n",
    "set1 = {1, 2, 3, 4, 5}\n",
    "set2 = {4, 5, 6, 7, 8}\n",
    "\n",
    "if set1.issubset(set2):\n",
    "    print(\"set1 is subset of set2\")\n",
    "else:\n",
    "    print(\"set1 is not subset of set2\")"
   ]
  },
  {
   "cell_type": "code",
   "execution_count": 28,
   "id": "1496475d-a09f-482f-af23-8a41cc3cfa20",
   "metadata": {},
   "outputs": [
    {
     "name": "stdout",
     "output_type": "stream",
     "text": [
      "{0, 1}\n"
     ]
    }
   ],
   "source": [
    "#49. Create a set of alternating 1s and 0s of length `n`.\n",
    "\n",
    "n = 12\n",
    "\n",
    "alternating_set = set()\n",
    "\n",
    "for i in range(n):\n",
    "    alternating_set.add(i % 2)\n",
    "\n",
    "print(alternating_set)"
   ]
  },
  {
   "cell_type": "code",
   "execution_count": 29,
   "id": "34b0dfef-33b5-4554-a04a-361e347ddc20",
   "metadata": {},
   "outputs": [
    {
     "name": "stdout",
     "output_type": "stream",
     "text": [
      "{1, 2, 3, 4, 5, 6, 7, 8}\n"
     ]
    }
   ],
   "source": [
    "#50. Merge multiple sets into one\n",
    "\n",
    "set1 = {1, 2, 3, 4, 5}\n",
    "set2 = {4, 5, 6, 7, 8}\n",
    "\n",
    "merged_set = set1 | set2\n",
    "\n",
    "print(merged_set)"
   ]
  },
  {
   "cell_type": "code",
   "execution_count": null,
   "id": "43f7e621-19b6-4ba4-a37f-9873fe0eeabc",
   "metadata": {},
   "outputs": [],
   "source": []
  }
 ],
 "metadata": {
  "kernelspec": {
   "display_name": "Python 3 (ipykernel)",
   "language": "python",
   "name": "python3"
  },
  "language_info": {
   "codemirror_mode": {
    "name": "ipython",
    "version": 3
   },
   "file_extension": ".py",
   "mimetype": "text/x-python",
   "name": "python",
   "nbconvert_exporter": "python",
   "pygments_lexer": "ipython3",
   "version": "3.10.8"
  }
 },
 "nbformat": 4,
 "nbformat_minor": 5
}
